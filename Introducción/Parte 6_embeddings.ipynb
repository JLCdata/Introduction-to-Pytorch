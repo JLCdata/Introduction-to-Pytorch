{
  "nbformat": 4,
  "nbformat_minor": 0,
  "metadata": {
    "colab": {
      "name": "Tutorial_Pytorch_Embeddings.ipynb",
      "provenance": [],
      "collapsed_sections": []
    },
    "kernelspec": {
      "name": "python3",
      "display_name": "Python 3"
    },
    "language_info": {
      "name": "python"
    }
  },
  "cells": [
    {
      "cell_type": "markdown",
      "source": [
        "# Embeddings"
      ],
      "metadata": {
        "id": "CYQRjpu6xL8G"
      }
    },
    {
      "cell_type": "code",
      "execution_count": null,
      "metadata": {
        "id": "hHHXXu5GnkUg"
      },
      "outputs": [],
      "source": [
        "import torch\n",
        "import torch.nn as nn"
      ]
    },
    {
      "cell_type": "code",
      "source": [
        "embeds=nn.Embedding(2,10) # 2 words in vocab, 10 dimensional embeddings\n",
        "\n",
        "print(embeds.weight)\n",
        "print(embeds.weight.shape)"
      ],
      "metadata": {
        "colab": {
          "base_uri": "https://localhost:8080/"
        },
        "id": "hhHbgDcJun8r",
        "outputId": "c17b22fa-e6ee-4b89-c48d-6c839cf9e33b"
      },
      "execution_count": null,
      "outputs": [
        {
          "output_type": "stream",
          "name": "stdout",
          "text": [
            "Parameter containing:\n",
            "tensor([[ 1.5263, -0.2119,  0.1418,  0.4774, -0.6002,  2.3424, -1.0802,  0.0156,\n",
            "          2.1953, -1.2679],\n",
            "        [ 0.1563, -0.3765, -0.5474,  0.5681, -0.7988, -2.4929,  0.9906, -0.6768,\n",
            "         -0.6133,  2.1027]], requires_grad=True)\n",
            "torch.Size([2, 10])\n"
          ]
        }
      ]
    },
    {
      "cell_type": "code",
      "source": [
        "word_to_idx={\"hello\":0,\"world\":1}\n",
        "sentence=\"hello hello world\"\n",
        "words=sentence.split()\n",
        "print(words)"
      ],
      "metadata": {
        "colab": {
          "base_uri": "https://localhost:8080/"
        },
        "id": "w9V4w0ijxBPj",
        "outputId": "29c6f4e9-df13-4bb6-c8e4-64a8fec0bb99"
      },
      "execution_count": null,
      "outputs": [
        {
          "output_type": "stream",
          "name": "stdout",
          "text": [
            "['hello', 'hello', 'world']\n"
          ]
        }
      ]
    },
    {
      "cell_type": "code",
      "source": [
        "indices=[word_to_idx[w] for w in words]\n",
        "print(indices)"
      ],
      "metadata": {
        "colab": {
          "base_uri": "https://localhost:8080/"
        },
        "id": "-6Bs9spHyn-5",
        "outputId": "9562865d-5436-4120-9ae6-fbe34f32a70c"
      },
      "execution_count": null,
      "outputs": [
        {
          "output_type": "stream",
          "name": "stdout",
          "text": [
            "[0, 0, 1]\n"
          ]
        }
      ]
    },
    {
      "cell_type": "code",
      "source": [
        "indices_tensor=torch.tensor(indices,dtype=torch.long)\n",
        "indices_tensor"
      ],
      "metadata": {
        "colab": {
          "base_uri": "https://localhost:8080/"
        },
        "id": "aTNP72C3zFtt",
        "outputId": "aa4a7392-4815-4714-aca2-4e68096c50c1"
      },
      "execution_count": null,
      "outputs": [
        {
          "output_type": "execute_result",
          "data": {
            "text/plain": [
              "tensor([0, 0, 1])"
            ]
          },
          "metadata": {},
          "execution_count": 39
        }
      ]
    },
    {
      "cell_type": "code",
      "source": [
        "emb=embeds(indices_tensor)\n",
        "print(emb.shape)\n",
        "print(emb)"
      ],
      "metadata": {
        "colab": {
          "base_uri": "https://localhost:8080/"
        },
        "id": "vIuUzn-xzh8y",
        "outputId": "a2f1d4af-c1ab-43ed-9b15-23c23669ac74"
      },
      "execution_count": null,
      "outputs": [
        {
          "output_type": "stream",
          "name": "stdout",
          "text": [
            "torch.Size([3, 10])\n",
            "tensor([[ 1.5263, -0.2119,  0.1418,  0.4774, -0.6002,  2.3424, -1.0802,  0.0156,\n",
            "          2.1953, -1.2679],\n",
            "        [ 1.5263, -0.2119,  0.1418,  0.4774, -0.6002,  2.3424, -1.0802,  0.0156,\n",
            "          2.1953, -1.2679],\n",
            "        [ 0.1563, -0.3765, -0.5474,  0.5681, -0.7988, -2.4929,  0.9906, -0.6768,\n",
            "         -0.6133,  2.1027]], grad_fn=<EmbeddingBackward0>)\n"
          ]
        }
      ]
    },
    {
      "cell_type": "code",
      "source": [
        ""
      ],
      "metadata": {
        "id": "VyCgdZzIznOH"
      },
      "execution_count": null,
      "outputs": []
    }
  ]
}