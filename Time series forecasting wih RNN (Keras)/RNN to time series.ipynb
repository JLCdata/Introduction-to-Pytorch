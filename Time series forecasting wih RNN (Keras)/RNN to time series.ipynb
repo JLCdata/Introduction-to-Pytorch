{
 "cells": [
  {
   "cell_type": "markdown",
   "metadata": {},
   "source": [
    "# RNN with time series"
   ]
  },
  {
   "cell_type": "code",
   "execution_count": 15,
   "metadata": {},
   "outputs": [
    {
     "data": {
      "text/html": [
       "<div>\n",
       "<style scoped>\n",
       "    .dataframe tbody tr th:only-of-type {\n",
       "        vertical-align: middle;\n",
       "    }\n",
       "\n",
       "    .dataframe tbody tr th {\n",
       "        vertical-align: top;\n",
       "    }\n",
       "\n",
       "    .dataframe thead th {\n",
       "        text-align: right;\n",
       "    }\n",
       "</style>\n",
       "<table border=\"1\" class=\"dataframe\">\n",
       "  <thead>\n",
       "    <tr style=\"text-align: right;\">\n",
       "      <th></th>\n",
       "      <th>datesold</th>\n",
       "      <th>postcode</th>\n",
       "      <th>price</th>\n",
       "      <th>propertyType</th>\n",
       "      <th>bedrooms</th>\n",
       "    </tr>\n",
       "  </thead>\n",
       "  <tbody>\n",
       "    <tr>\n",
       "      <th>0</th>\n",
       "      <td>2007-02-07 00:00:00</td>\n",
       "      <td>2607</td>\n",
       "      <td>525000</td>\n",
       "      <td>house</td>\n",
       "      <td>4</td>\n",
       "    </tr>\n",
       "    <tr>\n",
       "      <th>1</th>\n",
       "      <td>2007-02-27 00:00:00</td>\n",
       "      <td>2906</td>\n",
       "      <td>290000</td>\n",
       "      <td>house</td>\n",
       "      <td>3</td>\n",
       "    </tr>\n",
       "    <tr>\n",
       "      <th>2</th>\n",
       "      <td>2007-03-07 00:00:00</td>\n",
       "      <td>2905</td>\n",
       "      <td>328000</td>\n",
       "      <td>house</td>\n",
       "      <td>3</td>\n",
       "    </tr>\n",
       "    <tr>\n",
       "      <th>3</th>\n",
       "      <td>2007-03-09 00:00:00</td>\n",
       "      <td>2905</td>\n",
       "      <td>380000</td>\n",
       "      <td>house</td>\n",
       "      <td>4</td>\n",
       "    </tr>\n",
       "    <tr>\n",
       "      <th>4</th>\n",
       "      <td>2007-03-21 00:00:00</td>\n",
       "      <td>2906</td>\n",
       "      <td>310000</td>\n",
       "      <td>house</td>\n",
       "      <td>3</td>\n",
       "    </tr>\n",
       "  </tbody>\n",
       "</table>\n",
       "</div>"
      ],
      "text/plain": [
       "              datesold  postcode   price propertyType  bedrooms\n",
       "0  2007-02-07 00:00:00      2607  525000        house         4\n",
       "1  2007-02-27 00:00:00      2906  290000        house         3\n",
       "2  2007-03-07 00:00:00      2905  328000        house         3\n",
       "3  2007-03-09 00:00:00      2905  380000        house         4\n",
       "4  2007-03-21 00:00:00      2906  310000        house         3"
      ]
     },
     "execution_count": 15,
     "metadata": {},
     "output_type": "execute_result"
    }
   ],
   "source": [
    "import pandas as pd\n",
    "import numpy as np\n",
    "from datetime import date, datetime\n",
    "from dateutil import relativedelta\n",
    "from sklearn.preprocessing import MinMaxScaler, StandardScaler\n",
    "from keras.layers import LSTM\n",
    "from keras.models import Sequential\n",
    "from keras.layers import Dense\n",
    "import plotly.offline as pyoff\n",
    "import plotly.graph_objects as go\n",
    "\n",
    "df = pd.read_csv('raw_sales.csv') \n",
    "df.head()"
   ]
  },
  {
   "cell_type": "code",
   "execution_count": 16,
   "metadata": {},
   "outputs": [
    {
     "name": "stderr",
     "output_type": "stream",
     "text": [
      "C:\\Users\\JOSELU~1\\AppData\\Local\\Temp/ipykernel_660/4048521769.py:3: SettingWithCopyWarning:\n",
      "\n",
      "\n",
      "A value is trying to be set on a copy of a slice from a DataFrame\n",
      "\n",
      "See the caveats in the documentation: https://pandas.pydata.org/pandas-docs/stable/user_guide/indexing.html#returning-a-view-versus-a-copy\n",
      "\n"
     ]
    },
    {
     "data": {
      "text/html": [
       "<div>\n",
       "<style scoped>\n",
       "    .dataframe tbody tr th:only-of-type {\n",
       "        vertical-align: middle;\n",
       "    }\n",
       "\n",
       "    .dataframe tbody tr th {\n",
       "        vertical-align: top;\n",
       "    }\n",
       "\n",
       "    .dataframe thead th {\n",
       "        text-align: right;\n",
       "    }\n",
       "</style>\n",
       "<table border=\"1\" class=\"dataframe\">\n",
       "  <thead>\n",
       "    <tr style=\"text-align: right;\">\n",
       "      <th></th>\n",
       "      <th>mes</th>\n",
       "      <th>ventas</th>\n",
       "    </tr>\n",
       "  </thead>\n",
       "  <tbody>\n",
       "    <tr>\n",
       "      <th>0</th>\n",
       "      <td>2007-02</td>\n",
       "      <td>815000</td>\n",
       "    </tr>\n",
       "    <tr>\n",
       "      <th>1</th>\n",
       "      <td>2007-03</td>\n",
       "      <td>1018000</td>\n",
       "    </tr>\n",
       "    <tr>\n",
       "      <th>2</th>\n",
       "      <td>2007-04</td>\n",
       "      <td>2394000</td>\n",
       "    </tr>\n",
       "    <tr>\n",
       "      <th>3</th>\n",
       "      <td>2007-05</td>\n",
       "      <td>679000</td>\n",
       "    </tr>\n",
       "    <tr>\n",
       "      <th>4</th>\n",
       "      <td>2007-06</td>\n",
       "      <td>3122000</td>\n",
       "    </tr>\n",
       "  </tbody>\n",
       "</table>\n",
       "</div>"
      ],
      "text/plain": [
       "       mes   ventas\n",
       "0  2007-02   815000\n",
       "1  2007-03  1018000\n",
       "2  2007-04  2394000\n",
       "3  2007-05   679000\n",
       "4  2007-06  3122000"
      ]
     },
     "execution_count": 16,
     "metadata": {},
     "output_type": "execute_result"
    }
   ],
   "source": [
    "# Cambio de fechas en columna 'datesold', dejando sólo año y mes. \n",
    "for i in range(len(df)):\n",
    "    df['datesold'][i] = df['datesold'][i].split()[0][:-3]\n",
    "\n",
    "# Eliminar columnas que no usaremos y cambiar de nombre 'datesold' y 'price' por 'mes' y 'ventas'.\n",
    "df = df.drop(['postcode', 'propertyType', 'bedrooms'], axis=1)\n",
    "df = df.rename(columns={'datesold': 'mes', 'price': 'ventas'})\n",
    "\n",
    "# Agrupar meses, sumando las ventas totales del mes.\n",
    "df = df.groupby('mes')['ventas'].agg('sum')\n",
    "df = df.reset_index()\n",
    "df.head()"
   ]
  },
  {
   "cell_type": "code",
   "execution_count": 14,
   "metadata": {},
   "outputs": [
    {
     "data": {
      "application/vnd.plotly.v1+json": {
       "config": {
        "linkText": "Export to plot.ly",
        "plotlyServerURL": "https://plot.ly",
        "showLink": false
       },
       "data": [
        {
         "type": "scatter",
         "x": [
          "2007-02",
          "2007-03",
          "2007-04",
          "2007-05",
          "2007-06",
          "2007-07",
          "2007-08",
          "2007-09",
          "2007-10",
          "2007-11",
          "2007-12",
          "2008-01",
          "2008-02",
          "2008-03",
          "2008-04",
          "2008-05",
          "2008-06",
          "2008-07",
          "2008-08",
          "2008-09",
          "2008-10",
          "2008-11",
          "2008-12",
          "2009-01",
          "2009-02",
          "2009-03",
          "2009-04",
          "2009-05",
          "2009-06",
          "2009-07",
          "2009-08",
          "2009-09",
          "2009-10",
          "2009-11",
          "2009-12",
          "2010-01",
          "2010-02",
          "2010-03",
          "2010-04",
          "2010-05",
          "2010-06",
          "2010-07",
          "2010-08",
          "2010-09",
          "2010-10",
          "2010-11",
          "2010-12",
          "2011-01",
          "2011-02",
          "2011-03",
          "2011-04",
          "2011-05",
          "2011-06",
          "2011-07",
          "2011-08",
          "2011-09",
          "2011-10",
          "2011-11",
          "2011-12",
          "2012-01",
          "2012-02",
          "2012-03",
          "2012-04",
          "2012-05",
          "2012-06",
          "2012-07",
          "2012-08",
          "2012-09",
          "2012-10",
          "2012-11",
          "2012-12",
          "2013-01",
          "2013-02",
          "2013-03",
          "2013-04",
          "2013-05",
          "2013-06",
          "2013-07",
          "2013-08",
          "2013-09",
          "2013-10",
          "2013-11",
          "2013-12",
          "2014-01",
          "2014-02",
          "2014-03",
          "2014-04",
          "2014-05",
          "2014-06",
          "2014-07",
          "2014-08",
          "2014-09",
          "2014-10",
          "2014-11",
          "2014-12",
          "2015-01",
          "2015-02",
          "2015-03",
          "2015-04",
          "2015-05",
          "2015-06",
          "2015-07",
          "2015-08",
          "2015-09",
          "2015-10",
          "2015-11",
          "2015-12",
          "2016-01",
          "2016-02",
          "2016-03",
          "2016-04",
          "2016-05",
          "2016-06",
          "2016-07",
          "2016-08",
          "2016-09",
          "2016-10",
          "2016-11",
          "2016-12",
          "2017-01",
          "2017-02",
          "2017-03",
          "2017-04",
          "2017-05",
          "2017-06",
          "2017-07",
          "2017-08",
          "2017-09",
          "2017-10",
          "2017-11",
          "2017-12",
          "2018-01",
          "2018-02",
          "2018-03",
          "2018-04",
          "2018-05",
          "2018-06",
          "2018-07",
          "2018-08",
          "2018-09",
          "2018-10",
          "2018-11",
          "2018-12",
          "2019-01",
          "2019-02",
          "2019-03",
          "2019-04",
          "2019-05",
          "2019-06",
          "2019-07"
         ],
         "y": [
          815000,
          1018000,
          2394000,
          679000,
          3122000,
          11249500,
          11629000,
          11137500,
          9972000,
          13141500,
          11631950,
          7062000,
          13277000,
          3381000,
          11752500,
          9925500,
          18329150,
          17198500,
          21576500,
          44213300,
          42298450,
          53360550,
          73172800,
          42919239,
          53735950,
          81004714,
          58750149,
          62115127,
          52695850,
          51086152,
          51944850,
          61450453,
          59673295,
          72735340,
          59316120,
          28443200,
          55686700,
          74746297,
          73321900,
          80907150,
          74488035,
          66770364,
          76988074,
          75247200,
          77574840,
          103197970,
          82751550,
          41667530,
          78783500,
          99336758,
          86102260,
          87227078,
          70946080,
          74059275,
          79068903,
          62499300,
          73633000,
          106236725,
          65885366,
          48191100,
          76239750,
          97617950,
          63375518,
          92430245,
          64443800,
          77090361,
          93170502,
          97245003,
          101375288,
          122019277,
          93348750,
          61109504,
          79580888,
          92523645,
          89879038,
          99020165,
          88280730,
          115918437,
          124937996,
          86249300,
          97182850,
          132813880,
          105192700,
          62824945,
          144920008,
          156887818,
          128843790,
          143712090,
          117165238,
          130224320,
          126425290,
          144548355,
          159482225,
          222049100,
          159684540,
          61811671,
          190762600,
          220001468,
          154861849,
          212078600,
          149866211,
          165763592,
          209630759,
          193386355,
          244486201,
          280869590,
          200498802,
          90435300,
          218755101,
          223427360,
          232354529,
          215560590,
          161420776,
          145221806,
          191865722,
          221807599,
          237293049,
          307853866,
          236308500,
          97384723,
          292742851,
          287655601,
          240088855,
          274023276,
          220981353,
          216227483,
          241080356,
          259471171,
          266606366,
          386887311,
          267860238,
          101609655,
          273362689,
          304944325,
          238084455,
          296069526,
          221937650,
          187166050,
          190794276,
          190349097,
          188198737,
          208732711,
          147735452,
          82625200,
          127458810,
          153793350,
          138929019,
          141128050,
          88612700,
          145798014
         ]
        }
       ],
       "layout": {
        "template": {
         "data": {
          "bar": [
           {
            "error_x": {
             "color": "#2a3f5f"
            },
            "error_y": {
             "color": "#2a3f5f"
            },
            "marker": {
             "line": {
              "color": "#E5ECF6",
              "width": 0.5
             },
             "pattern": {
              "fillmode": "overlay",
              "size": 10,
              "solidity": 0.2
             }
            },
            "type": "bar"
           }
          ],
          "barpolar": [
           {
            "marker": {
             "line": {
              "color": "#E5ECF6",
              "width": 0.5
             },
             "pattern": {
              "fillmode": "overlay",
              "size": 10,
              "solidity": 0.2
             }
            },
            "type": "barpolar"
           }
          ],
          "carpet": [
           {
            "aaxis": {
             "endlinecolor": "#2a3f5f",
             "gridcolor": "white",
             "linecolor": "white",
             "minorgridcolor": "white",
             "startlinecolor": "#2a3f5f"
            },
            "baxis": {
             "endlinecolor": "#2a3f5f",
             "gridcolor": "white",
             "linecolor": "white",
             "minorgridcolor": "white",
             "startlinecolor": "#2a3f5f"
            },
            "type": "carpet"
           }
          ],
          "choropleth": [
           {
            "colorbar": {
             "outlinewidth": 0,
             "ticks": ""
            },
            "type": "choropleth"
           }
          ],
          "contour": [
           {
            "colorbar": {
             "outlinewidth": 0,
             "ticks": ""
            },
            "colorscale": [
             [
              0,
              "#0d0887"
             ],
             [
              0.1111111111111111,
              "#46039f"
             ],
             [
              0.2222222222222222,
              "#7201a8"
             ],
             [
              0.3333333333333333,
              "#9c179e"
             ],
             [
              0.4444444444444444,
              "#bd3786"
             ],
             [
              0.5555555555555556,
              "#d8576b"
             ],
             [
              0.6666666666666666,
              "#ed7953"
             ],
             [
              0.7777777777777778,
              "#fb9f3a"
             ],
             [
              0.8888888888888888,
              "#fdca26"
             ],
             [
              1,
              "#f0f921"
             ]
            ],
            "type": "contour"
           }
          ],
          "contourcarpet": [
           {
            "colorbar": {
             "outlinewidth": 0,
             "ticks": ""
            },
            "type": "contourcarpet"
           }
          ],
          "heatmap": [
           {
            "colorbar": {
             "outlinewidth": 0,
             "ticks": ""
            },
            "colorscale": [
             [
              0,
              "#0d0887"
             ],
             [
              0.1111111111111111,
              "#46039f"
             ],
             [
              0.2222222222222222,
              "#7201a8"
             ],
             [
              0.3333333333333333,
              "#9c179e"
             ],
             [
              0.4444444444444444,
              "#bd3786"
             ],
             [
              0.5555555555555556,
              "#d8576b"
             ],
             [
              0.6666666666666666,
              "#ed7953"
             ],
             [
              0.7777777777777778,
              "#fb9f3a"
             ],
             [
              0.8888888888888888,
              "#fdca26"
             ],
             [
              1,
              "#f0f921"
             ]
            ],
            "type": "heatmap"
           }
          ],
          "heatmapgl": [
           {
            "colorbar": {
             "outlinewidth": 0,
             "ticks": ""
            },
            "colorscale": [
             [
              0,
              "#0d0887"
             ],
             [
              0.1111111111111111,
              "#46039f"
             ],
             [
              0.2222222222222222,
              "#7201a8"
             ],
             [
              0.3333333333333333,
              "#9c179e"
             ],
             [
              0.4444444444444444,
              "#bd3786"
             ],
             [
              0.5555555555555556,
              "#d8576b"
             ],
             [
              0.6666666666666666,
              "#ed7953"
             ],
             [
              0.7777777777777778,
              "#fb9f3a"
             ],
             [
              0.8888888888888888,
              "#fdca26"
             ],
             [
              1,
              "#f0f921"
             ]
            ],
            "type": "heatmapgl"
           }
          ],
          "histogram": [
           {
            "marker": {
             "pattern": {
              "fillmode": "overlay",
              "size": 10,
              "solidity": 0.2
             }
            },
            "type": "histogram"
           }
          ],
          "histogram2d": [
           {
            "colorbar": {
             "outlinewidth": 0,
             "ticks": ""
            },
            "colorscale": [
             [
              0,
              "#0d0887"
             ],
             [
              0.1111111111111111,
              "#46039f"
             ],
             [
              0.2222222222222222,
              "#7201a8"
             ],
             [
              0.3333333333333333,
              "#9c179e"
             ],
             [
              0.4444444444444444,
              "#bd3786"
             ],
             [
              0.5555555555555556,
              "#d8576b"
             ],
             [
              0.6666666666666666,
              "#ed7953"
             ],
             [
              0.7777777777777778,
              "#fb9f3a"
             ],
             [
              0.8888888888888888,
              "#fdca26"
             ],
             [
              1,
              "#f0f921"
             ]
            ],
            "type": "histogram2d"
           }
          ],
          "histogram2dcontour": [
           {
            "colorbar": {
             "outlinewidth": 0,
             "ticks": ""
            },
            "colorscale": [
             [
              0,
              "#0d0887"
             ],
             [
              0.1111111111111111,
              "#46039f"
             ],
             [
              0.2222222222222222,
              "#7201a8"
             ],
             [
              0.3333333333333333,
              "#9c179e"
             ],
             [
              0.4444444444444444,
              "#bd3786"
             ],
             [
              0.5555555555555556,
              "#d8576b"
             ],
             [
              0.6666666666666666,
              "#ed7953"
             ],
             [
              0.7777777777777778,
              "#fb9f3a"
             ],
             [
              0.8888888888888888,
              "#fdca26"
             ],
             [
              1,
              "#f0f921"
             ]
            ],
            "type": "histogram2dcontour"
           }
          ],
          "mesh3d": [
           {
            "colorbar": {
             "outlinewidth": 0,
             "ticks": ""
            },
            "type": "mesh3d"
           }
          ],
          "parcoords": [
           {
            "line": {
             "colorbar": {
              "outlinewidth": 0,
              "ticks": ""
             }
            },
            "type": "parcoords"
           }
          ],
          "pie": [
           {
            "automargin": true,
            "type": "pie"
           }
          ],
          "scatter": [
           {
            "marker": {
             "colorbar": {
              "outlinewidth": 0,
              "ticks": ""
             }
            },
            "type": "scatter"
           }
          ],
          "scatter3d": [
           {
            "line": {
             "colorbar": {
              "outlinewidth": 0,
              "ticks": ""
             }
            },
            "marker": {
             "colorbar": {
              "outlinewidth": 0,
              "ticks": ""
             }
            },
            "type": "scatter3d"
           }
          ],
          "scattercarpet": [
           {
            "marker": {
             "colorbar": {
              "outlinewidth": 0,
              "ticks": ""
             }
            },
            "type": "scattercarpet"
           }
          ],
          "scattergeo": [
           {
            "marker": {
             "colorbar": {
              "outlinewidth": 0,
              "ticks": ""
             }
            },
            "type": "scattergeo"
           }
          ],
          "scattergl": [
           {
            "marker": {
             "colorbar": {
              "outlinewidth": 0,
              "ticks": ""
             }
            },
            "type": "scattergl"
           }
          ],
          "scattermapbox": [
           {
            "marker": {
             "colorbar": {
              "outlinewidth": 0,
              "ticks": ""
             }
            },
            "type": "scattermapbox"
           }
          ],
          "scatterpolar": [
           {
            "marker": {
             "colorbar": {
              "outlinewidth": 0,
              "ticks": ""
             }
            },
            "type": "scatterpolar"
           }
          ],
          "scatterpolargl": [
           {
            "marker": {
             "colorbar": {
              "outlinewidth": 0,
              "ticks": ""
             }
            },
            "type": "scatterpolargl"
           }
          ],
          "scatterternary": [
           {
            "marker": {
             "colorbar": {
              "outlinewidth": 0,
              "ticks": ""
             }
            },
            "type": "scatterternary"
           }
          ],
          "surface": [
           {
            "colorbar": {
             "outlinewidth": 0,
             "ticks": ""
            },
            "colorscale": [
             [
              0,
              "#0d0887"
             ],
             [
              0.1111111111111111,
              "#46039f"
             ],
             [
              0.2222222222222222,
              "#7201a8"
             ],
             [
              0.3333333333333333,
              "#9c179e"
             ],
             [
              0.4444444444444444,
              "#bd3786"
             ],
             [
              0.5555555555555556,
              "#d8576b"
             ],
             [
              0.6666666666666666,
              "#ed7953"
             ],
             [
              0.7777777777777778,
              "#fb9f3a"
             ],
             [
              0.8888888888888888,
              "#fdca26"
             ],
             [
              1,
              "#f0f921"
             ]
            ],
            "type": "surface"
           }
          ],
          "table": [
           {
            "cells": {
             "fill": {
              "color": "#EBF0F8"
             },
             "line": {
              "color": "white"
             }
            },
            "header": {
             "fill": {
              "color": "#C8D4E3"
             },
             "line": {
              "color": "white"
             }
            },
            "type": "table"
           }
          ]
         },
         "layout": {
          "annotationdefaults": {
           "arrowcolor": "#2a3f5f",
           "arrowhead": 0,
           "arrowwidth": 1
          },
          "autotypenumbers": "strict",
          "coloraxis": {
           "colorbar": {
            "outlinewidth": 0,
            "ticks": ""
           }
          },
          "colorscale": {
           "diverging": [
            [
             0,
             "#8e0152"
            ],
            [
             0.1,
             "#c51b7d"
            ],
            [
             0.2,
             "#de77ae"
            ],
            [
             0.3,
             "#f1b6da"
            ],
            [
             0.4,
             "#fde0ef"
            ],
            [
             0.5,
             "#f7f7f7"
            ],
            [
             0.6,
             "#e6f5d0"
            ],
            [
             0.7,
             "#b8e186"
            ],
            [
             0.8,
             "#7fbc41"
            ],
            [
             0.9,
             "#4d9221"
            ],
            [
             1,
             "#276419"
            ]
           ],
           "sequential": [
            [
             0,
             "#0d0887"
            ],
            [
             0.1111111111111111,
             "#46039f"
            ],
            [
             0.2222222222222222,
             "#7201a8"
            ],
            [
             0.3333333333333333,
             "#9c179e"
            ],
            [
             0.4444444444444444,
             "#bd3786"
            ],
            [
             0.5555555555555556,
             "#d8576b"
            ],
            [
             0.6666666666666666,
             "#ed7953"
            ],
            [
             0.7777777777777778,
             "#fb9f3a"
            ],
            [
             0.8888888888888888,
             "#fdca26"
            ],
            [
             1,
             "#f0f921"
            ]
           ],
           "sequentialminus": [
            [
             0,
             "#0d0887"
            ],
            [
             0.1111111111111111,
             "#46039f"
            ],
            [
             0.2222222222222222,
             "#7201a8"
            ],
            [
             0.3333333333333333,
             "#9c179e"
            ],
            [
             0.4444444444444444,
             "#bd3786"
            ],
            [
             0.5555555555555556,
             "#d8576b"
            ],
            [
             0.6666666666666666,
             "#ed7953"
            ],
            [
             0.7777777777777778,
             "#fb9f3a"
            ],
            [
             0.8888888888888888,
             "#fdca26"
            ],
            [
             1,
             "#f0f921"
            ]
           ]
          },
          "colorway": [
           "#636efa",
           "#EF553B",
           "#00cc96",
           "#ab63fa",
           "#FFA15A",
           "#19d3f3",
           "#FF6692",
           "#B6E880",
           "#FF97FF",
           "#FECB52"
          ],
          "font": {
           "color": "#2a3f5f"
          },
          "geo": {
           "bgcolor": "white",
           "lakecolor": "white",
           "landcolor": "#E5ECF6",
           "showlakes": true,
           "showland": true,
           "subunitcolor": "white"
          },
          "hoverlabel": {
           "align": "left"
          },
          "hovermode": "closest",
          "mapbox": {
           "style": "light"
          },
          "paper_bgcolor": "white",
          "plot_bgcolor": "#E5ECF6",
          "polar": {
           "angularaxis": {
            "gridcolor": "white",
            "linecolor": "white",
            "ticks": ""
           },
           "bgcolor": "#E5ECF6",
           "radialaxis": {
            "gridcolor": "white",
            "linecolor": "white",
            "ticks": ""
           }
          },
          "scene": {
           "xaxis": {
            "backgroundcolor": "#E5ECF6",
            "gridcolor": "white",
            "gridwidth": 2,
            "linecolor": "white",
            "showbackground": true,
            "ticks": "",
            "zerolinecolor": "white"
           },
           "yaxis": {
            "backgroundcolor": "#E5ECF6",
            "gridcolor": "white",
            "gridwidth": 2,
            "linecolor": "white",
            "showbackground": true,
            "ticks": "",
            "zerolinecolor": "white"
           },
           "zaxis": {
            "backgroundcolor": "#E5ECF6",
            "gridcolor": "white",
            "gridwidth": 2,
            "linecolor": "white",
            "showbackground": true,
            "ticks": "",
            "zerolinecolor": "white"
           }
          },
          "shapedefaults": {
           "line": {
            "color": "#2a3f5f"
           }
          },
          "ternary": {
           "aaxis": {
            "gridcolor": "white",
            "linecolor": "white",
            "ticks": ""
           },
           "baxis": {
            "gridcolor": "white",
            "linecolor": "white",
            "ticks": ""
           },
           "bgcolor": "#E5ECF6",
           "caxis": {
            "gridcolor": "white",
            "linecolor": "white",
            "ticks": ""
           }
          },
          "title": {
           "x": 0.05
          },
          "xaxis": {
           "automargin": true,
           "gridcolor": "white",
           "linecolor": "white",
           "ticks": "",
           "title": {
            "standoff": 15
           },
           "zerolinecolor": "white",
           "zerolinewidth": 2
          },
          "yaxis": {
           "automargin": true,
           "gridcolor": "white",
           "linecolor": "white",
           "ticks": "",
           "title": {
            "standoff": 15
           },
           "zerolinecolor": "white",
           "zerolinewidth": 2
          }
         }
        },
        "title": {
         "text": "Ventas mensuales"
        }
       }
      }
     },
     "metadata": {},
     "output_type": "display_data"
    }
   ],
   "source": [
    "plot_data = [\n",
    "go.Scatter(\n",
    "x=df['mes'],\n",
    "y=df['ventas']\n",
    ")\n",
    "]\n",
    "plot_layout = go.Layout(\n",
    "title='Ventas mensuales'\n",
    ")\n",
    "fig = go.Figure(data=plot_data, layout=plot_layout) \n",
    "pyoff.iplot(fig)"
   ]
  },
  {
   "cell_type": "code",
   "execution_count": 17,
   "metadata": {},
   "outputs": [
    {
     "data": {
      "text/html": [
       "<div>\n",
       "<style scoped>\n",
       "    .dataframe tbody tr th:only-of-type {\n",
       "        vertical-align: middle;\n",
       "    }\n",
       "\n",
       "    .dataframe tbody tr th {\n",
       "        vertical-align: top;\n",
       "    }\n",
       "\n",
       "    .dataframe thead th {\n",
       "        text-align: right;\n",
       "    }\n",
       "</style>\n",
       "<table border=\"1\" class=\"dataframe\">\n",
       "  <thead>\n",
       "    <tr style=\"text-align: right;\">\n",
       "      <th></th>\n",
       "      <th>mes</th>\n",
       "      <th>ventas</th>\n",
       "      <th>prev_ventas</th>\n",
       "      <th>diff</th>\n",
       "    </tr>\n",
       "  </thead>\n",
       "  <tbody>\n",
       "    <tr>\n",
       "      <th>1</th>\n",
       "      <td>2007-03</td>\n",
       "      <td>1018000</td>\n",
       "      <td>815000.0</td>\n",
       "      <td>203000.0</td>\n",
       "    </tr>\n",
       "    <tr>\n",
       "      <th>2</th>\n",
       "      <td>2007-04</td>\n",
       "      <td>2394000</td>\n",
       "      <td>1018000.0</td>\n",
       "      <td>1376000.0</td>\n",
       "    </tr>\n",
       "    <tr>\n",
       "      <th>3</th>\n",
       "      <td>2007-05</td>\n",
       "      <td>679000</td>\n",
       "      <td>2394000.0</td>\n",
       "      <td>-1715000.0</td>\n",
       "    </tr>\n",
       "    <tr>\n",
       "      <th>4</th>\n",
       "      <td>2007-06</td>\n",
       "      <td>3122000</td>\n",
       "      <td>679000.0</td>\n",
       "      <td>2443000.0</td>\n",
       "    </tr>\n",
       "    <tr>\n",
       "      <th>5</th>\n",
       "      <td>2007-07</td>\n",
       "      <td>11249500</td>\n",
       "      <td>3122000.0</td>\n",
       "      <td>8127500.0</td>\n",
       "    </tr>\n",
       "    <tr>\n",
       "      <th>...</th>\n",
       "      <td>...</td>\n",
       "      <td>...</td>\n",
       "      <td>...</td>\n",
       "      <td>...</td>\n",
       "    </tr>\n",
       "    <tr>\n",
       "      <th>145</th>\n",
       "      <td>2019-03</td>\n",
       "      <td>153793350</td>\n",
       "      <td>127458810.0</td>\n",
       "      <td>26334540.0</td>\n",
       "    </tr>\n",
       "    <tr>\n",
       "      <th>146</th>\n",
       "      <td>2019-04</td>\n",
       "      <td>138929019</td>\n",
       "      <td>153793350.0</td>\n",
       "      <td>-14864331.0</td>\n",
       "    </tr>\n",
       "    <tr>\n",
       "      <th>147</th>\n",
       "      <td>2019-05</td>\n",
       "      <td>141128050</td>\n",
       "      <td>138929019.0</td>\n",
       "      <td>2199031.0</td>\n",
       "    </tr>\n",
       "    <tr>\n",
       "      <th>148</th>\n",
       "      <td>2019-06</td>\n",
       "      <td>88612700</td>\n",
       "      <td>141128050.0</td>\n",
       "      <td>-52515350.0</td>\n",
       "    </tr>\n",
       "    <tr>\n",
       "      <th>149</th>\n",
       "      <td>2019-07</td>\n",
       "      <td>145798014</td>\n",
       "      <td>88612700.0</td>\n",
       "      <td>57185314.0</td>\n",
       "    </tr>\n",
       "  </tbody>\n",
       "</table>\n",
       "<p>149 rows × 4 columns</p>\n",
       "</div>"
      ],
      "text/plain": [
       "         mes     ventas  prev_ventas        diff\n",
       "1    2007-03    1018000     815000.0    203000.0\n",
       "2    2007-04    2394000    1018000.0   1376000.0\n",
       "3    2007-05     679000    2394000.0  -1715000.0\n",
       "4    2007-06    3122000     679000.0   2443000.0\n",
       "5    2007-07   11249500    3122000.0   8127500.0\n",
       "..       ...        ...          ...         ...\n",
       "145  2019-03  153793350  127458810.0  26334540.0\n",
       "146  2019-04  138929019  153793350.0 -14864331.0\n",
       "147  2019-05  141128050  138929019.0   2199031.0\n",
       "148  2019-06   88612700  141128050.0 -52515350.0\n",
       "149  2019-07  145798014   88612700.0  57185314.0\n",
       "\n",
       "[149 rows x 4 columns]"
      ]
     },
     "execution_count": 17,
     "metadata": {},
     "output_type": "execute_result"
    }
   ],
   "source": [
    "df_diff = df.copy()\n",
    "df_diff['prev_ventas'] = df_diff['ventas'].shift(1)\n",
    "df_diff = df_diff.dropna()\n",
    "df_diff['diff'] = (df_diff['ventas'] - df_diff['prev_ventas'])\n",
    "df_diff"
   ]
  },
  {
   "cell_type": "code",
   "execution_count": 18,
   "metadata": {},
   "outputs": [
    {
     "data": {
      "application/vnd.plotly.v1+json": {
       "config": {
        "linkText": "Export to plot.ly",
        "plotlyServerURL": "https://plot.ly",
        "showLink": false
       },
       "data": [
        {
         "type": "scatter",
         "x": [
          "2007-03",
          "2007-04",
          "2007-05",
          "2007-06",
          "2007-07",
          "2007-08",
          "2007-09",
          "2007-10",
          "2007-11",
          "2007-12",
          "2008-01",
          "2008-02",
          "2008-03",
          "2008-04",
          "2008-05",
          "2008-06",
          "2008-07",
          "2008-08",
          "2008-09",
          "2008-10",
          "2008-11",
          "2008-12",
          "2009-01",
          "2009-02",
          "2009-03",
          "2009-04",
          "2009-05",
          "2009-06",
          "2009-07",
          "2009-08",
          "2009-09",
          "2009-10",
          "2009-11",
          "2009-12",
          "2010-01",
          "2010-02",
          "2010-03",
          "2010-04",
          "2010-05",
          "2010-06",
          "2010-07",
          "2010-08",
          "2010-09",
          "2010-10",
          "2010-11",
          "2010-12",
          "2011-01",
          "2011-02",
          "2011-03",
          "2011-04",
          "2011-05",
          "2011-06",
          "2011-07",
          "2011-08",
          "2011-09",
          "2011-10",
          "2011-11",
          "2011-12",
          "2012-01",
          "2012-02",
          "2012-03",
          "2012-04",
          "2012-05",
          "2012-06",
          "2012-07",
          "2012-08",
          "2012-09",
          "2012-10",
          "2012-11",
          "2012-12",
          "2013-01",
          "2013-02",
          "2013-03",
          "2013-04",
          "2013-05",
          "2013-06",
          "2013-07",
          "2013-08",
          "2013-09",
          "2013-10",
          "2013-11",
          "2013-12",
          "2014-01",
          "2014-02",
          "2014-03",
          "2014-04",
          "2014-05",
          "2014-06",
          "2014-07",
          "2014-08",
          "2014-09",
          "2014-10",
          "2014-11",
          "2014-12",
          "2015-01",
          "2015-02",
          "2015-03",
          "2015-04",
          "2015-05",
          "2015-06",
          "2015-07",
          "2015-08",
          "2015-09",
          "2015-10",
          "2015-11",
          "2015-12",
          "2016-01",
          "2016-02",
          "2016-03",
          "2016-04",
          "2016-05",
          "2016-06",
          "2016-07",
          "2016-08",
          "2016-09",
          "2016-10",
          "2016-11",
          "2016-12",
          "2017-01",
          "2017-02",
          "2017-03",
          "2017-04",
          "2017-05",
          "2017-06",
          "2017-07",
          "2017-08",
          "2017-09",
          "2017-10",
          "2017-11",
          "2017-12",
          "2018-01",
          "2018-02",
          "2018-03",
          "2018-04",
          "2018-05",
          "2018-06",
          "2018-07",
          "2018-08",
          "2018-09",
          "2018-10",
          "2018-11",
          "2018-12",
          "2019-01",
          "2019-02",
          "2019-03",
          "2019-04",
          "2019-05",
          "2019-06",
          "2019-07"
         ],
         "y": [
          1018000,
          2394000,
          679000,
          3122000,
          11249500,
          11629000,
          11137500,
          9972000,
          13141500,
          11631950,
          7062000,
          13277000,
          3381000,
          11752500,
          9925500,
          18329150,
          17198500,
          21576500,
          44213300,
          42298450,
          53360550,
          73172800,
          42919239,
          53735950,
          81004714,
          58750149,
          62115127,
          52695850,
          51086152,
          51944850,
          61450453,
          59673295,
          72735340,
          59316120,
          28443200,
          55686700,
          74746297,
          73321900,
          80907150,
          74488035,
          66770364,
          76988074,
          75247200,
          77574840,
          103197970,
          82751550,
          41667530,
          78783500,
          99336758,
          86102260,
          87227078,
          70946080,
          74059275,
          79068903,
          62499300,
          73633000,
          106236725,
          65885366,
          48191100,
          76239750,
          97617950,
          63375518,
          92430245,
          64443800,
          77090361,
          93170502,
          97245003,
          101375288,
          122019277,
          93348750,
          61109504,
          79580888,
          92523645,
          89879038,
          99020165,
          88280730,
          115918437,
          124937996,
          86249300,
          97182850,
          132813880,
          105192700,
          62824945,
          144920008,
          156887818,
          128843790,
          143712090,
          117165238,
          130224320,
          126425290,
          144548355,
          159482225,
          222049100,
          159684540,
          61811671,
          190762600,
          220001468,
          154861849,
          212078600,
          149866211,
          165763592,
          209630759,
          193386355,
          244486201,
          280869590,
          200498802,
          90435300,
          218755101,
          223427360,
          232354529,
          215560590,
          161420776,
          145221806,
          191865722,
          221807599,
          237293049,
          307853866,
          236308500,
          97384723,
          292742851,
          287655601,
          240088855,
          274023276,
          220981353,
          216227483,
          241080356,
          259471171,
          266606366,
          386887311,
          267860238,
          101609655,
          273362689,
          304944325,
          238084455,
          296069526,
          221937650,
          187166050,
          190794276,
          190349097,
          188198737,
          208732711,
          147735452,
          82625200,
          127458810,
          153793350,
          138929019,
          141128050,
          88612700,
          145798014
         ]
        }
       ],
       "layout": {
        "template": {
         "data": {
          "bar": [
           {
            "error_x": {
             "color": "#2a3f5f"
            },
            "error_y": {
             "color": "#2a3f5f"
            },
            "marker": {
             "line": {
              "color": "#E5ECF6",
              "width": 0.5
             },
             "pattern": {
              "fillmode": "overlay",
              "size": 10,
              "solidity": 0.2
             }
            },
            "type": "bar"
           }
          ],
          "barpolar": [
           {
            "marker": {
             "line": {
              "color": "#E5ECF6",
              "width": 0.5
             },
             "pattern": {
              "fillmode": "overlay",
              "size": 10,
              "solidity": 0.2
             }
            },
            "type": "barpolar"
           }
          ],
          "carpet": [
           {
            "aaxis": {
             "endlinecolor": "#2a3f5f",
             "gridcolor": "white",
             "linecolor": "white",
             "minorgridcolor": "white",
             "startlinecolor": "#2a3f5f"
            },
            "baxis": {
             "endlinecolor": "#2a3f5f",
             "gridcolor": "white",
             "linecolor": "white",
             "minorgridcolor": "white",
             "startlinecolor": "#2a3f5f"
            },
            "type": "carpet"
           }
          ],
          "choropleth": [
           {
            "colorbar": {
             "outlinewidth": 0,
             "ticks": ""
            },
            "type": "choropleth"
           }
          ],
          "contour": [
           {
            "colorbar": {
             "outlinewidth": 0,
             "ticks": ""
            },
            "colorscale": [
             [
              0,
              "#0d0887"
             ],
             [
              0.1111111111111111,
              "#46039f"
             ],
             [
              0.2222222222222222,
              "#7201a8"
             ],
             [
              0.3333333333333333,
              "#9c179e"
             ],
             [
              0.4444444444444444,
              "#bd3786"
             ],
             [
              0.5555555555555556,
              "#d8576b"
             ],
             [
              0.6666666666666666,
              "#ed7953"
             ],
             [
              0.7777777777777778,
              "#fb9f3a"
             ],
             [
              0.8888888888888888,
              "#fdca26"
             ],
             [
              1,
              "#f0f921"
             ]
            ],
            "type": "contour"
           }
          ],
          "contourcarpet": [
           {
            "colorbar": {
             "outlinewidth": 0,
             "ticks": ""
            },
            "type": "contourcarpet"
           }
          ],
          "heatmap": [
           {
            "colorbar": {
             "outlinewidth": 0,
             "ticks": ""
            },
            "colorscale": [
             [
              0,
              "#0d0887"
             ],
             [
              0.1111111111111111,
              "#46039f"
             ],
             [
              0.2222222222222222,
              "#7201a8"
             ],
             [
              0.3333333333333333,
              "#9c179e"
             ],
             [
              0.4444444444444444,
              "#bd3786"
             ],
             [
              0.5555555555555556,
              "#d8576b"
             ],
             [
              0.6666666666666666,
              "#ed7953"
             ],
             [
              0.7777777777777778,
              "#fb9f3a"
             ],
             [
              0.8888888888888888,
              "#fdca26"
             ],
             [
              1,
              "#f0f921"
             ]
            ],
            "type": "heatmap"
           }
          ],
          "heatmapgl": [
           {
            "colorbar": {
             "outlinewidth": 0,
             "ticks": ""
            },
            "colorscale": [
             [
              0,
              "#0d0887"
             ],
             [
              0.1111111111111111,
              "#46039f"
             ],
             [
              0.2222222222222222,
              "#7201a8"
             ],
             [
              0.3333333333333333,
              "#9c179e"
             ],
             [
              0.4444444444444444,
              "#bd3786"
             ],
             [
              0.5555555555555556,
              "#d8576b"
             ],
             [
              0.6666666666666666,
              "#ed7953"
             ],
             [
              0.7777777777777778,
              "#fb9f3a"
             ],
             [
              0.8888888888888888,
              "#fdca26"
             ],
             [
              1,
              "#f0f921"
             ]
            ],
            "type": "heatmapgl"
           }
          ],
          "histogram": [
           {
            "marker": {
             "pattern": {
              "fillmode": "overlay",
              "size": 10,
              "solidity": 0.2
             }
            },
            "type": "histogram"
           }
          ],
          "histogram2d": [
           {
            "colorbar": {
             "outlinewidth": 0,
             "ticks": ""
            },
            "colorscale": [
             [
              0,
              "#0d0887"
             ],
             [
              0.1111111111111111,
              "#46039f"
             ],
             [
              0.2222222222222222,
              "#7201a8"
             ],
             [
              0.3333333333333333,
              "#9c179e"
             ],
             [
              0.4444444444444444,
              "#bd3786"
             ],
             [
              0.5555555555555556,
              "#d8576b"
             ],
             [
              0.6666666666666666,
              "#ed7953"
             ],
             [
              0.7777777777777778,
              "#fb9f3a"
             ],
             [
              0.8888888888888888,
              "#fdca26"
             ],
             [
              1,
              "#f0f921"
             ]
            ],
            "type": "histogram2d"
           }
          ],
          "histogram2dcontour": [
           {
            "colorbar": {
             "outlinewidth": 0,
             "ticks": ""
            },
            "colorscale": [
             [
              0,
              "#0d0887"
             ],
             [
              0.1111111111111111,
              "#46039f"
             ],
             [
              0.2222222222222222,
              "#7201a8"
             ],
             [
              0.3333333333333333,
              "#9c179e"
             ],
             [
              0.4444444444444444,
              "#bd3786"
             ],
             [
              0.5555555555555556,
              "#d8576b"
             ],
             [
              0.6666666666666666,
              "#ed7953"
             ],
             [
              0.7777777777777778,
              "#fb9f3a"
             ],
             [
              0.8888888888888888,
              "#fdca26"
             ],
             [
              1,
              "#f0f921"
             ]
            ],
            "type": "histogram2dcontour"
           }
          ],
          "mesh3d": [
           {
            "colorbar": {
             "outlinewidth": 0,
             "ticks": ""
            },
            "type": "mesh3d"
           }
          ],
          "parcoords": [
           {
            "line": {
             "colorbar": {
              "outlinewidth": 0,
              "ticks": ""
             }
            },
            "type": "parcoords"
           }
          ],
          "pie": [
           {
            "automargin": true,
            "type": "pie"
           }
          ],
          "scatter": [
           {
            "marker": {
             "colorbar": {
              "outlinewidth": 0,
              "ticks": ""
             }
            },
            "type": "scatter"
           }
          ],
          "scatter3d": [
           {
            "line": {
             "colorbar": {
              "outlinewidth": 0,
              "ticks": ""
             }
            },
            "marker": {
             "colorbar": {
              "outlinewidth": 0,
              "ticks": ""
             }
            },
            "type": "scatter3d"
           }
          ],
          "scattercarpet": [
           {
            "marker": {
             "colorbar": {
              "outlinewidth": 0,
              "ticks": ""
             }
            },
            "type": "scattercarpet"
           }
          ],
          "scattergeo": [
           {
            "marker": {
             "colorbar": {
              "outlinewidth": 0,
              "ticks": ""
             }
            },
            "type": "scattergeo"
           }
          ],
          "scattergl": [
           {
            "marker": {
             "colorbar": {
              "outlinewidth": 0,
              "ticks": ""
             }
            },
            "type": "scattergl"
           }
          ],
          "scattermapbox": [
           {
            "marker": {
             "colorbar": {
              "outlinewidth": 0,
              "ticks": ""
             }
            },
            "type": "scattermapbox"
           }
          ],
          "scatterpolar": [
           {
            "marker": {
             "colorbar": {
              "outlinewidth": 0,
              "ticks": ""
             }
            },
            "type": "scatterpolar"
           }
          ],
          "scatterpolargl": [
           {
            "marker": {
             "colorbar": {
              "outlinewidth": 0,
              "ticks": ""
             }
            },
            "type": "scatterpolargl"
           }
          ],
          "scatterternary": [
           {
            "marker": {
             "colorbar": {
              "outlinewidth": 0,
              "ticks": ""
             }
            },
            "type": "scatterternary"
           }
          ],
          "surface": [
           {
            "colorbar": {
             "outlinewidth": 0,
             "ticks": ""
            },
            "colorscale": [
             [
              0,
              "#0d0887"
             ],
             [
              0.1111111111111111,
              "#46039f"
             ],
             [
              0.2222222222222222,
              "#7201a8"
             ],
             [
              0.3333333333333333,
              "#9c179e"
             ],
             [
              0.4444444444444444,
              "#bd3786"
             ],
             [
              0.5555555555555556,
              "#d8576b"
             ],
             [
              0.6666666666666666,
              "#ed7953"
             ],
             [
              0.7777777777777778,
              "#fb9f3a"
             ],
             [
              0.8888888888888888,
              "#fdca26"
             ],
             [
              1,
              "#f0f921"
             ]
            ],
            "type": "surface"
           }
          ],
          "table": [
           {
            "cells": {
             "fill": {
              "color": "#EBF0F8"
             },
             "line": {
              "color": "white"
             }
            },
            "header": {
             "fill": {
              "color": "#C8D4E3"
             },
             "line": {
              "color": "white"
             }
            },
            "type": "table"
           }
          ]
         },
         "layout": {
          "annotationdefaults": {
           "arrowcolor": "#2a3f5f",
           "arrowhead": 0,
           "arrowwidth": 1
          },
          "autotypenumbers": "strict",
          "coloraxis": {
           "colorbar": {
            "outlinewidth": 0,
            "ticks": ""
           }
          },
          "colorscale": {
           "diverging": [
            [
             0,
             "#8e0152"
            ],
            [
             0.1,
             "#c51b7d"
            ],
            [
             0.2,
             "#de77ae"
            ],
            [
             0.3,
             "#f1b6da"
            ],
            [
             0.4,
             "#fde0ef"
            ],
            [
             0.5,
             "#f7f7f7"
            ],
            [
             0.6,
             "#e6f5d0"
            ],
            [
             0.7,
             "#b8e186"
            ],
            [
             0.8,
             "#7fbc41"
            ],
            [
             0.9,
             "#4d9221"
            ],
            [
             1,
             "#276419"
            ]
           ],
           "sequential": [
            [
             0,
             "#0d0887"
            ],
            [
             0.1111111111111111,
             "#46039f"
            ],
            [
             0.2222222222222222,
             "#7201a8"
            ],
            [
             0.3333333333333333,
             "#9c179e"
            ],
            [
             0.4444444444444444,
             "#bd3786"
            ],
            [
             0.5555555555555556,
             "#d8576b"
            ],
            [
             0.6666666666666666,
             "#ed7953"
            ],
            [
             0.7777777777777778,
             "#fb9f3a"
            ],
            [
             0.8888888888888888,
             "#fdca26"
            ],
            [
             1,
             "#f0f921"
            ]
           ],
           "sequentialminus": [
            [
             0,
             "#0d0887"
            ],
            [
             0.1111111111111111,
             "#46039f"
            ],
            [
             0.2222222222222222,
             "#7201a8"
            ],
            [
             0.3333333333333333,
             "#9c179e"
            ],
            [
             0.4444444444444444,
             "#bd3786"
            ],
            [
             0.5555555555555556,
             "#d8576b"
            ],
            [
             0.6666666666666666,
             "#ed7953"
            ],
            [
             0.7777777777777778,
             "#fb9f3a"
            ],
            [
             0.8888888888888888,
             "#fdca26"
            ],
            [
             1,
             "#f0f921"
            ]
           ]
          },
          "colorway": [
           "#636efa",
           "#EF553B",
           "#00cc96",
           "#ab63fa",
           "#FFA15A",
           "#19d3f3",
           "#FF6692",
           "#B6E880",
           "#FF97FF",
           "#FECB52"
          ],
          "font": {
           "color": "#2a3f5f"
          },
          "geo": {
           "bgcolor": "white",
           "lakecolor": "white",
           "landcolor": "#E5ECF6",
           "showlakes": true,
           "showland": true,
           "subunitcolor": "white"
          },
          "hoverlabel": {
           "align": "left"
          },
          "hovermode": "closest",
          "mapbox": {
           "style": "light"
          },
          "paper_bgcolor": "white",
          "plot_bgcolor": "#E5ECF6",
          "polar": {
           "angularaxis": {
            "gridcolor": "white",
            "linecolor": "white",
            "ticks": ""
           },
           "bgcolor": "#E5ECF6",
           "radialaxis": {
            "gridcolor": "white",
            "linecolor": "white",
            "ticks": ""
           }
          },
          "scene": {
           "xaxis": {
            "backgroundcolor": "#E5ECF6",
            "gridcolor": "white",
            "gridwidth": 2,
            "linecolor": "white",
            "showbackground": true,
            "ticks": "",
            "zerolinecolor": "white"
           },
           "yaxis": {
            "backgroundcolor": "#E5ECF6",
            "gridcolor": "white",
            "gridwidth": 2,
            "linecolor": "white",
            "showbackground": true,
            "ticks": "",
            "zerolinecolor": "white"
           },
           "zaxis": {
            "backgroundcolor": "#E5ECF6",
            "gridcolor": "white",
            "gridwidth": 2,
            "linecolor": "white",
            "showbackground": true,
            "ticks": "",
            "zerolinecolor": "white"
           }
          },
          "shapedefaults": {
           "line": {
            "color": "#2a3f5f"
           }
          },
          "ternary": {
           "aaxis": {
            "gridcolor": "white",
            "linecolor": "white",
            "ticks": ""
           },
           "baxis": {
            "gridcolor": "white",
            "linecolor": "white",
            "ticks": ""
           },
           "bgcolor": "#E5ECF6",
           "caxis": {
            "gridcolor": "white",
            "linecolor": "white",
            "ticks": ""
           }
          },
          "title": {
           "x": 0.05
          },
          "xaxis": {
           "automargin": true,
           "gridcolor": "white",
           "linecolor": "white",
           "ticks": "",
           "title": {
            "standoff": 15
           },
           "zerolinecolor": "white",
           "zerolinewidth": 2
          },
          "yaxis": {
           "automargin": true,
           "gridcolor": "white",
           "linecolor": "white",
           "ticks": "",
           "title": {
            "standoff": 15
           },
           "zerolinecolor": "white",
           "zerolinewidth": 2
          }
         }
        },
        "title": {
         "text": "Ventas mensuales"
        }
       }
      }
     },
     "metadata": {},
     "output_type": "display_data"
    }
   ],
   "source": [
    "plot_data = [\n",
    "go.Scatter(\n",
    "x=df_diff['mes'],\n",
    "y=df_diff['ventas']\n",
    ")\n",
    "]\n",
    "plot_layout = go.Layout(\n",
    "title='Ventas mensuales'\n",
    ")\n",
    "fig = go.Figure(data=plot_data, layout=plot_layout) \n",
    "pyoff.iplot(fig)"
   ]
  },
  {
   "cell_type": "code",
   "execution_count": 20,
   "metadata": {},
   "outputs": [
    {
     "data": {
      "text/html": [
       "<div>\n",
       "<style scoped>\n",
       "    .dataframe tbody tr th:only-of-type {\n",
       "        vertical-align: middle;\n",
       "    }\n",
       "\n",
       "    .dataframe tbody tr th {\n",
       "        vertical-align: top;\n",
       "    }\n",
       "\n",
       "    .dataframe thead th {\n",
       "        text-align: right;\n",
       "    }\n",
       "</style>\n",
       "<table border=\"1\" class=\"dataframe\">\n",
       "  <thead>\n",
       "    <tr style=\"text-align: right;\">\n",
       "      <th></th>\n",
       "      <th>mes</th>\n",
       "      <th>ventas</th>\n",
       "      <th>diff</th>\n",
       "      <th>lag_1</th>\n",
       "      <th>lag_2</th>\n",
       "      <th>lag_3</th>\n",
       "      <th>lag_4</th>\n",
       "      <th>lag_5</th>\n",
       "      <th>lag_6</th>\n",
       "      <th>lag_7</th>\n",
       "      <th>lag_8</th>\n",
       "      <th>lag_9</th>\n",
       "      <th>lag_10</th>\n",
       "      <th>lag_11</th>\n",
       "      <th>lag_12</th>\n",
       "    </tr>\n",
       "  </thead>\n",
       "  <tbody>\n",
       "    <tr>\n",
       "      <th>0</th>\n",
       "      <td>2008-03</td>\n",
       "      <td>3381000</td>\n",
       "      <td>-9896000.0</td>\n",
       "      <td>6215000.0</td>\n",
       "      <td>-4569950.0</td>\n",
       "      <td>-1509550.0</td>\n",
       "      <td>3169500.0</td>\n",
       "      <td>-1165500.0</td>\n",
       "      <td>-491500.0</td>\n",
       "      <td>379500.0</td>\n",
       "      <td>8127500.0</td>\n",
       "      <td>2443000.0</td>\n",
       "      <td>-1715000.0</td>\n",
       "      <td>1376000.0</td>\n",
       "      <td>203000.0</td>\n",
       "    </tr>\n",
       "    <tr>\n",
       "      <th>1</th>\n",
       "      <td>2008-04</td>\n",
       "      <td>11752500</td>\n",
       "      <td>8371500.0</td>\n",
       "      <td>-9896000.0</td>\n",
       "      <td>6215000.0</td>\n",
       "      <td>-4569950.0</td>\n",
       "      <td>-1509550.0</td>\n",
       "      <td>3169500.0</td>\n",
       "      <td>-1165500.0</td>\n",
       "      <td>-491500.0</td>\n",
       "      <td>379500.0</td>\n",
       "      <td>8127500.0</td>\n",
       "      <td>2443000.0</td>\n",
       "      <td>-1715000.0</td>\n",
       "      <td>1376000.0</td>\n",
       "    </tr>\n",
       "    <tr>\n",
       "      <th>2</th>\n",
       "      <td>2008-05</td>\n",
       "      <td>9925500</td>\n",
       "      <td>-1827000.0</td>\n",
       "      <td>8371500.0</td>\n",
       "      <td>-9896000.0</td>\n",
       "      <td>6215000.0</td>\n",
       "      <td>-4569950.0</td>\n",
       "      <td>-1509550.0</td>\n",
       "      <td>3169500.0</td>\n",
       "      <td>-1165500.0</td>\n",
       "      <td>-491500.0</td>\n",
       "      <td>379500.0</td>\n",
       "      <td>8127500.0</td>\n",
       "      <td>2443000.0</td>\n",
       "      <td>-1715000.0</td>\n",
       "    </tr>\n",
       "    <tr>\n",
       "      <th>3</th>\n",
       "      <td>2008-06</td>\n",
       "      <td>18329150</td>\n",
       "      <td>8403650.0</td>\n",
       "      <td>-1827000.0</td>\n",
       "      <td>8371500.0</td>\n",
       "      <td>-9896000.0</td>\n",
       "      <td>6215000.0</td>\n",
       "      <td>-4569950.0</td>\n",
       "      <td>-1509550.0</td>\n",
       "      <td>3169500.0</td>\n",
       "      <td>-1165500.0</td>\n",
       "      <td>-491500.0</td>\n",
       "      <td>379500.0</td>\n",
       "      <td>8127500.0</td>\n",
       "      <td>2443000.0</td>\n",
       "    </tr>\n",
       "    <tr>\n",
       "      <th>4</th>\n",
       "      <td>2008-07</td>\n",
       "      <td>17198500</td>\n",
       "      <td>-1130650.0</td>\n",
       "      <td>8403650.0</td>\n",
       "      <td>-1827000.0</td>\n",
       "      <td>8371500.0</td>\n",
       "      <td>-9896000.0</td>\n",
       "      <td>6215000.0</td>\n",
       "      <td>-4569950.0</td>\n",
       "      <td>-1509550.0</td>\n",
       "      <td>3169500.0</td>\n",
       "      <td>-1165500.0</td>\n",
       "      <td>-491500.0</td>\n",
       "      <td>379500.0</td>\n",
       "      <td>8127500.0</td>\n",
       "    </tr>\n",
       "    <tr>\n",
       "      <th>...</th>\n",
       "      <td>...</td>\n",
       "      <td>...</td>\n",
       "      <td>...</td>\n",
       "      <td>...</td>\n",
       "      <td>...</td>\n",
       "      <td>...</td>\n",
       "      <td>...</td>\n",
       "      <td>...</td>\n",
       "      <td>...</td>\n",
       "      <td>...</td>\n",
       "      <td>...</td>\n",
       "      <td>...</td>\n",
       "      <td>...</td>\n",
       "      <td>...</td>\n",
       "      <td>...</td>\n",
       "    </tr>\n",
       "    <tr>\n",
       "      <th>132</th>\n",
       "      <td>2019-03</td>\n",
       "      <td>153793350</td>\n",
       "      <td>26334540.0</td>\n",
       "      <td>44833610.0</td>\n",
       "      <td>-65110252.0</td>\n",
       "      <td>-60997259.0</td>\n",
       "      <td>20533974.0</td>\n",
       "      <td>-2150360.0</td>\n",
       "      <td>-445179.0</td>\n",
       "      <td>3628226.0</td>\n",
       "      <td>-34771600.0</td>\n",
       "      <td>-74131876.0</td>\n",
       "      <td>57985071.0</td>\n",
       "      <td>-66859870.0</td>\n",
       "      <td>31581636.0</td>\n",
       "    </tr>\n",
       "    <tr>\n",
       "      <th>133</th>\n",
       "      <td>2019-04</td>\n",
       "      <td>138929019</td>\n",
       "      <td>-14864331.0</td>\n",
       "      <td>26334540.0</td>\n",
       "      <td>44833610.0</td>\n",
       "      <td>-65110252.0</td>\n",
       "      <td>-60997259.0</td>\n",
       "      <td>20533974.0</td>\n",
       "      <td>-2150360.0</td>\n",
       "      <td>-445179.0</td>\n",
       "      <td>3628226.0</td>\n",
       "      <td>-34771600.0</td>\n",
       "      <td>-74131876.0</td>\n",
       "      <td>57985071.0</td>\n",
       "      <td>-66859870.0</td>\n",
       "    </tr>\n",
       "    <tr>\n",
       "      <th>134</th>\n",
       "      <td>2019-05</td>\n",
       "      <td>141128050</td>\n",
       "      <td>2199031.0</td>\n",
       "      <td>-14864331.0</td>\n",
       "      <td>26334540.0</td>\n",
       "      <td>44833610.0</td>\n",
       "      <td>-65110252.0</td>\n",
       "      <td>-60997259.0</td>\n",
       "      <td>20533974.0</td>\n",
       "      <td>-2150360.0</td>\n",
       "      <td>-445179.0</td>\n",
       "      <td>3628226.0</td>\n",
       "      <td>-34771600.0</td>\n",
       "      <td>-74131876.0</td>\n",
       "      <td>57985071.0</td>\n",
       "    </tr>\n",
       "    <tr>\n",
       "      <th>135</th>\n",
       "      <td>2019-06</td>\n",
       "      <td>88612700</td>\n",
       "      <td>-52515350.0</td>\n",
       "      <td>2199031.0</td>\n",
       "      <td>-14864331.0</td>\n",
       "      <td>26334540.0</td>\n",
       "      <td>44833610.0</td>\n",
       "      <td>-65110252.0</td>\n",
       "      <td>-60997259.0</td>\n",
       "      <td>20533974.0</td>\n",
       "      <td>-2150360.0</td>\n",
       "      <td>-445179.0</td>\n",
       "      <td>3628226.0</td>\n",
       "      <td>-34771600.0</td>\n",
       "      <td>-74131876.0</td>\n",
       "    </tr>\n",
       "    <tr>\n",
       "      <th>136</th>\n",
       "      <td>2019-07</td>\n",
       "      <td>145798014</td>\n",
       "      <td>57185314.0</td>\n",
       "      <td>-52515350.0</td>\n",
       "      <td>2199031.0</td>\n",
       "      <td>-14864331.0</td>\n",
       "      <td>26334540.0</td>\n",
       "      <td>44833610.0</td>\n",
       "      <td>-65110252.0</td>\n",
       "      <td>-60997259.0</td>\n",
       "      <td>20533974.0</td>\n",
       "      <td>-2150360.0</td>\n",
       "      <td>-445179.0</td>\n",
       "      <td>3628226.0</td>\n",
       "      <td>-34771600.0</td>\n",
       "    </tr>\n",
       "  </tbody>\n",
       "</table>\n",
       "<p>137 rows × 15 columns</p>\n",
       "</div>"
      ],
      "text/plain": [
       "         mes     ventas        diff       lag_1       lag_2       lag_3  \\\n",
       "0    2008-03    3381000  -9896000.0   6215000.0  -4569950.0  -1509550.0   \n",
       "1    2008-04   11752500   8371500.0  -9896000.0   6215000.0  -4569950.0   \n",
       "2    2008-05    9925500  -1827000.0   8371500.0  -9896000.0   6215000.0   \n",
       "3    2008-06   18329150   8403650.0  -1827000.0   8371500.0  -9896000.0   \n",
       "4    2008-07   17198500  -1130650.0   8403650.0  -1827000.0   8371500.0   \n",
       "..       ...        ...         ...         ...         ...         ...   \n",
       "132  2019-03  153793350  26334540.0  44833610.0 -65110252.0 -60997259.0   \n",
       "133  2019-04  138929019 -14864331.0  26334540.0  44833610.0 -65110252.0   \n",
       "134  2019-05  141128050   2199031.0 -14864331.0  26334540.0  44833610.0   \n",
       "135  2019-06   88612700 -52515350.0   2199031.0 -14864331.0  26334540.0   \n",
       "136  2019-07  145798014  57185314.0 -52515350.0   2199031.0 -14864331.0   \n",
       "\n",
       "          lag_4       lag_5       lag_6       lag_7       lag_8       lag_9  \\\n",
       "0     3169500.0  -1165500.0   -491500.0    379500.0   8127500.0   2443000.0   \n",
       "1    -1509550.0   3169500.0  -1165500.0   -491500.0    379500.0   8127500.0   \n",
       "2    -4569950.0  -1509550.0   3169500.0  -1165500.0   -491500.0    379500.0   \n",
       "3     6215000.0  -4569950.0  -1509550.0   3169500.0  -1165500.0   -491500.0   \n",
       "4    -9896000.0   6215000.0  -4569950.0  -1509550.0   3169500.0  -1165500.0   \n",
       "..          ...         ...         ...         ...         ...         ...   \n",
       "132  20533974.0  -2150360.0   -445179.0   3628226.0 -34771600.0 -74131876.0   \n",
       "133 -60997259.0  20533974.0  -2150360.0   -445179.0   3628226.0 -34771600.0   \n",
       "134 -65110252.0 -60997259.0  20533974.0  -2150360.0   -445179.0   3628226.0   \n",
       "135  44833610.0 -65110252.0 -60997259.0  20533974.0  -2150360.0   -445179.0   \n",
       "136  26334540.0  44833610.0 -65110252.0 -60997259.0  20533974.0  -2150360.0   \n",
       "\n",
       "         lag_10      lag_11      lag_12  \n",
       "0    -1715000.0   1376000.0    203000.0  \n",
       "1     2443000.0  -1715000.0   1376000.0  \n",
       "2     8127500.0   2443000.0  -1715000.0  \n",
       "3      379500.0   8127500.0   2443000.0  \n",
       "4     -491500.0    379500.0   8127500.0  \n",
       "..          ...         ...         ...  \n",
       "132  57985071.0 -66859870.0  31581636.0  \n",
       "133 -74131876.0  57985071.0 -66859870.0  \n",
       "134 -34771600.0 -74131876.0  57985071.0  \n",
       "135   3628226.0 -34771600.0 -74131876.0  \n",
       "136   -445179.0   3628226.0 -34771600.0  \n",
       "\n",
       "[137 rows x 15 columns]"
      ]
     },
     "execution_count": 20,
     "metadata": {},
     "output_type": "execute_result"
    }
   ],
   "source": [
    "df_supervised = df_diff.drop(['prev_ventas'],axis=1)\n",
    "\n",
    "for inc in range(1,13): \n",
    "    field_name = 'lag_' + str(inc) \n",
    "    df_supervised[field_name] = df_supervised['diff'].shift(inc)\n",
    "\n",
    "df_supervised = df_supervised.dropna().reset_index(drop=True) \n",
    "df_supervised"
   ]
  },
  {
   "cell_type": "code",
   "execution_count": 21,
   "metadata": {},
   "outputs": [
    {
     "data": {
      "text/html": [
       "<div>\n",
       "<style scoped>\n",
       "    .dataframe tbody tr th:only-of-type {\n",
       "        vertical-align: middle;\n",
       "    }\n",
       "\n",
       "    .dataframe tbody tr th {\n",
       "        vertical-align: top;\n",
       "    }\n",
       "\n",
       "    .dataframe thead th {\n",
       "        text-align: right;\n",
       "    }\n",
       "</style>\n",
       "<table border=\"1\" class=\"dataframe\">\n",
       "  <thead>\n",
       "    <tr style=\"text-align: right;\">\n",
       "      <th></th>\n",
       "      <th>diff</th>\n",
       "      <th>lag_1</th>\n",
       "      <th>lag_2</th>\n",
       "      <th>lag_3</th>\n",
       "      <th>lag_4</th>\n",
       "      <th>lag_5</th>\n",
       "      <th>lag_6</th>\n",
       "      <th>lag_7</th>\n",
       "      <th>lag_8</th>\n",
       "      <th>lag_9</th>\n",
       "      <th>lag_10</th>\n",
       "      <th>lag_11</th>\n",
       "      <th>lag_12</th>\n",
       "    </tr>\n",
       "  </thead>\n",
       "  <tbody>\n",
       "    <tr>\n",
       "      <th>0</th>\n",
       "      <td>-9896000.0</td>\n",
       "      <td>6215000.0</td>\n",
       "      <td>-4569950.0</td>\n",
       "      <td>-1509550.0</td>\n",
       "      <td>3169500.0</td>\n",
       "      <td>-1165500.0</td>\n",
       "      <td>-491500.0</td>\n",
       "      <td>379500.0</td>\n",
       "      <td>8127500.0</td>\n",
       "      <td>2443000.0</td>\n",
       "      <td>-1715000.0</td>\n",
       "      <td>1376000.0</td>\n",
       "      <td>203000.0</td>\n",
       "    </tr>\n",
       "    <tr>\n",
       "      <th>1</th>\n",
       "      <td>8371500.0</td>\n",
       "      <td>-9896000.0</td>\n",
       "      <td>6215000.0</td>\n",
       "      <td>-4569950.0</td>\n",
       "      <td>-1509550.0</td>\n",
       "      <td>3169500.0</td>\n",
       "      <td>-1165500.0</td>\n",
       "      <td>-491500.0</td>\n",
       "      <td>379500.0</td>\n",
       "      <td>8127500.0</td>\n",
       "      <td>2443000.0</td>\n",
       "      <td>-1715000.0</td>\n",
       "      <td>1376000.0</td>\n",
       "    </tr>\n",
       "    <tr>\n",
       "      <th>2</th>\n",
       "      <td>-1827000.0</td>\n",
       "      <td>8371500.0</td>\n",
       "      <td>-9896000.0</td>\n",
       "      <td>6215000.0</td>\n",
       "      <td>-4569950.0</td>\n",
       "      <td>-1509550.0</td>\n",
       "      <td>3169500.0</td>\n",
       "      <td>-1165500.0</td>\n",
       "      <td>-491500.0</td>\n",
       "      <td>379500.0</td>\n",
       "      <td>8127500.0</td>\n",
       "      <td>2443000.0</td>\n",
       "      <td>-1715000.0</td>\n",
       "    </tr>\n",
       "    <tr>\n",
       "      <th>3</th>\n",
       "      <td>8403650.0</td>\n",
       "      <td>-1827000.0</td>\n",
       "      <td>8371500.0</td>\n",
       "      <td>-9896000.0</td>\n",
       "      <td>6215000.0</td>\n",
       "      <td>-4569950.0</td>\n",
       "      <td>-1509550.0</td>\n",
       "      <td>3169500.0</td>\n",
       "      <td>-1165500.0</td>\n",
       "      <td>-491500.0</td>\n",
       "      <td>379500.0</td>\n",
       "      <td>8127500.0</td>\n",
       "      <td>2443000.0</td>\n",
       "    </tr>\n",
       "    <tr>\n",
       "      <th>4</th>\n",
       "      <td>-1130650.0</td>\n",
       "      <td>8403650.0</td>\n",
       "      <td>-1827000.0</td>\n",
       "      <td>8371500.0</td>\n",
       "      <td>-9896000.0</td>\n",
       "      <td>6215000.0</td>\n",
       "      <td>-4569950.0</td>\n",
       "      <td>-1509550.0</td>\n",
       "      <td>3169500.0</td>\n",
       "      <td>-1165500.0</td>\n",
       "      <td>-491500.0</td>\n",
       "      <td>379500.0</td>\n",
       "      <td>8127500.0</td>\n",
       "    </tr>\n",
       "  </tbody>\n",
       "</table>\n",
       "</div>"
      ],
      "text/plain": [
       "        diff      lag_1      lag_2      lag_3      lag_4      lag_5  \\\n",
       "0 -9896000.0  6215000.0 -4569950.0 -1509550.0  3169500.0 -1165500.0   \n",
       "1  8371500.0 -9896000.0  6215000.0 -4569950.0 -1509550.0  3169500.0   \n",
       "2 -1827000.0  8371500.0 -9896000.0  6215000.0 -4569950.0 -1509550.0   \n",
       "3  8403650.0 -1827000.0  8371500.0 -9896000.0  6215000.0 -4569950.0   \n",
       "4 -1130650.0  8403650.0 -1827000.0  8371500.0 -9896000.0  6215000.0   \n",
       "\n",
       "       lag_6      lag_7      lag_8      lag_9     lag_10     lag_11     lag_12  \n",
       "0  -491500.0   379500.0  8127500.0  2443000.0 -1715000.0  1376000.0   203000.0  \n",
       "1 -1165500.0  -491500.0   379500.0  8127500.0  2443000.0 -1715000.0  1376000.0  \n",
       "2  3169500.0 -1165500.0  -491500.0   379500.0  8127500.0  2443000.0 -1715000.0  \n",
       "3 -1509550.0  3169500.0 -1165500.0  -491500.0   379500.0  8127500.0  2443000.0  \n",
       "4 -4569950.0 -1509550.0  3169500.0 -1165500.0  -491500.0   379500.0  8127500.0  "
      ]
     },
     "execution_count": 21,
     "metadata": {},
     "output_type": "execute_result"
    }
   ],
   "source": [
    "df_model = df_supervised.drop(['ventas','mes'],axis=1)\n",
    "train_set, test_set = df_model[0:-12].values, df_model[-12:].values\n",
    "df_model.head()"
   ]
  },
  {
   "cell_type": "code",
   "execution_count": 22,
   "metadata": {},
   "outputs": [],
   "source": [
    "scaler = MinMaxScaler(feature_range=(-1, 1))\n",
    "scaler = scaler.fit(train_set)\n",
    "\n",
    "train_set = train_set.reshape(train_set.shape[0], train_set.shape[1])\n",
    "train_set_scaled = scaler.transform(train_set)\n",
    "\n",
    "test_set = test_set.reshape(test_set.shape[0], test_set.shape[1])\n",
    "test_set_scaled = scaler.transform(test_set)"
   ]
  },
  {
   "cell_type": "code",
   "execution_count": 23,
   "metadata": {},
   "outputs": [
    {
     "name": "stdout",
     "output_type": "stream",
     "text": [
      "Epoch 1/100\n",
      "125/125 [==============================] - 2s 3ms/step - loss: 0.0879\n",
      "Epoch 2/100\n",
      "125/125 [==============================] - 0s 3ms/step - loss: 0.0759\n",
      "Epoch 3/100\n",
      "125/125 [==============================] - 0s 3ms/step - loss: 0.0666\n",
      "Epoch 4/100\n",
      "125/125 [==============================] - 0s 3ms/step - loss: 0.0580\n",
      "Epoch 5/100\n",
      "125/125 [==============================] - 0s 3ms/step - loss: 0.0499\n",
      "Epoch 6/100\n",
      "125/125 [==============================] - 0s 3ms/step - loss: 0.0428\n",
      "Epoch 7/100\n",
      "125/125 [==============================] - 0s 2ms/step - loss: 0.0370\n",
      "Epoch 8/100\n",
      "125/125 [==============================] - 0s 3ms/step - loss: 0.0325\n",
      "Epoch 9/100\n",
      "125/125 [==============================] - 0s 3ms/step - loss: 0.0291\n",
      "Epoch 10/100\n",
      "125/125 [==============================] - 0s 4ms/step - loss: 0.0264\n",
      "Epoch 11/100\n",
      "125/125 [==============================] - 1s 4ms/step - loss: 0.0243\n",
      "Epoch 12/100\n",
      "125/125 [==============================] - 0s 3ms/step - loss: 0.0225\n",
      "Epoch 13/100\n",
      "125/125 [==============================] - 0s 4ms/step - loss: 0.0209\n",
      "Epoch 14/100\n",
      "125/125 [==============================] - 0s 4ms/step - loss: 0.0196\n",
      "Epoch 15/100\n",
      "125/125 [==============================] - 0s 3ms/step - loss: 0.0185\n",
      "Epoch 16/100\n",
      "125/125 [==============================] - 0s 3ms/step - loss: 0.0175\n",
      "Epoch 17/100\n",
      "125/125 [==============================] - 0s 3ms/step - loss: 0.0166\n",
      "Epoch 18/100\n",
      "125/125 [==============================] - 0s 3ms/step - loss: 0.0159\n",
      "Epoch 19/100\n",
      "125/125 [==============================] - 0s 3ms/step - loss: 0.0152\n",
      "Epoch 20/100\n",
      "125/125 [==============================] - 0s 3ms/step - loss: 0.0146\n",
      "Epoch 21/100\n",
      "125/125 [==============================] - 0s 3ms/step - loss: 0.0141\n",
      "Epoch 22/100\n",
      "125/125 [==============================] - 0s 2ms/step - loss: 0.0137\n",
      "Epoch 23/100\n",
      "125/125 [==============================] - 0s 2ms/step - loss: 0.0133\n",
      "Epoch 24/100\n",
      "125/125 [==============================] - 0s 2ms/step - loss: 0.0130\n",
      "Epoch 25/100\n",
      "125/125 [==============================] - 0s 2ms/step - loss: 0.0127\n",
      "Epoch 26/100\n",
      "125/125 [==============================] - 0s 2ms/step - loss: 0.0124\n",
      "Epoch 27/100\n",
      "125/125 [==============================] - 0s 2ms/step - loss: 0.0122\n",
      "Epoch 28/100\n",
      "125/125 [==============================] - 0s 2ms/step - loss: 0.0120\n",
      "Epoch 29/100\n",
      "125/125 [==============================] - 0s 2ms/step - loss: 0.0118\n",
      "Epoch 30/100\n",
      "125/125 [==============================] - 0s 2ms/step - loss: 0.0116\n",
      "Epoch 31/100\n",
      "125/125 [==============================] - 0s 3ms/step - loss: 0.0114\n",
      "Epoch 32/100\n",
      "125/125 [==============================] - 0s 2ms/step - loss: 0.0113\n",
      "Epoch 33/100\n",
      "125/125 [==============================] - 0s 2ms/step - loss: 0.0111\n",
      "Epoch 34/100\n",
      "125/125 [==============================] - 0s 2ms/step - loss: 0.0109\n",
      "Epoch 35/100\n",
      "125/125 [==============================] - 0s 2ms/step - loss: 0.0108\n",
      "Epoch 36/100\n",
      "125/125 [==============================] - 0s 2ms/step - loss: 0.0106\n",
      "Epoch 37/100\n",
      "125/125 [==============================] - 0s 2ms/step - loss: 0.0105\n",
      "Epoch 38/100\n",
      "125/125 [==============================] - 0s 2ms/step - loss: 0.0103\n",
      "Epoch 39/100\n",
      "125/125 [==============================] - 0s 2ms/step - loss: 0.0102\n",
      "Epoch 40/100\n",
      "125/125 [==============================] - 0s 2ms/step - loss: 0.0101\n",
      "Epoch 41/100\n",
      "125/125 [==============================] - 0s 2ms/step - loss: 0.0099\n",
      "Epoch 42/100\n",
      "125/125 [==============================] - 0s 2ms/step - loss: 0.0098\n",
      "Epoch 43/100\n",
      "125/125 [==============================] - 0s 3ms/step - loss: 0.0097\n",
      "Epoch 44/100\n",
      "125/125 [==============================] - 0s 2ms/step - loss: 0.0095\n",
      "Epoch 45/100\n",
      "125/125 [==============================] - 0s 2ms/step - loss: 0.0094\n",
      "Epoch 46/100\n",
      "125/125 [==============================] - 0s 2ms/step - loss: 0.0093\n",
      "Epoch 47/100\n",
      "125/125 [==============================] - 0s 2ms/step - loss: 0.0092\n",
      "Epoch 48/100\n",
      "125/125 [==============================] - 0s 2ms/step - loss: 0.0091\n",
      "Epoch 49/100\n",
      "125/125 [==============================] - 0s 2ms/step - loss: 0.0089\n",
      "Epoch 50/100\n",
      "125/125 [==============================] - 0s 2ms/step - loss: 0.0088\n",
      "Epoch 51/100\n",
      "125/125 [==============================] - 0s 2ms/step - loss: 0.0087\n",
      "Epoch 52/100\n",
      "125/125 [==============================] - 0s 2ms/step - loss: 0.0086\n",
      "Epoch 53/100\n",
      "125/125 [==============================] - 0s 3ms/step - loss: 0.0085\n",
      "Epoch 54/100\n",
      "125/125 [==============================] - 0s 2ms/step - loss: 0.0084\n",
      "Epoch 55/100\n",
      "125/125 [==============================] - 0s 2ms/step - loss: 0.0083\n",
      "Epoch 56/100\n",
      "125/125 [==============================] - 0s 2ms/step - loss: 0.0082\n",
      "Epoch 57/100\n",
      "125/125 [==============================] - 0s 2ms/step - loss: 0.0081\n",
      "Epoch 58/100\n",
      "125/125 [==============================] - 0s 2ms/step - loss: 0.0080\n",
      "Epoch 59/100\n",
      "125/125 [==============================] - 0s 2ms/step - loss: 0.0079\n",
      "Epoch 60/100\n",
      "125/125 [==============================] - 0s 2ms/step - loss: 0.0078\n",
      "Epoch 61/100\n",
      "125/125 [==============================] - 0s 2ms/step - loss: 0.0078\n",
      "Epoch 62/100\n",
      "125/125 [==============================] - 0s 2ms/step - loss: 0.0077\n",
      "Epoch 63/100\n",
      "125/125 [==============================] - 0s 2ms/step - loss: 0.0076\n",
      "Epoch 64/100\n",
      "125/125 [==============================] - 0s 2ms/step - loss: 0.0075\n",
      "Epoch 65/100\n",
      "125/125 [==============================] - 0s 2ms/step - loss: 0.0074\n",
      "Epoch 66/100\n",
      "125/125 [==============================] - 0s 3ms/step - loss: 0.0074\n",
      "Epoch 67/100\n",
      "125/125 [==============================] - 0s 2ms/step - loss: 0.0073\n",
      "Epoch 68/100\n",
      "125/125 [==============================] - 0s 2ms/step - loss: 0.0072\n",
      "Epoch 69/100\n",
      "125/125 [==============================] - 0s 2ms/step - loss: 0.0071\n",
      "Epoch 70/100\n",
      "125/125 [==============================] - 0s 2ms/step - loss: 0.0071\n",
      "Epoch 71/100\n",
      "125/125 [==============================] - 0s 2ms/step - loss: 0.0070\n",
      "Epoch 72/100\n",
      "125/125 [==============================] - 0s 2ms/step - loss: 0.0069\n",
      "Epoch 73/100\n",
      "125/125 [==============================] - 0s 2ms/step - loss: 0.0069\n",
      "Epoch 74/100\n",
      "125/125 [==============================] - 0s 2ms/step - loss: 0.0068\n",
      "Epoch 75/100\n",
      "125/125 [==============================] - 0s 2ms/step - loss: 0.0067\n",
      "Epoch 76/100\n",
      "125/125 [==============================] - 0s 2ms/step - loss: 0.0067\n",
      "Epoch 77/100\n",
      "125/125 [==============================] - 0s 2ms/step - loss: 0.0066\n",
      "Epoch 78/100\n",
      "125/125 [==============================] - 0s 2ms/step - loss: 0.0066\n",
      "Epoch 79/100\n",
      "125/125 [==============================] - 0s 2ms/step - loss: 0.0065\n",
      "Epoch 80/100\n",
      "125/125 [==============================] - 0s 2ms/step - loss: 0.0064\n",
      "Epoch 81/100\n",
      "125/125 [==============================] - 0s 2ms/step - loss: 0.0064\n",
      "Epoch 82/100\n",
      "125/125 [==============================] - 0s 2ms/step - loss: 0.0063\n",
      "Epoch 83/100\n",
      "125/125 [==============================] - 0s 2ms/step - loss: 0.0063\n",
      "Epoch 84/100\n",
      "125/125 [==============================] - 0s 2ms/step - loss: 0.0062\n",
      "Epoch 85/100\n",
      "125/125 [==============================] - 0s 2ms/step - loss: 0.0062\n",
      "Epoch 86/100\n",
      "125/125 [==============================] - 0s 2ms/step - loss: 0.0061\n",
      "Epoch 87/100\n",
      "125/125 [==============================] - 0s 2ms/step - loss: 0.0061\n",
      "Epoch 88/100\n",
      "125/125 [==============================] - 0s 2ms/step - loss: 0.0060\n",
      "Epoch 89/100\n",
      "125/125 [==============================] - 0s 2ms/step - loss: 0.0060\n",
      "Epoch 90/100\n",
      "125/125 [==============================] - 0s 2ms/step - loss: 0.0059\n",
      "Epoch 91/100\n",
      "125/125 [==============================] - 0s 2ms/step - loss: 0.0059\n",
      "Epoch 92/100\n",
      "125/125 [==============================] - 0s 2ms/step - loss: 0.0059\n",
      "Epoch 93/100\n",
      "125/125 [==============================] - 0s 2ms/step - loss: 0.0058\n",
      "Epoch 94/100\n",
      "125/125 [==============================] - 0s 2ms/step - loss: 0.0058\n",
      "Epoch 95/100\n",
      "125/125 [==============================] - 0s 2ms/step - loss: 0.0057\n",
      "Epoch 96/100\n",
      "125/125 [==============================] - 0s 2ms/step - loss: 0.0057\n",
      "Epoch 97/100\n",
      "125/125 [==============================] - 0s 2ms/step - loss: 0.0057\n",
      "Epoch 98/100\n",
      "125/125 [==============================] - 0s 2ms/step - loss: 0.0056\n",
      "Epoch 99/100\n",
      "125/125 [==============================] - 0s 2ms/step - loss: 0.0056\n",
      "Epoch 100/100\n",
      "125/125 [==============================] - 0s 3ms/step - loss: 0.0055\n"
     ]
    },
    {
     "data": {
      "text/plain": [
       "<keras.callbacks.History at 0x167594951f0>"
      ]
     },
     "execution_count": 23,
     "metadata": {},
     "output_type": "execute_result"
    }
   ],
   "source": [
    "X_train, y_train = train_set_scaled[:, 1:], train_set_scaled[:, 0:1]\n",
    "X_train = X_train.reshape(X_train.shape[0], 1, X_train.shape[1])\n",
    "X_test, y_test = test_set_scaled[:, 1:], test_set_scaled[:, 0:1]\n",
    "X_test = X_test.reshape(X_test.shape[0], 1, X_test.shape[1])\n",
    "\n",
    "\n",
    "# Ajustando el modelo\n",
    "model = Sequential()\n",
    "model.add(LSTM(4, batch_input_shape=(1, X_train.shape[1], X_train.shape[2]), stateful=True))\n",
    "model.add(Dense(1))\n",
    "model.compile(loss='mean_squared_error', optimizer='adam')\n",
    "model.fit(X_train, y_train, epochs=100, batch_size=1, verbose=1, shuffle=False)"
   ]
  },
  {
   "cell_type": "code",
   "execution_count": 25,
   "metadata": {},
   "outputs": [
    {
     "name": "stdout",
     "output_type": "stream",
     "text": [
      "12/12 [==============================] - 0s 2ms/step\n"
     ]
    },
    {
     "data": {
      "text/html": [
       "<div>\n",
       "<style scoped>\n",
       "    .dataframe tbody tr th:only-of-type {\n",
       "        vertical-align: middle;\n",
       "    }\n",
       "\n",
       "    .dataframe tbody tr th {\n",
       "        vertical-align: top;\n",
       "    }\n",
       "\n",
       "    .dataframe thead th {\n",
       "        text-align: right;\n",
       "    }\n",
       "</style>\n",
       "<table border=\"1\" class=\"dataframe\">\n",
       "  <thead>\n",
       "    <tr style=\"text-align: right;\">\n",
       "      <th></th>\n",
       "      <th>mes</th>\n",
       "      <th>pred_value</th>\n",
       "      <th>real_value</th>\n",
       "    </tr>\n",
       "  </thead>\n",
       "  <tbody>\n",
       "    <tr>\n",
       "      <th>0</th>\n",
       "      <td>2018-08</td>\n",
       "      <td>258824898</td>\n",
       "      <td>190794276</td>\n",
       "    </tr>\n",
       "    <tr>\n",
       "      <th>1</th>\n",
       "      <td>2018-09</td>\n",
       "      <td>248764613</td>\n",
       "      <td>190349097</td>\n",
       "    </tr>\n",
       "    <tr>\n",
       "      <th>2</th>\n",
       "      <td>2018-10</td>\n",
       "      <td>231599215</td>\n",
       "      <td>188198737</td>\n",
       "    </tr>\n",
       "    <tr>\n",
       "      <th>3</th>\n",
       "      <td>2018-11</td>\n",
       "      <td>313008122</td>\n",
       "      <td>208732711</td>\n",
       "    </tr>\n",
       "    <tr>\n",
       "      <th>4</th>\n",
       "      <td>2018-12</td>\n",
       "      <td>170746666</td>\n",
       "      <td>147735452</td>\n",
       "    </tr>\n",
       "    <tr>\n",
       "      <th>5</th>\n",
       "      <td>2019-01</td>\n",
       "      <td>33855501</td>\n",
       "      <td>82625200</td>\n",
       "    </tr>\n",
       "    <tr>\n",
       "      <th>6</th>\n",
       "      <td>2019-02</td>\n",
       "      <td>200673320</td>\n",
       "      <td>127458810</td>\n",
       "    </tr>\n",
       "    <tr>\n",
       "      <th>7</th>\n",
       "      <td>2019-03</td>\n",
       "      <td>164998884</td>\n",
       "      <td>153793350</td>\n",
       "    </tr>\n",
       "    <tr>\n",
       "      <th>8</th>\n",
       "      <td>2019-04</td>\n",
       "      <td>154641575</td>\n",
       "      <td>138929019</td>\n",
       "    </tr>\n",
       "    <tr>\n",
       "      <th>9</th>\n",
       "      <td>2019-05</td>\n",
       "      <td>197442128</td>\n",
       "      <td>141128050</td>\n",
       "    </tr>\n",
       "    <tr>\n",
       "      <th>10</th>\n",
       "      <td>2019-06</td>\n",
       "      <td>137616462</td>\n",
       "      <td>88612700</td>\n",
       "    </tr>\n",
       "    <tr>\n",
       "      <th>11</th>\n",
       "      <td>2019-07</td>\n",
       "      <td>97327670</td>\n",
       "      <td>145798014</td>\n",
       "    </tr>\n",
       "  </tbody>\n",
       "</table>\n",
       "</div>"
      ],
      "text/plain": [
       "        mes  pred_value  real_value\n",
       "0   2018-08   258824898   190794276\n",
       "1   2018-09   248764613   190349097\n",
       "2   2018-10   231599215   188198737\n",
       "3   2018-11   313008122   208732711\n",
       "4   2018-12   170746666   147735452\n",
       "5   2019-01    33855501    82625200\n",
       "6   2019-02   200673320   127458810\n",
       "7   2019-03   164998884   153793350\n",
       "8   2019-04   154641575   138929019\n",
       "9   2019-05   197442128   141128050\n",
       "10  2019-06   137616462    88612700\n",
       "11  2019-07    97327670   145798014"
      ]
     },
     "execution_count": 25,
     "metadata": {},
     "output_type": "execute_result"
    }
   ],
   "source": [
    "# Predicción del modelo.\n",
    "y_pred = model.predict(X_test,batch_size=1)\n",
    "\n",
    "# Transformación inversa del escalamiento.\n",
    "y_pred = y_pred.reshape(y_pred.shape[0], 1, y_pred.shape[1])\n",
    "\n",
    "pred_test_set = []\n",
    "for index in range(0,len(y_pred)):\n",
    "    pred_test_set.append(np.concatenate([y_pred[index], X_test[index]], axis=1))\n",
    "\n",
    "pred_test_set = np.array(pred_test_set) \n",
    "pred_test_set = pred_test_set.reshape(pred_test_set.shape[0], pred_test_set.shape[2]) \n",
    "pred_test_set_inverted = scaler.inverse_transform(pred_test_set)\n",
    "\n",
    "# Transformación inversa de las diferencias de ventas.\n",
    "result_list = []\n",
    "sales_dates = list(df[-13:].mes)\n",
    "act_sales = list(df[-13:].ventas)\n",
    "for index in range(0,len(pred_test_set_inverted)):\n",
    "    result_dict = {}\n",
    "    result_dict['mes'] = sales_dates[index+1]\n",
    "    result_dict['pred_value'] = int(pred_test_set_inverted[index][0] + act_sales[index])\n",
    "    result_dict['real_value'] = int(act_sales[index+1])\n",
    "    result_list.append(result_dict)\n",
    "df_result = pd.DataFrame(result_list)\n",
    "df_result"
   ]
  },
  {
   "cell_type": "code",
   "execution_count": 28,
   "metadata": {},
   "outputs": [
    {
     "data": {
      "application/vnd.plotly.v1+json": {
       "config": {
        "linkText": "Export to plot.ly",
        "plotlyServerURL": "https://plot.ly",
        "showLink": false
       },
       "data": [
        {
         "name": "actual",
         "type": "scatter",
         "x": [
          "2007-02",
          "2007-03",
          "2007-04",
          "2007-05",
          "2007-06",
          "2007-07",
          "2007-08",
          "2007-09",
          "2007-10",
          "2007-11",
          "2007-12",
          "2008-01",
          "2008-02",
          "2008-03",
          "2008-04",
          "2008-05",
          "2008-06",
          "2008-07",
          "2008-08",
          "2008-09",
          "2008-10",
          "2008-11",
          "2008-12",
          "2009-01",
          "2009-02",
          "2009-03",
          "2009-04",
          "2009-05",
          "2009-06",
          "2009-07",
          "2009-08",
          "2009-09",
          "2009-10",
          "2009-11",
          "2009-12",
          "2010-01",
          "2010-02",
          "2010-03",
          "2010-04",
          "2010-05",
          "2010-06",
          "2010-07",
          "2010-08",
          "2010-09",
          "2010-10",
          "2010-11",
          "2010-12",
          "2011-01",
          "2011-02",
          "2011-03",
          "2011-04",
          "2011-05",
          "2011-06",
          "2011-07",
          "2011-08",
          "2011-09",
          "2011-10",
          "2011-11",
          "2011-12",
          "2012-01",
          "2012-02",
          "2012-03",
          "2012-04",
          "2012-05",
          "2012-06",
          "2012-07",
          "2012-08",
          "2012-09",
          "2012-10",
          "2012-11",
          "2012-12",
          "2013-01",
          "2013-02",
          "2013-03",
          "2013-04",
          "2013-05",
          "2013-06",
          "2013-07",
          "2013-08",
          "2013-09",
          "2013-10",
          "2013-11",
          "2013-12",
          "2014-01",
          "2014-02",
          "2014-03",
          "2014-04",
          "2014-05",
          "2014-06",
          "2014-07",
          "2014-08",
          "2014-09",
          "2014-10",
          "2014-11",
          "2014-12",
          "2015-01",
          "2015-02",
          "2015-03",
          "2015-04",
          "2015-05",
          "2015-06",
          "2015-07",
          "2015-08",
          "2015-09",
          "2015-10",
          "2015-11",
          "2015-12",
          "2016-01",
          "2016-02",
          "2016-03",
          "2016-04",
          "2016-05",
          "2016-06",
          "2016-07",
          "2016-08",
          "2016-09",
          "2016-10",
          "2016-11",
          "2016-12",
          "2017-01",
          "2017-02",
          "2017-03",
          "2017-04",
          "2017-05",
          "2017-06",
          "2017-07",
          "2017-08",
          "2017-09",
          "2017-10",
          "2017-11",
          "2017-12",
          "2018-01",
          "2018-02",
          "2018-03",
          "2018-04",
          "2018-05",
          "2018-06",
          "2018-07",
          "2018-08",
          "2018-09",
          "2018-10",
          "2018-11",
          "2018-12",
          "2019-01",
          "2019-02",
          "2019-03",
          "2019-04",
          "2019-05",
          "2019-06",
          "2019-07"
         ],
         "y": [
          815000,
          1018000,
          2394000,
          679000,
          3122000,
          11249500,
          11629000,
          11137500,
          9972000,
          13141500,
          11631950,
          7062000,
          13277000,
          3381000,
          11752500,
          9925500,
          18329150,
          17198500,
          21576500,
          44213300,
          42298450,
          53360550,
          73172800,
          42919239,
          53735950,
          81004714,
          58750149,
          62115127,
          52695850,
          51086152,
          51944850,
          61450453,
          59673295,
          72735340,
          59316120,
          28443200,
          55686700,
          74746297,
          73321900,
          80907150,
          74488035,
          66770364,
          76988074,
          75247200,
          77574840,
          103197970,
          82751550,
          41667530,
          78783500,
          99336758,
          86102260,
          87227078,
          70946080,
          74059275,
          79068903,
          62499300,
          73633000,
          106236725,
          65885366,
          48191100,
          76239750,
          97617950,
          63375518,
          92430245,
          64443800,
          77090361,
          93170502,
          97245003,
          101375288,
          122019277,
          93348750,
          61109504,
          79580888,
          92523645,
          89879038,
          99020165,
          88280730,
          115918437,
          124937996,
          86249300,
          97182850,
          132813880,
          105192700,
          62824945,
          144920008,
          156887818,
          128843790,
          143712090,
          117165238,
          130224320,
          126425290,
          144548355,
          159482225,
          222049100,
          159684540,
          61811671,
          190762600,
          220001468,
          154861849,
          212078600,
          149866211,
          165763592,
          209630759,
          193386355,
          244486201,
          280869590,
          200498802,
          90435300,
          218755101,
          223427360,
          232354529,
          215560590,
          161420776,
          145221806,
          191865722,
          221807599,
          237293049,
          307853866,
          236308500,
          97384723,
          292742851,
          287655601,
          240088855,
          274023276,
          220981353,
          216227483,
          241080356,
          259471171,
          266606366,
          386887311,
          267860238,
          101609655,
          273362689,
          304944325,
          238084455,
          296069526,
          221937650,
          187166050,
          190794276,
          190349097,
          188198737,
          208732711,
          147735452,
          82625200,
          127458810,
          153793350,
          138929019,
          141128050,
          88612700,
          145798014
         ]
        },
        {
         "name": "predicted",
         "type": "scatter",
         "x": [
          "2007-02",
          "2007-03",
          "2007-04",
          "2007-05",
          "2007-06",
          "2007-07",
          "2007-08",
          "2007-09",
          "2007-10",
          "2007-11",
          "2007-12",
          "2008-01",
          "2008-02",
          "2008-03",
          "2008-04",
          "2008-05",
          "2008-06",
          "2008-07",
          "2008-08",
          "2008-09",
          "2008-10",
          "2008-11",
          "2008-12",
          "2009-01",
          "2009-02",
          "2009-03",
          "2009-04",
          "2009-05",
          "2009-06",
          "2009-07",
          "2009-08",
          "2009-09",
          "2009-10",
          "2009-11",
          "2009-12",
          "2010-01",
          "2010-02",
          "2010-03",
          "2010-04",
          "2010-05",
          "2010-06",
          "2010-07",
          "2010-08",
          "2010-09",
          "2010-10",
          "2010-11",
          "2010-12",
          "2011-01",
          "2011-02",
          "2011-03",
          "2011-04",
          "2011-05",
          "2011-06",
          "2011-07",
          "2011-08",
          "2011-09",
          "2011-10",
          "2011-11",
          "2011-12",
          "2012-01",
          "2012-02",
          "2012-03",
          "2012-04",
          "2012-05",
          "2012-06",
          "2012-07",
          "2012-08",
          "2012-09",
          "2012-10",
          "2012-11",
          "2012-12",
          "2013-01",
          "2013-02",
          "2013-03",
          "2013-04",
          "2013-05",
          "2013-06",
          "2013-07",
          "2013-08",
          "2013-09",
          "2013-10",
          "2013-11",
          "2013-12",
          "2014-01",
          "2014-02",
          "2014-03",
          "2014-04",
          "2014-05",
          "2014-06",
          "2014-07",
          "2014-08",
          "2014-09",
          "2014-10",
          "2014-11",
          "2014-12",
          "2015-01",
          "2015-02",
          "2015-03",
          "2015-04",
          "2015-05",
          "2015-06",
          "2015-07",
          "2015-08",
          "2015-09",
          "2015-10",
          "2015-11",
          "2015-12",
          "2016-01",
          "2016-02",
          "2016-03",
          "2016-04",
          "2016-05",
          "2016-06",
          "2016-07",
          "2016-08",
          "2016-09",
          "2016-10",
          "2016-11",
          "2016-12",
          "2017-01",
          "2017-02",
          "2017-03",
          "2017-04",
          "2017-05",
          "2017-06",
          "2017-07",
          "2017-08",
          "2017-09",
          "2017-10",
          "2017-11",
          "2017-12",
          "2018-01",
          "2018-02",
          "2018-03",
          "2018-04",
          "2018-05",
          "2018-06",
          "2018-07",
          "2018-08",
          "2018-09",
          "2018-10",
          "2018-11",
          "2018-12",
          "2019-01",
          "2019-02",
          "2019-03",
          "2019-04",
          "2019-05",
          "2019-06",
          "2019-07"
         ],
         "y": [
          null,
          null,
          null,
          null,
          null,
          null,
          null,
          null,
          null,
          null,
          null,
          null,
          null,
          null,
          null,
          null,
          null,
          null,
          null,
          null,
          null,
          null,
          null,
          null,
          null,
          null,
          null,
          null,
          null,
          null,
          null,
          null,
          null,
          null,
          null,
          null,
          null,
          null,
          null,
          null,
          null,
          null,
          null,
          null,
          null,
          null,
          null,
          null,
          null,
          null,
          null,
          null,
          null,
          null,
          null,
          null,
          null,
          null,
          null,
          null,
          null,
          null,
          null,
          null,
          null,
          null,
          null,
          null,
          null,
          null,
          null,
          null,
          null,
          null,
          null,
          null,
          null,
          null,
          null,
          null,
          null,
          null,
          null,
          null,
          null,
          null,
          null,
          null,
          null,
          null,
          null,
          null,
          null,
          null,
          null,
          null,
          null,
          null,
          null,
          null,
          null,
          null,
          null,
          null,
          null,
          null,
          null,
          null,
          null,
          null,
          null,
          null,
          null,
          null,
          null,
          null,
          null,
          null,
          null,
          null,
          null,
          null,
          null,
          null,
          null,
          null,
          null,
          null,
          null,
          null,
          null,
          null,
          null,
          null,
          null,
          null,
          null,
          null,
          258824898,
          248764613,
          231599215,
          313008122,
          170746666,
          33855501,
          200673320,
          164998884,
          154641575,
          197442128,
          137616462,
          97327670
         ]
        }
       ],
       "layout": {
        "template": {
         "data": {
          "bar": [
           {
            "error_x": {
             "color": "#2a3f5f"
            },
            "error_y": {
             "color": "#2a3f5f"
            },
            "marker": {
             "line": {
              "color": "#E5ECF6",
              "width": 0.5
             },
             "pattern": {
              "fillmode": "overlay",
              "size": 10,
              "solidity": 0.2
             }
            },
            "type": "bar"
           }
          ],
          "barpolar": [
           {
            "marker": {
             "line": {
              "color": "#E5ECF6",
              "width": 0.5
             },
             "pattern": {
              "fillmode": "overlay",
              "size": 10,
              "solidity": 0.2
             }
            },
            "type": "barpolar"
           }
          ],
          "carpet": [
           {
            "aaxis": {
             "endlinecolor": "#2a3f5f",
             "gridcolor": "white",
             "linecolor": "white",
             "minorgridcolor": "white",
             "startlinecolor": "#2a3f5f"
            },
            "baxis": {
             "endlinecolor": "#2a3f5f",
             "gridcolor": "white",
             "linecolor": "white",
             "minorgridcolor": "white",
             "startlinecolor": "#2a3f5f"
            },
            "type": "carpet"
           }
          ],
          "choropleth": [
           {
            "colorbar": {
             "outlinewidth": 0,
             "ticks": ""
            },
            "type": "choropleth"
           }
          ],
          "contour": [
           {
            "colorbar": {
             "outlinewidth": 0,
             "ticks": ""
            },
            "colorscale": [
             [
              0,
              "#0d0887"
             ],
             [
              0.1111111111111111,
              "#46039f"
             ],
             [
              0.2222222222222222,
              "#7201a8"
             ],
             [
              0.3333333333333333,
              "#9c179e"
             ],
             [
              0.4444444444444444,
              "#bd3786"
             ],
             [
              0.5555555555555556,
              "#d8576b"
             ],
             [
              0.6666666666666666,
              "#ed7953"
             ],
             [
              0.7777777777777778,
              "#fb9f3a"
             ],
             [
              0.8888888888888888,
              "#fdca26"
             ],
             [
              1,
              "#f0f921"
             ]
            ],
            "type": "contour"
           }
          ],
          "contourcarpet": [
           {
            "colorbar": {
             "outlinewidth": 0,
             "ticks": ""
            },
            "type": "contourcarpet"
           }
          ],
          "heatmap": [
           {
            "colorbar": {
             "outlinewidth": 0,
             "ticks": ""
            },
            "colorscale": [
             [
              0,
              "#0d0887"
             ],
             [
              0.1111111111111111,
              "#46039f"
             ],
             [
              0.2222222222222222,
              "#7201a8"
             ],
             [
              0.3333333333333333,
              "#9c179e"
             ],
             [
              0.4444444444444444,
              "#bd3786"
             ],
             [
              0.5555555555555556,
              "#d8576b"
             ],
             [
              0.6666666666666666,
              "#ed7953"
             ],
             [
              0.7777777777777778,
              "#fb9f3a"
             ],
             [
              0.8888888888888888,
              "#fdca26"
             ],
             [
              1,
              "#f0f921"
             ]
            ],
            "type": "heatmap"
           }
          ],
          "heatmapgl": [
           {
            "colorbar": {
             "outlinewidth": 0,
             "ticks": ""
            },
            "colorscale": [
             [
              0,
              "#0d0887"
             ],
             [
              0.1111111111111111,
              "#46039f"
             ],
             [
              0.2222222222222222,
              "#7201a8"
             ],
             [
              0.3333333333333333,
              "#9c179e"
             ],
             [
              0.4444444444444444,
              "#bd3786"
             ],
             [
              0.5555555555555556,
              "#d8576b"
             ],
             [
              0.6666666666666666,
              "#ed7953"
             ],
             [
              0.7777777777777778,
              "#fb9f3a"
             ],
             [
              0.8888888888888888,
              "#fdca26"
             ],
             [
              1,
              "#f0f921"
             ]
            ],
            "type": "heatmapgl"
           }
          ],
          "histogram": [
           {
            "marker": {
             "pattern": {
              "fillmode": "overlay",
              "size": 10,
              "solidity": 0.2
             }
            },
            "type": "histogram"
           }
          ],
          "histogram2d": [
           {
            "colorbar": {
             "outlinewidth": 0,
             "ticks": ""
            },
            "colorscale": [
             [
              0,
              "#0d0887"
             ],
             [
              0.1111111111111111,
              "#46039f"
             ],
             [
              0.2222222222222222,
              "#7201a8"
             ],
             [
              0.3333333333333333,
              "#9c179e"
             ],
             [
              0.4444444444444444,
              "#bd3786"
             ],
             [
              0.5555555555555556,
              "#d8576b"
             ],
             [
              0.6666666666666666,
              "#ed7953"
             ],
             [
              0.7777777777777778,
              "#fb9f3a"
             ],
             [
              0.8888888888888888,
              "#fdca26"
             ],
             [
              1,
              "#f0f921"
             ]
            ],
            "type": "histogram2d"
           }
          ],
          "histogram2dcontour": [
           {
            "colorbar": {
             "outlinewidth": 0,
             "ticks": ""
            },
            "colorscale": [
             [
              0,
              "#0d0887"
             ],
             [
              0.1111111111111111,
              "#46039f"
             ],
             [
              0.2222222222222222,
              "#7201a8"
             ],
             [
              0.3333333333333333,
              "#9c179e"
             ],
             [
              0.4444444444444444,
              "#bd3786"
             ],
             [
              0.5555555555555556,
              "#d8576b"
             ],
             [
              0.6666666666666666,
              "#ed7953"
             ],
             [
              0.7777777777777778,
              "#fb9f3a"
             ],
             [
              0.8888888888888888,
              "#fdca26"
             ],
             [
              1,
              "#f0f921"
             ]
            ],
            "type": "histogram2dcontour"
           }
          ],
          "mesh3d": [
           {
            "colorbar": {
             "outlinewidth": 0,
             "ticks": ""
            },
            "type": "mesh3d"
           }
          ],
          "parcoords": [
           {
            "line": {
             "colorbar": {
              "outlinewidth": 0,
              "ticks": ""
             }
            },
            "type": "parcoords"
           }
          ],
          "pie": [
           {
            "automargin": true,
            "type": "pie"
           }
          ],
          "scatter": [
           {
            "marker": {
             "colorbar": {
              "outlinewidth": 0,
              "ticks": ""
             }
            },
            "type": "scatter"
           }
          ],
          "scatter3d": [
           {
            "line": {
             "colorbar": {
              "outlinewidth": 0,
              "ticks": ""
             }
            },
            "marker": {
             "colorbar": {
              "outlinewidth": 0,
              "ticks": ""
             }
            },
            "type": "scatter3d"
           }
          ],
          "scattercarpet": [
           {
            "marker": {
             "colorbar": {
              "outlinewidth": 0,
              "ticks": ""
             }
            },
            "type": "scattercarpet"
           }
          ],
          "scattergeo": [
           {
            "marker": {
             "colorbar": {
              "outlinewidth": 0,
              "ticks": ""
             }
            },
            "type": "scattergeo"
           }
          ],
          "scattergl": [
           {
            "marker": {
             "colorbar": {
              "outlinewidth": 0,
              "ticks": ""
             }
            },
            "type": "scattergl"
           }
          ],
          "scattermapbox": [
           {
            "marker": {
             "colorbar": {
              "outlinewidth": 0,
              "ticks": ""
             }
            },
            "type": "scattermapbox"
           }
          ],
          "scatterpolar": [
           {
            "marker": {
             "colorbar": {
              "outlinewidth": 0,
              "ticks": ""
             }
            },
            "type": "scatterpolar"
           }
          ],
          "scatterpolargl": [
           {
            "marker": {
             "colorbar": {
              "outlinewidth": 0,
              "ticks": ""
             }
            },
            "type": "scatterpolargl"
           }
          ],
          "scatterternary": [
           {
            "marker": {
             "colorbar": {
              "outlinewidth": 0,
              "ticks": ""
             }
            },
            "type": "scatterternary"
           }
          ],
          "surface": [
           {
            "colorbar": {
             "outlinewidth": 0,
             "ticks": ""
            },
            "colorscale": [
             [
              0,
              "#0d0887"
             ],
             [
              0.1111111111111111,
              "#46039f"
             ],
             [
              0.2222222222222222,
              "#7201a8"
             ],
             [
              0.3333333333333333,
              "#9c179e"
             ],
             [
              0.4444444444444444,
              "#bd3786"
             ],
             [
              0.5555555555555556,
              "#d8576b"
             ],
             [
              0.6666666666666666,
              "#ed7953"
             ],
             [
              0.7777777777777778,
              "#fb9f3a"
             ],
             [
              0.8888888888888888,
              "#fdca26"
             ],
             [
              1,
              "#f0f921"
             ]
            ],
            "type": "surface"
           }
          ],
          "table": [
           {
            "cells": {
             "fill": {
              "color": "#EBF0F8"
             },
             "line": {
              "color": "white"
             }
            },
            "header": {
             "fill": {
              "color": "#C8D4E3"
             },
             "line": {
              "color": "white"
             }
            },
            "type": "table"
           }
          ]
         },
         "layout": {
          "annotationdefaults": {
           "arrowcolor": "#2a3f5f",
           "arrowhead": 0,
           "arrowwidth": 1
          },
          "autotypenumbers": "strict",
          "coloraxis": {
           "colorbar": {
            "outlinewidth": 0,
            "ticks": ""
           }
          },
          "colorscale": {
           "diverging": [
            [
             0,
             "#8e0152"
            ],
            [
             0.1,
             "#c51b7d"
            ],
            [
             0.2,
             "#de77ae"
            ],
            [
             0.3,
             "#f1b6da"
            ],
            [
             0.4,
             "#fde0ef"
            ],
            [
             0.5,
             "#f7f7f7"
            ],
            [
             0.6,
             "#e6f5d0"
            ],
            [
             0.7,
             "#b8e186"
            ],
            [
             0.8,
             "#7fbc41"
            ],
            [
             0.9,
             "#4d9221"
            ],
            [
             1,
             "#276419"
            ]
           ],
           "sequential": [
            [
             0,
             "#0d0887"
            ],
            [
             0.1111111111111111,
             "#46039f"
            ],
            [
             0.2222222222222222,
             "#7201a8"
            ],
            [
             0.3333333333333333,
             "#9c179e"
            ],
            [
             0.4444444444444444,
             "#bd3786"
            ],
            [
             0.5555555555555556,
             "#d8576b"
            ],
            [
             0.6666666666666666,
             "#ed7953"
            ],
            [
             0.7777777777777778,
             "#fb9f3a"
            ],
            [
             0.8888888888888888,
             "#fdca26"
            ],
            [
             1,
             "#f0f921"
            ]
           ],
           "sequentialminus": [
            [
             0,
             "#0d0887"
            ],
            [
             0.1111111111111111,
             "#46039f"
            ],
            [
             0.2222222222222222,
             "#7201a8"
            ],
            [
             0.3333333333333333,
             "#9c179e"
            ],
            [
             0.4444444444444444,
             "#bd3786"
            ],
            [
             0.5555555555555556,
             "#d8576b"
            ],
            [
             0.6666666666666666,
             "#ed7953"
            ],
            [
             0.7777777777777778,
             "#fb9f3a"
            ],
            [
             0.8888888888888888,
             "#fdca26"
            ],
            [
             1,
             "#f0f921"
            ]
           ]
          },
          "colorway": [
           "#636efa",
           "#EF553B",
           "#00cc96",
           "#ab63fa",
           "#FFA15A",
           "#19d3f3",
           "#FF6692",
           "#B6E880",
           "#FF97FF",
           "#FECB52"
          ],
          "font": {
           "color": "#2a3f5f"
          },
          "geo": {
           "bgcolor": "white",
           "lakecolor": "white",
           "landcolor": "#E5ECF6",
           "showlakes": true,
           "showland": true,
           "subunitcolor": "white"
          },
          "hoverlabel": {
           "align": "left"
          },
          "hovermode": "closest",
          "mapbox": {
           "style": "light"
          },
          "paper_bgcolor": "white",
          "plot_bgcolor": "#E5ECF6",
          "polar": {
           "angularaxis": {
            "gridcolor": "white",
            "linecolor": "white",
            "ticks": ""
           },
           "bgcolor": "#E5ECF6",
           "radialaxis": {
            "gridcolor": "white",
            "linecolor": "white",
            "ticks": ""
           }
          },
          "scene": {
           "xaxis": {
            "backgroundcolor": "#E5ECF6",
            "gridcolor": "white",
            "gridwidth": 2,
            "linecolor": "white",
            "showbackground": true,
            "ticks": "",
            "zerolinecolor": "white"
           },
           "yaxis": {
            "backgroundcolor": "#E5ECF6",
            "gridcolor": "white",
            "gridwidth": 2,
            "linecolor": "white",
            "showbackground": true,
            "ticks": "",
            "zerolinecolor": "white"
           },
           "zaxis": {
            "backgroundcolor": "#E5ECF6",
            "gridcolor": "white",
            "gridwidth": 2,
            "linecolor": "white",
            "showbackground": true,
            "ticks": "",
            "zerolinecolor": "white"
           }
          },
          "shapedefaults": {
           "line": {
            "color": "#2a3f5f"
           }
          },
          "ternary": {
           "aaxis": {
            "gridcolor": "white",
            "linecolor": "white",
            "ticks": ""
           },
           "baxis": {
            "gridcolor": "white",
            "linecolor": "white",
            "ticks": ""
           },
           "bgcolor": "#E5ECF6",
           "caxis": {
            "gridcolor": "white",
            "linecolor": "white",
            "ticks": ""
           }
          },
          "title": {
           "x": 0.05
          },
          "xaxis": {
           "automargin": true,
           "gridcolor": "white",
           "linecolor": "white",
           "ticks": "",
           "title": {
            "standoff": 15
           },
           "zerolinecolor": "white",
           "zerolinewidth": 2
          },
          "yaxis": {
           "automargin": true,
           "gridcolor": "white",
           "linecolor": "white",
           "ticks": "",
           "title": {
            "standoff": 15
           },
           "zerolinecolor": "white",
           "zerolinewidth": 2
          }
         }
        },
        "title": {
         "text": "Predicción de ventas"
        }
       }
      }
     },
     "metadata": {},
     "output_type": "display_data"
    }
   ],
   "source": [
    "df_sales_pred = pd.merge(df,df_result,on='mes',how='left')\n",
    "plot_data = [\n",
    "go.Scatter(\n",
    "x=df_sales_pred['mes'],\n",
    "y=df_sales_pred['ventas'],\n",
    "name='actual'\n",
    "),\n",
    "go.Scatter(\n",
    "x=df_sales_pred['mes'],\n",
    "y=df_sales_pred['pred_value'],\n",
    "name='predicted'\n",
    ")\n",
    "\n",
    "]\n",
    "plot_layout = go.Layout(\n",
    "title='Predicción de ventas'\n",
    ")\n",
    "fig = go.Figure(data=plot_data, layout=plot_layout) \n",
    "pyoff.iplot(fig)"
   ]
  },
  {
   "cell_type": "code",
   "execution_count": 29,
   "metadata": {},
   "outputs": [],
   "source": [
    "def next_month_predict(df, cantidad_meses):\n",
    "    df_final = pd.DataFrame()\n",
    "    for k in range(cantidad_meses):\n",
    "        next_month = (datetime.strptime(str(list(df['mes'])[-1]), '%Y-%m') + relativedelta.relativedelta(months=1)).strftime('%Y-%m')\n",
    "        df = df.append(pd.DataFrame(data={'mes': [next_month], 'ventas': [0]}))\n",
    "\n",
    "        df_diff = df.copy()\n",
    "        df_diff['prev_ventas'] = df_diff['ventas'].shift(1)\n",
    "        df_diff = df_diff.dropna()\n",
    "        df_diff['diff'] = (df_diff['ventas'] - df_diff['prev_ventas'])\n",
    "        df_supervised = df_diff.drop(['prev_ventas'],axis=1)\n",
    "\n",
    "        for inc in range(1,13):\n",
    "            field_name = 'lag_' + str(inc)\n",
    "            df_supervised[field_name] = df_supervised['diff'].shift(inc)\n",
    "\n",
    "        df_supervised = df_supervised.dropna().reset_index(drop=True)\n",
    "        df_model = df_supervised.drop(['ventas','mes'],axis=1)\n",
    "        train_set, test_set = df_model[:-1].values, df_model[-1:].values\n",
    "\n",
    "        scaler = MinMaxScaler(feature_range=(-1, 1))\n",
    "        scaler = scaler.fit(train_set)\n",
    "\n",
    "        train_set = train_set.reshape(train_set.shape[0], train_set.shape[1])\n",
    "        train_set_scaled = scaler.transform(train_set)\n",
    "        test_set = test_set.reshape(test_set.shape[0], test_set.shape[1])\n",
    "        test_set_scaled = scaler.transform(test_set)\n",
    "\n",
    "        X_train, y_train = train_set_scaled[:, 1:], train_set_scaled[:, 0:1]\n",
    "        X_train = X_train.reshape(X_train.shape[0], 1, X_train.shape[1])\n",
    "        X_test, y_test = test_set_scaled[:, 1:], test_set_scaled[:, 0:1]\n",
    "        X_test = X_test.reshape(X_test.shape[0], 1, X_test.shape[1])\n",
    "\n",
    "        model = Sequential()\n",
    "        model.add(LSTM(4, batch_input_shape=(1, X_train.shape[1], X_train.shape[2]), stateful=True))\n",
    "        model.add(Dense(1))\n",
    "        model.compile(loss='mean_squared_error', optimizer='adam')\n",
    "        model.fit(X_train, y_train, epochs=100, batch_size=1, verbose=1, shuffle=False)\n",
    "\n",
    "        y_pred = model.predict(X_test,batch_size=1)\n",
    "        y_pred = y_pred.reshape(y_pred.shape[0], 1, y_pred.shape[1])\n",
    "\n",
    "        pred_test_set = []\n",
    "        for index in range(0,len(y_pred)):\n",
    "            pred_test_set.append(np.concatenate([y_pred[index], X_test[index]], axis=1))\n",
    "\n",
    "        pred_test_set = np.array(pred_test_set)\n",
    "        pred_test_set = pred_test_set.reshape(pred_test_set.shape[0], pred_test_set.shape[2])\n",
    "        pred_test_set_inverted = scaler.inverse_transform(pred_test_set)\n",
    "\n",
    "        result_list = []\n",
    "        sales_dates = list(df[-2:].mes)\n",
    "        act_sales = list(df[-2:].ventas)\n",
    "\n",
    "        result_dic = {}\n",
    "        result_dic['pred_value'] = int(act_sales[0])\n",
    "        result_dic['mes'] = sales_dates[0]\n",
    "        result_list.append(result_dic)\n",
    "\n",
    "        for index in range(0,len(pred_test_set_inverted)):\n",
    "            result_dict = {}\n",
    "            result_dict['pred_value'] = int(pred_test_set_inverted[index][0] + act_sales[index])\n",
    "            result_dict['mes'] = sales_dates[index+1]\n",
    "            result_list.append(result_dict)\n",
    "            \n",
    "        df_result = pd.DataFrame(result_list)\n",
    "        if k == 0:\n",
    "            df_final['pred_value'] = list(df_result['pred_value'])\n",
    "            df_final['mes'] = list(df_result['mes'])\n",
    "        else:\n",
    "            df_final = df_final.append(pd.DataFrame(data={'pred_value': [list(df_result['pred_value'])[-1]], 'mes': [list(df_result['mes'])[-1]]}))\n",
    "\n",
    "        df = df[:-1]\n",
    "        df = df.append(pd.DataFrame(data={'mes':[next_month], 'ventas':[list(df_result['pred_value'])[-1]]}))\n",
    "        df = df.reset_index().drop('index', axis=1)\n",
    "    \n",
    "\n",
    "    # Graficamos los resultados.\n",
    "    df_sales_pred = pd.merge(df,df_final,on='mes',how='left')\n",
    "    plot_data = [\n",
    "        go.Scatter(\n",
    "            x=df_sales_pred['mes'][:cantidad_meses*-1],\n",
    "            y=df_sales_pred['ventas'][:cantidad_meses*-1],\n",
    "            name='actual'\n",
    "        ),\n",
    "            go.Scatter(\n",
    "            x=df_sales_pred['mes'],\n",
    "            y=df_sales_pred['pred_value'],\n",
    "            name='predicted'\n",
    "        )\n",
    "\n",
    "    ]\n",
    "    plot_layout = go.Layout(\n",
    "            title='Predicción de Ventas'\n",
    "        )\n",
    "    fig = go.Figure(data=plot_data, layout=plot_layout)\n",
    "    pyoff.iplot(fig)"
   ]
  },
  {
   "cell_type": "code",
   "execution_count": 30,
   "metadata": {},
   "outputs": [
    {
     "name": "stdout",
     "output_type": "stream",
     "text": [
      "Epoch 1/100\n",
      "137/137 [==============================] - 2s 2ms/step - loss: 0.0579\n",
      "Epoch 2/100\n",
      "137/137 [==============================] - 0s 3ms/step - loss: 0.0504\n",
      "Epoch 3/100\n",
      "137/137 [==============================] - 0s 2ms/step - loss: 0.0436\n",
      "Epoch 4/100\n",
      "137/137 [==============================] - 0s 2ms/step - loss: 0.0374\n",
      "Epoch 5/100\n",
      "137/137 [==============================] - 0s 2ms/step - loss: 0.0324\n",
      "Epoch 6/100\n",
      "137/137 [==============================] - 0s 2ms/step - loss: 0.0285\n",
      "Epoch 7/100\n",
      "137/137 [==============================] - 0s 2ms/step - loss: 0.0256\n",
      "Epoch 8/100\n",
      "137/137 [==============================] - 0s 2ms/step - loss: 0.0234\n",
      "Epoch 9/100\n",
      "137/137 [==============================] - 0s 2ms/step - loss: 0.0218\n",
      "Epoch 10/100\n",
      "137/137 [==============================] - 0s 2ms/step - loss: 0.0206\n",
      "Epoch 11/100\n",
      "137/137 [==============================] - 0s 2ms/step - loss: 0.0196\n",
      "Epoch 12/100\n",
      "137/137 [==============================] - 0s 2ms/step - loss: 0.0189\n",
      "Epoch 13/100\n",
      "137/137 [==============================] - 0s 2ms/step - loss: 0.0184\n",
      "Epoch 14/100\n",
      "137/137 [==============================] - 0s 2ms/step - loss: 0.0179\n",
      "Epoch 15/100\n",
      "137/137 [==============================] - 0s 2ms/step - loss: 0.0175\n",
      "Epoch 16/100\n",
      "137/137 [==============================] - 0s 2ms/step - loss: 0.0171\n",
      "Epoch 17/100\n",
      "137/137 [==============================] - 0s 2ms/step - loss: 0.0168\n",
      "Epoch 18/100\n",
      "137/137 [==============================] - 0s 2ms/step - loss: 0.0165\n",
      "Epoch 19/100\n",
      "137/137 [==============================] - 0s 2ms/step - loss: 0.0163\n",
      "Epoch 20/100\n",
      "137/137 [==============================] - 0s 2ms/step - loss: 0.0160\n",
      "Epoch 21/100\n",
      "137/137 [==============================] - 0s 2ms/step - loss: 0.0158\n",
      "Epoch 22/100\n",
      "137/137 [==============================] - 0s 2ms/step - loss: 0.0156\n",
      "Epoch 23/100\n",
      "137/137 [==============================] - 0s 2ms/step - loss: 0.0153\n",
      "Epoch 24/100\n",
      "137/137 [==============================] - 0s 2ms/step - loss: 0.0151\n",
      "Epoch 25/100\n",
      "137/137 [==============================] - 0s 2ms/step - loss: 0.0149\n",
      "Epoch 26/100\n",
      "137/137 [==============================] - 0s 2ms/step - loss: 0.0147\n",
      "Epoch 27/100\n",
      "137/137 [==============================] - 0s 2ms/step - loss: 0.0145\n",
      "Epoch 28/100\n",
      "137/137 [==============================] - 0s 2ms/step - loss: 0.0143\n",
      "Epoch 29/100\n",
      "137/137 [==============================] - 0s 2ms/step - loss: 0.0142\n",
      "Epoch 30/100\n",
      "137/137 [==============================] - 0s 2ms/step - loss: 0.0140\n",
      "Epoch 31/100\n",
      "137/137 [==============================] - 0s 2ms/step - loss: 0.0138\n",
      "Epoch 32/100\n",
      "137/137 [==============================] - 0s 2ms/step - loss: 0.0136\n",
      "Epoch 33/100\n",
      "137/137 [==============================] - 0s 2ms/step - loss: 0.0134\n",
      "Epoch 34/100\n",
      "137/137 [==============================] - 0s 2ms/step - loss: 0.0133\n",
      "Epoch 35/100\n",
      "137/137 [==============================] - 0s 2ms/step - loss: 0.0131\n",
      "Epoch 36/100\n",
      "137/137 [==============================] - 0s 3ms/step - loss: 0.0129\n",
      "Epoch 37/100\n",
      "137/137 [==============================] - 0s 2ms/step - loss: 0.0128\n",
      "Epoch 38/100\n",
      "137/137 [==============================] - 0s 2ms/step - loss: 0.0126\n",
      "Epoch 39/100\n",
      "137/137 [==============================] - 0s 2ms/step - loss: 0.0125\n",
      "Epoch 40/100\n",
      "137/137 [==============================] - 0s 2ms/step - loss: 0.0123\n",
      "Epoch 41/100\n",
      "137/137 [==============================] - 0s 2ms/step - loss: 0.0122\n",
      "Epoch 42/100\n",
      "137/137 [==============================] - 0s 2ms/step - loss: 0.0120\n",
      "Epoch 43/100\n",
      "137/137 [==============================] - 0s 3ms/step - loss: 0.0119\n",
      "Epoch 44/100\n",
      "137/137 [==============================] - 0s 2ms/step - loss: 0.0117\n",
      "Epoch 45/100\n",
      "137/137 [==============================] - 0s 2ms/step - loss: 0.0116\n",
      "Epoch 46/100\n",
      "137/137 [==============================] - 0s 2ms/step - loss: 0.0115\n",
      "Epoch 47/100\n",
      "137/137 [==============================] - 0s 2ms/step - loss: 0.0113\n",
      "Epoch 48/100\n",
      "137/137 [==============================] - 0s 2ms/step - loss: 0.0112\n",
      "Epoch 49/100\n",
      "137/137 [==============================] - 0s 2ms/step - loss: 0.0111\n",
      "Epoch 50/100\n",
      "137/137 [==============================] - 0s 2ms/step - loss: 0.0110\n",
      "Epoch 51/100\n",
      "137/137 [==============================] - 0s 2ms/step - loss: 0.0108\n",
      "Epoch 52/100\n",
      "137/137 [==============================] - 0s 2ms/step - loss: 0.0107\n",
      "Epoch 53/100\n",
      "137/137 [==============================] - 0s 2ms/step - loss: 0.0106\n",
      "Epoch 54/100\n",
      "137/137 [==============================] - 0s 2ms/step - loss: 0.0105\n",
      "Epoch 55/100\n",
      "137/137 [==============================] - 0s 2ms/step - loss: 0.0104\n",
      "Epoch 56/100\n",
      "137/137 [==============================] - 0s 2ms/step - loss: 0.0103\n",
      "Epoch 57/100\n",
      "137/137 [==============================] - 0s 2ms/step - loss: 0.0102\n",
      "Epoch 58/100\n",
      "137/137 [==============================] - 0s 2ms/step - loss: 0.0101\n",
      "Epoch 59/100\n",
      "137/137 [==============================] - 0s 2ms/step - loss: 0.0099\n",
      "Epoch 60/100\n",
      "137/137 [==============================] - 0s 2ms/step - loss: 0.0098\n",
      "Epoch 61/100\n",
      "137/137 [==============================] - 0s 2ms/step - loss: 0.0098\n",
      "Epoch 62/100\n",
      "137/137 [==============================] - 0s 2ms/step - loss: 0.0097\n",
      "Epoch 63/100\n",
      "137/137 [==============================] - 0s 2ms/step - loss: 0.0096\n",
      "Epoch 64/100\n",
      "137/137 [==============================] - 0s 2ms/step - loss: 0.0095\n",
      "Epoch 65/100\n",
      "137/137 [==============================] - 0s 2ms/step - loss: 0.0094\n",
      "Epoch 66/100\n",
      "137/137 [==============================] - 0s 2ms/step - loss: 0.0093\n",
      "Epoch 67/100\n",
      "137/137 [==============================] - 0s 2ms/step - loss: 0.0092\n",
      "Epoch 68/100\n",
      "137/137 [==============================] - 0s 2ms/step - loss: 0.0091\n",
      "Epoch 69/100\n",
      "137/137 [==============================] - 0s 2ms/step - loss: 0.0090\n",
      "Epoch 70/100\n",
      "137/137 [==============================] - 0s 2ms/step - loss: 0.0090\n",
      "Epoch 71/100\n",
      "137/137 [==============================] - 0s 2ms/step - loss: 0.0089\n",
      "Epoch 72/100\n",
      "137/137 [==============================] - 0s 2ms/step - loss: 0.0088\n",
      "Epoch 73/100\n",
      "137/137 [==============================] - 0s 2ms/step - loss: 0.0087\n",
      "Epoch 74/100\n",
      "137/137 [==============================] - 0s 2ms/step - loss: 0.0086\n",
      "Epoch 75/100\n",
      "137/137 [==============================] - 0s 2ms/step - loss: 0.0086\n",
      "Epoch 76/100\n",
      "137/137 [==============================] - 0s 2ms/step - loss: 0.0085\n",
      "Epoch 77/100\n",
      "137/137 [==============================] - 0s 2ms/step - loss: 0.0084\n",
      "Epoch 78/100\n",
      "137/137 [==============================] - 0s 2ms/step - loss: 0.0084\n",
      "Epoch 79/100\n",
      "137/137 [==============================] - 0s 2ms/step - loss: 0.0083\n",
      "Epoch 80/100\n",
      "137/137 [==============================] - 0s 2ms/step - loss: 0.0082\n",
      "Epoch 81/100\n",
      "137/137 [==============================] - 0s 3ms/step - loss: 0.0082\n",
      "Epoch 82/100\n",
      "137/137 [==============================] - 0s 2ms/step - loss: 0.0081\n",
      "Epoch 83/100\n",
      "137/137 [==============================] - 0s 2ms/step - loss: 0.0080\n",
      "Epoch 84/100\n",
      "137/137 [==============================] - 0s 2ms/step - loss: 0.0080\n",
      "Epoch 85/100\n",
      "137/137 [==============================] - 0s 2ms/step - loss: 0.0079\n",
      "Epoch 86/100\n",
      "137/137 [==============================] - 0s 2ms/step - loss: 0.0079\n",
      "Epoch 87/100\n",
      "137/137 [==============================] - 0s 2ms/step - loss: 0.0078\n",
      "Epoch 88/100\n",
      "137/137 [==============================] - 0s 2ms/step - loss: 0.0077\n",
      "Epoch 89/100\n",
      "137/137 [==============================] - 0s 2ms/step - loss: 0.0077\n",
      "Epoch 90/100\n",
      "137/137 [==============================] - 0s 2ms/step - loss: 0.0076\n",
      "Epoch 91/100\n",
      "137/137 [==============================] - 0s 2ms/step - loss: 0.0076\n",
      "Epoch 92/100\n",
      "137/137 [==============================] - 0s 2ms/step - loss: 0.0075\n",
      "Epoch 93/100\n",
      "137/137 [==============================] - 0s 2ms/step - loss: 0.0075\n",
      "Epoch 94/100\n",
      "137/137 [==============================] - 0s 2ms/step - loss: 0.0074\n",
      "Epoch 95/100\n",
      "137/137 [==============================] - 0s 2ms/step - loss: 0.0074\n",
      "Epoch 96/100\n",
      "137/137 [==============================] - 0s 2ms/step - loss: 0.0073\n",
      "Epoch 97/100\n",
      "137/137 [==============================] - 0s 2ms/step - loss: 0.0073\n",
      "Epoch 98/100\n",
      "137/137 [==============================] - 0s 2ms/step - loss: 0.0072\n",
      "Epoch 99/100\n",
      "137/137 [==============================] - 0s 2ms/step - loss: 0.0072\n",
      "Epoch 100/100\n",
      "137/137 [==============================] - 0s 2ms/step - loss: 0.0071\n",
      "1/1 [==============================] - 0s 400ms/step\n",
      "Epoch 1/100\n",
      "138/138 [==============================] - 2s 2ms/step - loss: 0.0677\n",
      "Epoch 2/100\n",
      "138/138 [==============================] - 0s 2ms/step - loss: 0.0583\n",
      "Epoch 3/100\n",
      "138/138 [==============================] - 0s 2ms/step - loss: 0.0526\n",
      "Epoch 4/100\n",
      "138/138 [==============================] - 0s 2ms/step - loss: 0.0469\n",
      "Epoch 5/100\n",
      "138/138 [==============================] - 0s 2ms/step - loss: 0.0415\n",
      "Epoch 6/100\n",
      "138/138 [==============================] - 0s 2ms/step - loss: 0.0365\n",
      "Epoch 7/100\n",
      "138/138 [==============================] - 0s 2ms/step - loss: 0.0322\n",
      "Epoch 8/100\n",
      "138/138 [==============================] - 0s 2ms/step - loss: 0.0289\n",
      "Epoch 9/100\n",
      "138/138 [==============================] - 0s 2ms/step - loss: 0.0263\n",
      "Epoch 10/100\n",
      "138/138 [==============================] - 0s 2ms/step - loss: 0.0243\n",
      "Epoch 11/100\n",
      "138/138 [==============================] - 0s 2ms/step - loss: 0.0227\n",
      "Epoch 12/100\n",
      "138/138 [==============================] - 0s 2ms/step - loss: 0.0214\n",
      "Epoch 13/100\n",
      "138/138 [==============================] - 0s 2ms/step - loss: 0.0204\n",
      "Epoch 14/100\n",
      "138/138 [==============================] - 0s 2ms/step - loss: 0.0195\n",
      "Epoch 15/100\n",
      "138/138 [==============================] - 0s 2ms/step - loss: 0.0188\n",
      "Epoch 16/100\n",
      "138/138 [==============================] - 0s 2ms/step - loss: 0.0182\n",
      "Epoch 17/100\n",
      "138/138 [==============================] - 0s 2ms/step - loss: 0.0176\n",
      "Epoch 18/100\n",
      "138/138 [==============================] - 0s 2ms/step - loss: 0.0172\n",
      "Epoch 19/100\n",
      "138/138 [==============================] - 0s 2ms/step - loss: 0.0168\n",
      "Epoch 20/100\n",
      "138/138 [==============================] - 0s 2ms/step - loss: 0.0165\n",
      "Epoch 21/100\n",
      "138/138 [==============================] - 0s 2ms/step - loss: 0.0162\n",
      "Epoch 22/100\n",
      "138/138 [==============================] - 0s 2ms/step - loss: 0.0159\n",
      "Epoch 23/100\n",
      "138/138 [==============================] - 0s 2ms/step - loss: 0.0157\n",
      "Epoch 24/100\n",
      "138/138 [==============================] - 0s 2ms/step - loss: 0.0155\n",
      "Epoch 25/100\n",
      "138/138 [==============================] - 0s 2ms/step - loss: 0.0153\n",
      "Epoch 26/100\n",
      "138/138 [==============================] - 0s 1ms/step - loss: 0.0151\n",
      "Epoch 27/100\n",
      "138/138 [==============================] - 0s 2ms/step - loss: 0.0149\n",
      "Epoch 28/100\n",
      "138/138 [==============================] - 0s 1ms/step - loss: 0.0148\n",
      "Epoch 29/100\n",
      "138/138 [==============================] - 0s 1ms/step - loss: 0.0146\n",
      "Epoch 30/100\n",
      "138/138 [==============================] - 0s 2ms/step - loss: 0.0145\n",
      "Epoch 31/100\n",
      "138/138 [==============================] - 0s 2ms/step - loss: 0.0144\n",
      "Epoch 32/100\n",
      "138/138 [==============================] - 0s 1ms/step - loss: 0.0142\n",
      "Epoch 33/100\n",
      "138/138 [==============================] - 0s 2ms/step - loss: 0.0141\n",
      "Epoch 34/100\n",
      "138/138 [==============================] - 0s 2ms/step - loss: 0.0140\n",
      "Epoch 35/100\n",
      "138/138 [==============================] - 0s 2ms/step - loss: 0.0138\n",
      "Epoch 36/100\n",
      "138/138 [==============================] - 0s 2ms/step - loss: 0.0137\n",
      "Epoch 37/100\n",
      "138/138 [==============================] - 0s 2ms/step - loss: 0.0136\n",
      "Epoch 38/100\n",
      "138/138 [==============================] - 0s 2ms/step - loss: 0.0135\n",
      "Epoch 39/100\n",
      "138/138 [==============================] - 0s 2ms/step - loss: 0.0134\n",
      "Epoch 40/100\n",
      "138/138 [==============================] - 0s 2ms/step - loss: 0.0132\n",
      "Epoch 41/100\n",
      "138/138 [==============================] - 0s 1ms/step - loss: 0.0131\n",
      "Epoch 42/100\n",
      "138/138 [==============================] - 0s 2ms/step - loss: 0.0130\n",
      "Epoch 43/100\n",
      "138/138 [==============================] - 0s 2ms/step - loss: 0.0129\n",
      "Epoch 44/100\n",
      "138/138 [==============================] - 0s 2ms/step - loss: 0.0128\n",
      "Epoch 45/100\n",
      "138/138 [==============================] - 0s 2ms/step - loss: 0.0127\n",
      "Epoch 46/100\n",
      "138/138 [==============================] - 0s 2ms/step - loss: 0.0125\n",
      "Epoch 47/100\n",
      "138/138 [==============================] - 0s 2ms/step - loss: 0.0124\n",
      "Epoch 48/100\n",
      "138/138 [==============================] - 0s 2ms/step - loss: 0.0123\n",
      "Epoch 49/100\n",
      "138/138 [==============================] - 0s 2ms/step - loss: 0.0122\n",
      "Epoch 50/100\n",
      "138/138 [==============================] - 0s 2ms/step - loss: 0.0121\n",
      "Epoch 51/100\n",
      "138/138 [==============================] - 0s 3ms/step - loss: 0.0120\n",
      "Epoch 52/100\n",
      "138/138 [==============================] - 0s 2ms/step - loss: 0.0119\n",
      "Epoch 53/100\n",
      "138/138 [==============================] - 0s 2ms/step - loss: 0.0118\n",
      "Epoch 54/100\n",
      "138/138 [==============================] - 0s 2ms/step - loss: 0.0117\n",
      "Epoch 55/100\n",
      "138/138 [==============================] - 0s 2ms/step - loss: 0.0116\n",
      "Epoch 56/100\n",
      "138/138 [==============================] - 0s 2ms/step - loss: 0.0115\n",
      "Epoch 57/100\n",
      "138/138 [==============================] - 0s 2ms/step - loss: 0.0114\n",
      "Epoch 58/100\n",
      "138/138 [==============================] - 0s 3ms/step - loss: 0.0113\n",
      "Epoch 59/100\n",
      "138/138 [==============================] - 0s 2ms/step - loss: 0.0112\n",
      "Epoch 60/100\n",
      "138/138 [==============================] - 0s 2ms/step - loss: 0.0111\n",
      "Epoch 61/100\n",
      "138/138 [==============================] - 0s 2ms/step - loss: 0.0110\n",
      "Epoch 62/100\n",
      "138/138 [==============================] - 0s 2ms/step - loss: 0.0109\n",
      "Epoch 63/100\n",
      "138/138 [==============================] - 0s 2ms/step - loss: 0.0109\n",
      "Epoch 64/100\n",
      "138/138 [==============================] - 0s 2ms/step - loss: 0.0108\n",
      "Epoch 65/100\n",
      "138/138 [==============================] - 0s 2ms/step - loss: 0.0107\n",
      "Epoch 66/100\n",
      "138/138 [==============================] - 0s 2ms/step - loss: 0.0106\n",
      "Epoch 67/100\n",
      "138/138 [==============================] - 0s 2ms/step - loss: 0.0105\n",
      "Epoch 68/100\n",
      "138/138 [==============================] - 0s 2ms/step - loss: 0.0105\n",
      "Epoch 69/100\n",
      "138/138 [==============================] - 0s 3ms/step - loss: 0.0104\n",
      "Epoch 70/100\n",
      "138/138 [==============================] - 0s 2ms/step - loss: 0.0103\n",
      "Epoch 71/100\n",
      "138/138 [==============================] - 0s 2ms/step - loss: 0.0102\n",
      "Epoch 72/100\n",
      "138/138 [==============================] - 0s 3ms/step - loss: 0.0102\n",
      "Epoch 73/100\n",
      "138/138 [==============================] - 0s 3ms/step - loss: 0.0101\n",
      "Epoch 74/100\n",
      "138/138 [==============================] - 0s 2ms/step - loss: 0.0100\n",
      "Epoch 75/100\n",
      "138/138 [==============================] - 0s 2ms/step - loss: 0.0100\n",
      "Epoch 76/100\n",
      "138/138 [==============================] - 0s 2ms/step - loss: 0.0099\n",
      "Epoch 77/100\n",
      "138/138 [==============================] - 0s 2ms/step - loss: 0.0098\n",
      "Epoch 78/100\n",
      "138/138 [==============================] - 0s 2ms/step - loss: 0.0098\n",
      "Epoch 79/100\n",
      "138/138 [==============================] - 0s 2ms/step - loss: 0.0097\n",
      "Epoch 80/100\n",
      "138/138 [==============================] - 0s 2ms/step - loss: 0.0097\n",
      "Epoch 81/100\n",
      "138/138 [==============================] - 0s 2ms/step - loss: 0.0096\n",
      "Epoch 82/100\n",
      "138/138 [==============================] - 0s 2ms/step - loss: 0.0095\n",
      "Epoch 83/100\n",
      "138/138 [==============================] - 0s 2ms/step - loss: 0.0095\n",
      "Epoch 84/100\n",
      "138/138 [==============================] - 0s 2ms/step - loss: 0.0094\n",
      "Epoch 85/100\n",
      "138/138 [==============================] - 0s 3ms/step - loss: 0.0094\n",
      "Epoch 86/100\n",
      "138/138 [==============================] - 0s 2ms/step - loss: 0.0093\n",
      "Epoch 87/100\n",
      "138/138 [==============================] - 0s 2ms/step - loss: 0.0092\n",
      "Epoch 88/100\n",
      "138/138 [==============================] - 0s 2ms/step - loss: 0.0092\n",
      "Epoch 89/100\n",
      "138/138 [==============================] - 0s 2ms/step - loss: 0.0091\n",
      "Epoch 90/100\n",
      "138/138 [==============================] - 0s 2ms/step - loss: 0.0091\n",
      "Epoch 91/100\n",
      "138/138 [==============================] - 0s 2ms/step - loss: 0.0090\n",
      "Epoch 92/100\n",
      "138/138 [==============================] - 0s 2ms/step - loss: 0.0090\n",
      "Epoch 93/100\n",
      "138/138 [==============================] - 0s 2ms/step - loss: 0.0089\n",
      "Epoch 94/100\n",
      "138/138 [==============================] - 0s 2ms/step - loss: 0.0089\n",
      "Epoch 95/100\n",
      "138/138 [==============================] - 0s 2ms/step - loss: 0.0088\n",
      "Epoch 96/100\n",
      "138/138 [==============================] - 0s 2ms/step - loss: 0.0087\n",
      "Epoch 97/100\n",
      "138/138 [==============================] - 0s 2ms/step - loss: 0.0087\n",
      "Epoch 98/100\n",
      "138/138 [==============================] - 0s 2ms/step - loss: 0.0086\n",
      "Epoch 99/100\n",
      "138/138 [==============================] - 0s 2ms/step - loss: 0.0086\n",
      "Epoch 100/100\n",
      "138/138 [==============================] - 0s 2ms/step - loss: 0.0085\n",
      "1/1 [==============================] - 0s 485ms/step\n",
      "Epoch 1/100\n",
      "139/139 [==============================] - 2s 2ms/step - loss: 0.0745\n",
      "Epoch 2/100\n",
      "139/139 [==============================] - 0s 2ms/step - loss: 0.0660\n",
      "Epoch 3/100\n",
      "139/139 [==============================] - 0s 2ms/step - loss: 0.0592\n",
      "Epoch 4/100\n",
      "139/139 [==============================] - 0s 2ms/step - loss: 0.0529\n",
      "Epoch 5/100\n",
      "139/139 [==============================] - 0s 2ms/step - loss: 0.0471\n",
      "Epoch 6/100\n",
      "139/139 [==============================] - 0s 2ms/step - loss: 0.0418\n",
      "Epoch 7/100\n",
      "139/139 [==============================] - 0s 2ms/step - loss: 0.0372\n",
      "Epoch 8/100\n",
      "139/139 [==============================] - 0s 2ms/step - loss: 0.0333\n",
      "Epoch 9/100\n",
      "139/139 [==============================] - 0s 2ms/step - loss: 0.0300\n",
      "Epoch 10/100\n",
      "139/139 [==============================] - 0s 2ms/step - loss: 0.0274\n",
      "Epoch 11/100\n",
      "139/139 [==============================] - 0s 2ms/step - loss: 0.0253\n",
      "Epoch 12/100\n",
      "139/139 [==============================] - 0s 2ms/step - loss: 0.0236\n",
      "Epoch 13/100\n",
      "139/139 [==============================] - 0s 2ms/step - loss: 0.0223\n",
      "Epoch 14/100\n",
      "139/139 [==============================] - 0s 2ms/step - loss: 0.0212\n",
      "Epoch 15/100\n",
      "139/139 [==============================] - 0s 2ms/step - loss: 0.0204\n",
      "Epoch 16/100\n",
      "139/139 [==============================] - 0s 2ms/step - loss: 0.0197\n",
      "Epoch 17/100\n",
      "139/139 [==============================] - 0s 2ms/step - loss: 0.0191\n",
      "Epoch 18/100\n",
      "139/139 [==============================] - 0s 2ms/step - loss: 0.0185\n",
      "Epoch 19/100\n",
      "139/139 [==============================] - 0s 2ms/step - loss: 0.0181\n",
      "Epoch 20/100\n",
      "139/139 [==============================] - 0s 2ms/step - loss: 0.0176\n",
      "Epoch 21/100\n",
      "139/139 [==============================] - 0s 2ms/step - loss: 0.0172\n",
      "Epoch 22/100\n",
      "139/139 [==============================] - 0s 2ms/step - loss: 0.0169\n",
      "Epoch 23/100\n",
      "139/139 [==============================] - 0s 2ms/step - loss: 0.0165\n",
      "Epoch 24/100\n",
      "139/139 [==============================] - 0s 2ms/step - loss: 0.0162\n",
      "Epoch 25/100\n",
      "139/139 [==============================] - 0s 2ms/step - loss: 0.0159\n",
      "Epoch 26/100\n",
      "139/139 [==============================] - 0s 2ms/step - loss: 0.0156\n",
      "Epoch 27/100\n",
      "139/139 [==============================] - 0s 2ms/step - loss: 0.0154\n",
      "Epoch 28/100\n",
      "139/139 [==============================] - 0s 2ms/step - loss: 0.0151\n",
      "Epoch 29/100\n",
      "139/139 [==============================] - 0s 2ms/step - loss: 0.0149\n",
      "Epoch 30/100\n",
      "139/139 [==============================] - 0s 2ms/step - loss: 0.0146\n",
      "Epoch 31/100\n",
      "139/139 [==============================] - 0s 2ms/step - loss: 0.0144\n",
      "Epoch 32/100\n",
      "139/139 [==============================] - 0s 2ms/step - loss: 0.0142\n",
      "Epoch 33/100\n",
      "139/139 [==============================] - 0s 2ms/step - loss: 0.0140\n",
      "Epoch 34/100\n",
      "139/139 [==============================] - 0s 2ms/step - loss: 0.0138\n",
      "Epoch 35/100\n",
      "139/139 [==============================] - 0s 2ms/step - loss: 0.0136\n",
      "Epoch 36/100\n",
      "139/139 [==============================] - 0s 2ms/step - loss: 0.0134\n",
      "Epoch 37/100\n",
      "139/139 [==============================] - 0s 2ms/step - loss: 0.0132\n",
      "Epoch 38/100\n",
      "139/139 [==============================] - 0s 2ms/step - loss: 0.0130\n",
      "Epoch 39/100\n",
      "139/139 [==============================] - 0s 2ms/step - loss: 0.0129\n",
      "Epoch 40/100\n",
      "139/139 [==============================] - 0s 3ms/step - loss: 0.0127\n",
      "Epoch 41/100\n",
      "139/139 [==============================] - 0s 2ms/step - loss: 0.0125\n",
      "Epoch 42/100\n",
      "139/139 [==============================] - 0s 3ms/step - loss: 0.0124\n",
      "Epoch 43/100\n",
      "139/139 [==============================] - 0s 3ms/step - loss: 0.0122\n",
      "Epoch 44/100\n",
      "139/139 [==============================] - 0s 3ms/step - loss: 0.0121\n",
      "Epoch 45/100\n",
      "139/139 [==============================] - 0s 2ms/step - loss: 0.0120\n",
      "Epoch 46/100\n",
      "139/139 [==============================] - 0s 3ms/step - loss: 0.0118\n",
      "Epoch 47/100\n",
      "139/139 [==============================] - 0s 2ms/step - loss: 0.0117\n",
      "Epoch 48/100\n",
      "139/139 [==============================] - 0s 2ms/step - loss: 0.0116\n",
      "Epoch 49/100\n",
      "139/139 [==============================] - 0s 2ms/step - loss: 0.0114\n",
      "Epoch 50/100\n",
      "139/139 [==============================] - 0s 2ms/step - loss: 0.0113\n",
      "Epoch 51/100\n",
      "139/139 [==============================] - 0s 2ms/step - loss: 0.0112\n",
      "Epoch 52/100\n",
      "139/139 [==============================] - 1s 4ms/step - loss: 0.0111\n",
      "Epoch 53/100\n",
      "139/139 [==============================] - 0s 3ms/step - loss: 0.0109\n",
      "Epoch 54/100\n",
      "139/139 [==============================] - 0s 2ms/step - loss: 0.0108\n",
      "Epoch 55/100\n",
      "139/139 [==============================] - 0s 2ms/step - loss: 0.0107\n",
      "Epoch 56/100\n",
      "139/139 [==============================] - 0s 2ms/step - loss: 0.0106\n",
      "Epoch 57/100\n",
      "139/139 [==============================] - 0s 2ms/step - loss: 0.0105\n",
      "Epoch 58/100\n",
      "139/139 [==============================] - 0s 2ms/step - loss: 0.0104\n",
      "Epoch 59/100\n",
      "139/139 [==============================] - 0s 2ms/step - loss: 0.0103\n",
      "Epoch 60/100\n",
      "139/139 [==============================] - 0s 2ms/step - loss: 0.0102\n",
      "Epoch 61/100\n",
      "139/139 [==============================] - 0s 2ms/step - loss: 0.0101\n",
      "Epoch 62/100\n",
      "139/139 [==============================] - 0s 2ms/step - loss: 0.0100\n",
      "Epoch 63/100\n",
      "139/139 [==============================] - 0s 2ms/step - loss: 0.0099\n",
      "Epoch 64/100\n",
      "139/139 [==============================] - 0s 2ms/step - loss: 0.0099\n",
      "Epoch 65/100\n",
      "139/139 [==============================] - 0s 2ms/step - loss: 0.0098\n",
      "Epoch 66/100\n",
      "139/139 [==============================] - 0s 2ms/step - loss: 0.0097\n",
      "Epoch 67/100\n",
      "139/139 [==============================] - 0s 2ms/step - loss: 0.0096\n",
      "Epoch 68/100\n",
      "139/139 [==============================] - 0s 2ms/step - loss: 0.0095\n",
      "Epoch 69/100\n",
      "139/139 [==============================] - 0s 2ms/step - loss: 0.0095\n",
      "Epoch 70/100\n",
      "139/139 [==============================] - 0s 2ms/step - loss: 0.0094\n",
      "Epoch 71/100\n",
      "139/139 [==============================] - 0s 2ms/step - loss: 0.0093\n",
      "Epoch 72/100\n",
      "139/139 [==============================] - 0s 2ms/step - loss: 0.0093\n",
      "Epoch 73/100\n",
      "139/139 [==============================] - 0s 2ms/step - loss: 0.0092\n",
      "Epoch 74/100\n",
      "139/139 [==============================] - 0s 2ms/step - loss: 0.0091\n",
      "Epoch 75/100\n",
      "139/139 [==============================] - 0s 2ms/step - loss: 0.0091\n",
      "Epoch 76/100\n",
      "139/139 [==============================] - 0s 2ms/step - loss: 0.0090\n",
      "Epoch 77/100\n",
      "139/139 [==============================] - 0s 2ms/step - loss: 0.0090\n",
      "Epoch 78/100\n",
      "139/139 [==============================] - 0s 2ms/step - loss: 0.0089\n",
      "Epoch 79/100\n",
      "139/139 [==============================] - 0s 2ms/step - loss: 0.0088\n",
      "Epoch 80/100\n",
      "139/139 [==============================] - 0s 2ms/step - loss: 0.0088\n",
      "Epoch 81/100\n",
      "139/139 [==============================] - 0s 1ms/step - loss: 0.0087\n",
      "Epoch 82/100\n",
      "139/139 [==============================] - 0s 2ms/step - loss: 0.0087\n",
      "Epoch 83/100\n",
      "139/139 [==============================] - 0s 2ms/step - loss: 0.0086\n",
      "Epoch 84/100\n",
      "139/139 [==============================] - 0s 2ms/step - loss: 0.0086\n",
      "Epoch 85/100\n",
      "139/139 [==============================] - 0s 2ms/step - loss: 0.0085\n",
      "Epoch 86/100\n",
      "139/139 [==============================] - 0s 2ms/step - loss: 0.0085\n",
      "Epoch 87/100\n",
      "139/139 [==============================] - 0s 2ms/step - loss: 0.0084\n",
      "Epoch 88/100\n",
      "139/139 [==============================] - 0s 2ms/step - loss: 0.0084\n",
      "Epoch 89/100\n",
      "139/139 [==============================] - 0s 2ms/step - loss: 0.0083\n",
      "Epoch 90/100\n",
      "139/139 [==============================] - 0s 2ms/step - loss: 0.0083\n",
      "Epoch 91/100\n",
      "139/139 [==============================] - 0s 2ms/step - loss: 0.0082\n",
      "Epoch 92/100\n",
      "139/139 [==============================] - 0s 2ms/step - loss: 0.0082\n",
      "Epoch 93/100\n",
      "139/139 [==============================] - 0s 2ms/step - loss: 0.0081\n",
      "Epoch 94/100\n",
      "139/139 [==============================] - 0s 2ms/step - loss: 0.0081\n",
      "Epoch 95/100\n",
      "139/139 [==============================] - 0s 2ms/step - loss: 0.0080\n",
      "Epoch 96/100\n",
      "139/139 [==============================] - 0s 2ms/step - loss: 0.0080\n",
      "Epoch 97/100\n",
      "139/139 [==============================] - 0s 2ms/step - loss: 0.0080\n",
      "Epoch 98/100\n",
      "139/139 [==============================] - 0s 2ms/step - loss: 0.0079\n",
      "Epoch 99/100\n",
      "139/139 [==============================] - 0s 1ms/step - loss: 0.0079\n",
      "Epoch 100/100\n",
      "139/139 [==============================] - 0s 2ms/step - loss: 0.0078\n",
      "1/1 [==============================] - 0s 412ms/step\n",
      "Epoch 1/100\n",
      "140/140 [==============================] - 2s 2ms/step - loss: 0.0601\n",
      "Epoch 2/100\n",
      "140/140 [==============================] - 0s 2ms/step - loss: 0.0520\n",
      "Epoch 3/100\n",
      "140/140 [==============================] - 0s 1ms/step - loss: 0.0460\n",
      "Epoch 4/100\n",
      "140/140 [==============================] - 0s 2ms/step - loss: 0.0406\n",
      "Epoch 5/100\n",
      "140/140 [==============================] - 0s 2ms/step - loss: 0.0359\n",
      "Epoch 6/100\n",
      "140/140 [==============================] - 0s 2ms/step - loss: 0.0320\n",
      "Epoch 7/100\n",
      "140/140 [==============================] - 0s 2ms/step - loss: 0.0288\n",
      "Epoch 8/100\n",
      "140/140 [==============================] - 0s 2ms/step - loss: 0.0263\n",
      "Epoch 9/100\n",
      "140/140 [==============================] - 0s 1ms/step - loss: 0.0243\n",
      "Epoch 10/100\n",
      "140/140 [==============================] - 0s 2ms/step - loss: 0.0226\n",
      "Epoch 11/100\n",
      "140/140 [==============================] - 0s 1ms/step - loss: 0.0213\n",
      "Epoch 12/100\n",
      "140/140 [==============================] - 0s 2ms/step - loss: 0.0202\n",
      "Epoch 13/100\n",
      "140/140 [==============================] - 0s 1ms/step - loss: 0.0193\n",
      "Epoch 14/100\n",
      "140/140 [==============================] - 0s 1ms/step - loss: 0.0186\n",
      "Epoch 15/100\n",
      "140/140 [==============================] - 0s 2ms/step - loss: 0.0180\n",
      "Epoch 16/100\n",
      "140/140 [==============================] - 0s 1ms/step - loss: 0.0175\n",
      "Epoch 17/100\n",
      "140/140 [==============================] - 0s 2ms/step - loss: 0.0171\n",
      "Epoch 18/100\n",
      "140/140 [==============================] - 0s 1ms/step - loss: 0.0167\n",
      "Epoch 19/100\n",
      "140/140 [==============================] - 0s 1ms/step - loss: 0.0164\n",
      "Epoch 20/100\n",
      "140/140 [==============================] - 0s 1ms/step - loss: 0.0161\n",
      "Epoch 21/100\n",
      "140/140 [==============================] - 0s 2ms/step - loss: 0.0159\n",
      "Epoch 22/100\n",
      "140/140 [==============================] - 0s 2ms/step - loss: 0.0156\n",
      "Epoch 23/100\n",
      "140/140 [==============================] - 0s 1ms/step - loss: 0.0154\n",
      "Epoch 24/100\n",
      "140/140 [==============================] - 0s 2ms/step - loss: 0.0152\n",
      "Epoch 25/100\n",
      "140/140 [==============================] - 0s 1ms/step - loss: 0.0150\n",
      "Epoch 26/100\n",
      "140/140 [==============================] - 0s 1ms/step - loss: 0.0148\n",
      "Epoch 27/100\n",
      "140/140 [==============================] - 0s 2ms/step - loss: 0.0146\n",
      "Epoch 28/100\n",
      "140/140 [==============================] - 0s 1ms/step - loss: 0.0144\n",
      "Epoch 29/100\n",
      "140/140 [==============================] - 0s 2ms/step - loss: 0.0143\n",
      "Epoch 30/100\n",
      "140/140 [==============================] - 0s 1ms/step - loss: 0.0141\n",
      "Epoch 31/100\n",
      "140/140 [==============================] - 0s 2ms/step - loss: 0.0139\n",
      "Epoch 32/100\n",
      "140/140 [==============================] - 0s 1ms/step - loss: 0.0137\n",
      "Epoch 33/100\n",
      "140/140 [==============================] - 0s 1ms/step - loss: 0.0136\n",
      "Epoch 34/100\n",
      "140/140 [==============================] - 0s 2ms/step - loss: 0.0134\n",
      "Epoch 35/100\n",
      "140/140 [==============================] - 0s 1ms/step - loss: 0.0133\n",
      "Epoch 36/100\n",
      "140/140 [==============================] - 0s 1ms/step - loss: 0.0131\n",
      "Epoch 37/100\n",
      "140/140 [==============================] - 0s 2ms/step - loss: 0.0130\n",
      "Epoch 38/100\n",
      "140/140 [==============================] - 0s 1ms/step - loss: 0.0128\n",
      "Epoch 39/100\n",
      "140/140 [==============================] - 0s 1ms/step - loss: 0.0127\n",
      "Epoch 40/100\n",
      "140/140 [==============================] - 0s 1ms/step - loss: 0.0125\n",
      "Epoch 41/100\n",
      "140/140 [==============================] - 0s 1ms/step - loss: 0.0124\n",
      "Epoch 42/100\n",
      "140/140 [==============================] - 0s 1ms/step - loss: 0.0123\n",
      "Epoch 43/100\n",
      "140/140 [==============================] - 0s 1ms/step - loss: 0.0121\n",
      "Epoch 44/100\n",
      "140/140 [==============================] - 0s 2ms/step - loss: 0.0120\n",
      "Epoch 45/100\n",
      "140/140 [==============================] - 0s 1ms/step - loss: 0.0118\n",
      "Epoch 46/100\n",
      "140/140 [==============================] - 0s 2ms/step - loss: 0.0117\n",
      "Epoch 47/100\n",
      "140/140 [==============================] - 0s 1ms/step - loss: 0.0116\n",
      "Epoch 48/100\n",
      "140/140 [==============================] - 0s 1ms/step - loss: 0.0115\n",
      "Epoch 49/100\n",
      "140/140 [==============================] - 0s 2ms/step - loss: 0.0113\n",
      "Epoch 50/100\n",
      "140/140 [==============================] - 0s 2ms/step - loss: 0.0112\n",
      "Epoch 51/100\n",
      "140/140 [==============================] - 0s 1ms/step - loss: 0.0111\n",
      "Epoch 52/100\n",
      "140/140 [==============================] - 0s 1ms/step - loss: 0.0110\n",
      "Epoch 53/100\n",
      "140/140 [==============================] - 0s 1ms/step - loss: 0.0109\n",
      "Epoch 54/100\n",
      "140/140 [==============================] - 0s 1ms/step - loss: 0.0107\n",
      "Epoch 55/100\n",
      "140/140 [==============================] - 0s 1ms/step - loss: 0.0106\n",
      "Epoch 56/100\n",
      "140/140 [==============================] - 0s 1ms/step - loss: 0.0105\n",
      "Epoch 57/100\n",
      "140/140 [==============================] - 0s 2ms/step - loss: 0.0104\n",
      "Epoch 58/100\n",
      "140/140 [==============================] - 0s 2ms/step - loss: 0.0103\n",
      "Epoch 59/100\n",
      "140/140 [==============================] - 0s 2ms/step - loss: 0.0102\n",
      "Epoch 60/100\n",
      "140/140 [==============================] - 0s 2ms/step - loss: 0.0101\n",
      "Epoch 61/100\n",
      "140/140 [==============================] - 0s 2ms/step - loss: 0.0100\n",
      "Epoch 62/100\n",
      "140/140 [==============================] - 0s 2ms/step - loss: 0.0099\n",
      "Epoch 63/100\n",
      "140/140 [==============================] - 0s 2ms/step - loss: 0.0098\n",
      "Epoch 64/100\n",
      "140/140 [==============================] - 0s 2ms/step - loss: 0.0097\n",
      "Epoch 65/100\n",
      "140/140 [==============================] - 0s 1ms/step - loss: 0.0096\n",
      "Epoch 66/100\n",
      "140/140 [==============================] - 0s 2ms/step - loss: 0.0095\n",
      "Epoch 67/100\n",
      "140/140 [==============================] - 0s 2ms/step - loss: 0.0094\n",
      "Epoch 68/100\n",
      "140/140 [==============================] - 0s 2ms/step - loss: 0.0093\n",
      "Epoch 69/100\n",
      "140/140 [==============================] - 0s 2ms/step - loss: 0.0092\n",
      "Epoch 70/100\n",
      "140/140 [==============================] - 0s 2ms/step - loss: 0.0091\n",
      "Epoch 71/100\n",
      "140/140 [==============================] - 0s 2ms/step - loss: 0.0090\n",
      "Epoch 72/100\n",
      "140/140 [==============================] - 0s 2ms/step - loss: 0.0090\n",
      "Epoch 73/100\n",
      "140/140 [==============================] - 0s 2ms/step - loss: 0.0089\n",
      "Epoch 74/100\n",
      "140/140 [==============================] - 0s 2ms/step - loss: 0.0088\n",
      "Epoch 75/100\n",
      "140/140 [==============================] - 0s 2ms/step - loss: 0.0087\n",
      "Epoch 76/100\n",
      "140/140 [==============================] - 0s 2ms/step - loss: 0.0086\n",
      "Epoch 77/100\n",
      "140/140 [==============================] - 0s 2ms/step - loss: 0.0086\n",
      "Epoch 78/100\n",
      "140/140 [==============================] - 0s 2ms/step - loss: 0.0085\n",
      "Epoch 79/100\n",
      "140/140 [==============================] - 0s 2ms/step - loss: 0.0084\n",
      "Epoch 80/100\n",
      "140/140 [==============================] - 0s 2ms/step - loss: 0.0083\n",
      "Epoch 81/100\n",
      "140/140 [==============================] - 0s 3ms/step - loss: 0.0083\n",
      "Epoch 82/100\n",
      "140/140 [==============================] - 0s 2ms/step - loss: 0.0082\n",
      "Epoch 83/100\n",
      "140/140 [==============================] - 0s 2ms/step - loss: 0.0081\n",
      "Epoch 84/100\n",
      "140/140 [==============================] - 0s 2ms/step - loss: 0.0080\n",
      "Epoch 85/100\n",
      "140/140 [==============================] - 0s 2ms/step - loss: 0.0080\n",
      "Epoch 86/100\n",
      "140/140 [==============================] - 0s 2ms/step - loss: 0.0079\n",
      "Epoch 87/100\n",
      "140/140 [==============================] - 0s 2ms/step - loss: 0.0078\n",
      "Epoch 88/100\n",
      "140/140 [==============================] - 0s 3ms/step - loss: 0.0078\n",
      "Epoch 89/100\n",
      "140/140 [==============================] - 0s 2ms/step - loss: 0.0077\n",
      "Epoch 90/100\n",
      "140/140 [==============================] - 0s 2ms/step - loss: 0.0077\n",
      "Epoch 91/100\n",
      "140/140 [==============================] - 0s 3ms/step - loss: 0.0076\n",
      "Epoch 92/100\n",
      "140/140 [==============================] - 0s 3ms/step - loss: 0.0075\n",
      "Epoch 93/100\n",
      "140/140 [==============================] - 1s 4ms/step - loss: 0.0075\n",
      "Epoch 94/100\n",
      "140/140 [==============================] - 0s 1ms/step - loss: 0.0074\n",
      "Epoch 95/100\n",
      "140/140 [==============================] - 0s 2ms/step - loss: 0.0074\n",
      "Epoch 96/100\n",
      "140/140 [==============================] - 0s 2ms/step - loss: 0.0073\n",
      "Epoch 97/100\n",
      "140/140 [==============================] - 0s 2ms/step - loss: 0.0073\n",
      "Epoch 98/100\n",
      "140/140 [==============================] - 0s 2ms/step - loss: 0.0072\n",
      "Epoch 99/100\n",
      "140/140 [==============================] - 0s 2ms/step - loss: 0.0072\n",
      "Epoch 100/100\n",
      "140/140 [==============================] - 0s 2ms/step - loss: 0.0071\n",
      "WARNING:tensorflow:5 out of the last 28 calls to <function Model.make_predict_function.<locals>.predict_function at 0x000001676017D0D0> triggered tf.function retracing. Tracing is expensive and the excessive number of tracings could be due to (1) creating @tf.function repeatedly in a loop, (2) passing tensors with different shapes, (3) passing Python objects instead of tensors. For (1), please define your @tf.function outside of the loop. For (2), @tf.function has reduce_retracing=True option that can avoid unnecessary retracing. For (3), please refer to https://www.tensorflow.org/guide/function#controlling_retracing and https://www.tensorflow.org/api_docs/python/tf/function for  more details.\n",
      "1/1 [==============================] - 1s 652ms/step\n",
      "Epoch 1/100\n",
      "141/141 [==============================] - 2s 2ms/step - loss: 0.0770\n",
      "Epoch 2/100\n",
      "141/141 [==============================] - 0s 1ms/step - loss: 0.0686\n",
      "Epoch 3/100\n",
      "141/141 [==============================] - 0s 2ms/step - loss: 0.0621\n",
      "Epoch 4/100\n",
      "141/141 [==============================] - 0s 1ms/step - loss: 0.0557\n",
      "Epoch 5/100\n",
      "141/141 [==============================] - 0s 2ms/step - loss: 0.0494\n",
      "Epoch 6/100\n",
      "141/141 [==============================] - 0s 2ms/step - loss: 0.0436\n",
      "Epoch 7/100\n",
      "141/141 [==============================] - 0s 2ms/step - loss: 0.0385\n",
      "Epoch 8/100\n",
      "141/141 [==============================] - 0s 2ms/step - loss: 0.0343\n",
      "Epoch 9/100\n",
      "141/141 [==============================] - 0s 1ms/step - loss: 0.0307\n",
      "Epoch 10/100\n",
      "141/141 [==============================] - 0s 2ms/step - loss: 0.0277\n",
      "Epoch 11/100\n",
      "141/141 [==============================] - 0s 2ms/step - loss: 0.0253\n",
      "Epoch 12/100\n",
      "141/141 [==============================] - 0s 2ms/step - loss: 0.0233\n",
      "Epoch 13/100\n",
      "141/141 [==============================] - 0s 2ms/step - loss: 0.0216\n",
      "Epoch 14/100\n",
      "141/141 [==============================] - 0s 1ms/step - loss: 0.0203\n",
      "Epoch 15/100\n",
      "141/141 [==============================] - 0s 2ms/step - loss: 0.0192\n",
      "Epoch 16/100\n",
      "141/141 [==============================] - 0s 2ms/step - loss: 0.0184\n",
      "Epoch 17/100\n",
      "141/141 [==============================] - 0s 2ms/step - loss: 0.0177\n",
      "Epoch 18/100\n",
      "141/141 [==============================] - 0s 2ms/step - loss: 0.0172\n",
      "Epoch 19/100\n",
      "141/141 [==============================] - 0s 2ms/step - loss: 0.0167\n",
      "Epoch 20/100\n",
      "141/141 [==============================] - 0s 2ms/step - loss: 0.0164\n",
      "Epoch 21/100\n",
      "141/141 [==============================] - 0s 2ms/step - loss: 0.0161\n",
      "Epoch 22/100\n",
      "141/141 [==============================] - 0s 2ms/step - loss: 0.0158\n",
      "Epoch 23/100\n",
      "141/141 [==============================] - 0s 2ms/step - loss: 0.0155\n",
      "Epoch 24/100\n",
      "141/141 [==============================] - 0s 2ms/step - loss: 0.0153\n",
      "Epoch 25/100\n",
      "141/141 [==============================] - 0s 2ms/step - loss: 0.0151\n",
      "Epoch 26/100\n",
      "141/141 [==============================] - 0s 2ms/step - loss: 0.0148\n",
      "Epoch 27/100\n",
      "141/141 [==============================] - 0s 2ms/step - loss: 0.0147\n",
      "Epoch 28/100\n",
      "141/141 [==============================] - 0s 2ms/step - loss: 0.0145\n",
      "Epoch 29/100\n",
      "141/141 [==============================] - 0s 2ms/step - loss: 0.0143\n",
      "Epoch 30/100\n",
      "141/141 [==============================] - 0s 1ms/step - loss: 0.0141\n",
      "Epoch 31/100\n",
      "141/141 [==============================] - 0s 2ms/step - loss: 0.0139\n",
      "Epoch 32/100\n",
      "141/141 [==============================] - 0s 2ms/step - loss: 0.0138\n",
      "Epoch 33/100\n",
      "141/141 [==============================] - 0s 2ms/step - loss: 0.0136\n",
      "Epoch 34/100\n",
      "141/141 [==============================] - 0s 2ms/step - loss: 0.0135\n",
      "Epoch 35/100\n",
      "141/141 [==============================] - 0s 2ms/step - loss: 0.0133\n",
      "Epoch 36/100\n",
      "141/141 [==============================] - 0s 2ms/step - loss: 0.0132\n",
      "Epoch 37/100\n",
      "141/141 [==============================] - 0s 2ms/step - loss: 0.0131\n",
      "Epoch 38/100\n",
      "141/141 [==============================] - 0s 2ms/step - loss: 0.0129\n",
      "Epoch 39/100\n",
      "141/141 [==============================] - 0s 2ms/step - loss: 0.0128\n",
      "Epoch 40/100\n",
      "141/141 [==============================] - 0s 2ms/step - loss: 0.0127\n",
      "Epoch 41/100\n",
      "141/141 [==============================] - 0s 2ms/step - loss: 0.0125\n",
      "Epoch 42/100\n",
      "141/141 [==============================] - 0s 2ms/step - loss: 0.0124\n",
      "Epoch 43/100\n",
      "141/141 [==============================] - 0s 2ms/step - loss: 0.0123\n",
      "Epoch 44/100\n",
      "141/141 [==============================] - 0s 2ms/step - loss: 0.0122\n",
      "Epoch 45/100\n",
      "141/141 [==============================] - 0s 2ms/step - loss: 0.0121\n",
      "Epoch 46/100\n",
      "141/141 [==============================] - 0s 2ms/step - loss: 0.0120\n",
      "Epoch 47/100\n",
      "141/141 [==============================] - 0s 2ms/step - loss: 0.0119\n",
      "Epoch 48/100\n",
      "141/141 [==============================] - 0s 2ms/step - loss: 0.0118\n",
      "Epoch 49/100\n",
      "141/141 [==============================] - 0s 2ms/step - loss: 0.0117\n",
      "Epoch 50/100\n",
      "141/141 [==============================] - 0s 2ms/step - loss: 0.0116\n",
      "Epoch 51/100\n",
      "141/141 [==============================] - 0s 2ms/step - loss: 0.0115\n",
      "Epoch 52/100\n",
      "141/141 [==============================] - 0s 2ms/step - loss: 0.0114\n",
      "Epoch 53/100\n",
      "141/141 [==============================] - 0s 2ms/step - loss: 0.0113\n",
      "Epoch 54/100\n",
      "141/141 [==============================] - 0s 2ms/step - loss: 0.0112\n",
      "Epoch 55/100\n",
      "141/141 [==============================] - 0s 1ms/step - loss: 0.0111\n",
      "Epoch 56/100\n",
      "141/141 [==============================] - 0s 2ms/step - loss: 0.0110\n",
      "Epoch 57/100\n",
      "141/141 [==============================] - 0s 2ms/step - loss: 0.0110\n",
      "Epoch 58/100\n",
      "141/141 [==============================] - 0s 2ms/step - loss: 0.0109\n",
      "Epoch 59/100\n",
      "141/141 [==============================] - 0s 2ms/step - loss: 0.0108\n",
      "Epoch 60/100\n",
      "141/141 [==============================] - 0s 2ms/step - loss: 0.0107\n",
      "Epoch 61/100\n",
      "141/141 [==============================] - 0s 2ms/step - loss: 0.0106\n",
      "Epoch 62/100\n",
      "141/141 [==============================] - 0s 2ms/step - loss: 0.0106\n",
      "Epoch 63/100\n",
      "141/141 [==============================] - 0s 2ms/step - loss: 0.0105\n",
      "Epoch 64/100\n",
      "141/141 [==============================] - 0s 2ms/step - loss: 0.0104\n",
      "Epoch 65/100\n",
      "141/141 [==============================] - 0s 2ms/step - loss: 0.0104\n",
      "Epoch 66/100\n",
      "141/141 [==============================] - 0s 1ms/step - loss: 0.0103\n",
      "Epoch 67/100\n",
      "141/141 [==============================] - 0s 1ms/step - loss: 0.0102\n",
      "Epoch 68/100\n",
      "141/141 [==============================] - 0s 2ms/step - loss: 0.0102\n",
      "Epoch 69/100\n",
      "141/141 [==============================] - 0s 2ms/step - loss: 0.0101\n",
      "Epoch 70/100\n",
      "141/141 [==============================] - 0s 2ms/step - loss: 0.0100\n",
      "Epoch 71/100\n",
      "141/141 [==============================] - 0s 2ms/step - loss: 0.0100\n",
      "Epoch 72/100\n",
      "141/141 [==============================] - 0s 2ms/step - loss: 0.0099\n",
      "Epoch 73/100\n",
      "141/141 [==============================] - 0s 2ms/step - loss: 0.0098\n",
      "Epoch 74/100\n",
      "141/141 [==============================] - 0s 2ms/step - loss: 0.0098\n",
      "Epoch 75/100\n",
      "141/141 [==============================] - 0s 1ms/step - loss: 0.0097\n",
      "Epoch 76/100\n",
      "141/141 [==============================] - 0s 2ms/step - loss: 0.0097\n",
      "Epoch 77/100\n",
      "141/141 [==============================] - 0s 2ms/step - loss: 0.0096\n",
      "Epoch 78/100\n",
      "141/141 [==============================] - 0s 2ms/step - loss: 0.0096\n",
      "Epoch 79/100\n",
      "141/141 [==============================] - 0s 2ms/step - loss: 0.0095\n",
      "Epoch 80/100\n",
      "141/141 [==============================] - 0s 2ms/step - loss: 0.0095\n",
      "Epoch 81/100\n",
      "141/141 [==============================] - 0s 1ms/step - loss: 0.0094\n",
      "Epoch 82/100\n",
      "141/141 [==============================] - 0s 2ms/step - loss: 0.0094\n",
      "Epoch 83/100\n",
      "141/141 [==============================] - 0s 1ms/step - loss: 0.0093\n",
      "Epoch 84/100\n",
      "141/141 [==============================] - 0s 2ms/step - loss: 0.0093\n",
      "Epoch 85/100\n",
      "141/141 [==============================] - 0s 2ms/step - loss: 0.0092\n",
      "Epoch 86/100\n",
      "141/141 [==============================] - 0s 1ms/step - loss: 0.0092\n",
      "Epoch 87/100\n",
      "141/141 [==============================] - 0s 2ms/step - loss: 0.0091\n",
      "Epoch 88/100\n",
      "141/141 [==============================] - 0s 2ms/step - loss: 0.0091\n",
      "Epoch 89/100\n",
      "141/141 [==============================] - 0s 2ms/step - loss: 0.0090\n",
      "Epoch 90/100\n",
      "141/141 [==============================] - 0s 2ms/step - loss: 0.0090\n",
      "Epoch 91/100\n",
      "141/141 [==============================] - 0s 2ms/step - loss: 0.0089\n",
      "Epoch 92/100\n",
      "141/141 [==============================] - 0s 2ms/step - loss: 0.0089\n",
      "Epoch 93/100\n",
      "141/141 [==============================] - 0s 2ms/step - loss: 0.0088\n",
      "Epoch 94/100\n",
      "141/141 [==============================] - 0s 2ms/step - loss: 0.0088\n",
      "Epoch 95/100\n",
      "141/141 [==============================] - 0s 2ms/step - loss: 0.0088\n",
      "Epoch 96/100\n",
      "141/141 [==============================] - 0s 2ms/step - loss: 0.0087\n",
      "Epoch 97/100\n",
      "141/141 [==============================] - 0s 1ms/step - loss: 0.0087\n",
      "Epoch 98/100\n",
      "141/141 [==============================] - 0s 2ms/step - loss: 0.0086\n",
      "Epoch 99/100\n",
      "141/141 [==============================] - 0s 2ms/step - loss: 0.0086\n",
      "Epoch 100/100\n",
      "141/141 [==============================] - 0s 2ms/step - loss: 0.0086\n",
      "WARNING:tensorflow:6 out of the last 29 calls to <function Model.make_predict_function.<locals>.predict_function at 0x00000167689229D0> triggered tf.function retracing. Tracing is expensive and the excessive number of tracings could be due to (1) creating @tf.function repeatedly in a loop, (2) passing tensors with different shapes, (3) passing Python objects instead of tensors. For (1), please define your @tf.function outside of the loop. For (2), @tf.function has reduce_retracing=True option that can avoid unnecessary retracing. For (3), please refer to https://www.tensorflow.org/guide/function#controlling_retracing and https://www.tensorflow.org/api_docs/python/tf/function for  more details.\n",
      "1/1 [==============================] - 0s 469ms/step\n",
      "Epoch 1/100\n",
      "142/142 [==============================] - 2s 2ms/step - loss: 0.0601\n",
      "Epoch 2/100\n",
      "142/142 [==============================] - 0s 2ms/step - loss: 0.0512\n",
      "Epoch 3/100\n",
      "142/142 [==============================] - 0s 2ms/step - loss: 0.0444\n",
      "Epoch 4/100\n",
      "142/142 [==============================] - 0s 2ms/step - loss: 0.0387\n",
      "Epoch 5/100\n",
      "142/142 [==============================] - 0s 2ms/step - loss: 0.0341\n",
      "Epoch 6/100\n",
      "142/142 [==============================] - 0s 1ms/step - loss: 0.0304\n",
      "Epoch 7/100\n",
      "142/142 [==============================] - 0s 2ms/step - loss: 0.0274\n",
      "Epoch 8/100\n",
      "142/142 [==============================] - 0s 2ms/step - loss: 0.0249\n",
      "Epoch 9/100\n",
      "142/142 [==============================] - 0s 3ms/step - loss: 0.0230\n",
      "Epoch 10/100\n",
      "142/142 [==============================] - 0s 2ms/step - loss: 0.0214\n",
      "Epoch 11/100\n",
      "142/142 [==============================] - 0s 2ms/step - loss: 0.0201\n",
      "Epoch 12/100\n",
      "142/142 [==============================] - 0s 2ms/step - loss: 0.0191\n",
      "Epoch 13/100\n",
      "142/142 [==============================] - 0s 2ms/step - loss: 0.0184\n",
      "Epoch 14/100\n",
      "142/142 [==============================] - 0s 2ms/step - loss: 0.0177\n",
      "Epoch 15/100\n",
      "142/142 [==============================] - 0s 2ms/step - loss: 0.0172\n",
      "Epoch 16/100\n",
      "142/142 [==============================] - 0s 2ms/step - loss: 0.0168\n",
      "Epoch 17/100\n",
      "142/142 [==============================] - 0s 2ms/step - loss: 0.0164\n",
      "Epoch 18/100\n",
      "142/142 [==============================] - 0s 2ms/step - loss: 0.0161\n",
      "Epoch 19/100\n",
      "142/142 [==============================] - 0s 2ms/step - loss: 0.0158\n",
      "Epoch 20/100\n",
      "142/142 [==============================] - 0s 2ms/step - loss: 0.0156\n",
      "Epoch 21/100\n",
      "142/142 [==============================] - 0s 2ms/step - loss: 0.0153\n",
      "Epoch 22/100\n",
      "142/142 [==============================] - 0s 2ms/step - loss: 0.0151\n",
      "Epoch 23/100\n",
      "142/142 [==============================] - 0s 2ms/step - loss: 0.0149\n",
      "Epoch 24/100\n",
      "142/142 [==============================] - 0s 2ms/step - loss: 0.0147\n",
      "Epoch 25/100\n",
      "142/142 [==============================] - 0s 2ms/step - loss: 0.0145\n",
      "Epoch 26/100\n",
      "142/142 [==============================] - 0s 2ms/step - loss: 0.0143\n",
      "Epoch 27/100\n",
      "142/142 [==============================] - 0s 2ms/step - loss: 0.0141\n",
      "Epoch 28/100\n",
      "142/142 [==============================] - 0s 2ms/step - loss: 0.0139\n",
      "Epoch 29/100\n",
      "142/142 [==============================] - 0s 2ms/step - loss: 0.0137\n",
      "Epoch 30/100\n",
      "142/142 [==============================] - 0s 2ms/step - loss: 0.0136\n",
      "Epoch 31/100\n",
      "142/142 [==============================] - 0s 2ms/step - loss: 0.0134\n",
      "Epoch 32/100\n",
      "142/142 [==============================] - 0s 2ms/step - loss: 0.0132\n",
      "Epoch 33/100\n",
      "142/142 [==============================] - 0s 2ms/step - loss: 0.0131\n",
      "Epoch 34/100\n",
      "142/142 [==============================] - 0s 2ms/step - loss: 0.0129\n",
      "Epoch 35/100\n",
      "142/142 [==============================] - 0s 2ms/step - loss: 0.0128\n",
      "Epoch 36/100\n",
      "142/142 [==============================] - 0s 3ms/step - loss: 0.0127\n",
      "Epoch 37/100\n",
      "142/142 [==============================] - 0s 2ms/step - loss: 0.0125\n",
      "Epoch 38/100\n",
      "142/142 [==============================] - 0s 2ms/step - loss: 0.0124\n",
      "Epoch 39/100\n",
      "142/142 [==============================] - 0s 2ms/step - loss: 0.0122\n",
      "Epoch 40/100\n",
      "142/142 [==============================] - 0s 2ms/step - loss: 0.0121\n",
      "Epoch 41/100\n",
      "142/142 [==============================] - 0s 3ms/step - loss: 0.0120\n",
      "Epoch 42/100\n",
      "142/142 [==============================] - 0s 2ms/step - loss: 0.0119\n",
      "Epoch 43/100\n",
      "142/142 [==============================] - 0s 2ms/step - loss: 0.0117\n",
      "Epoch 44/100\n",
      "142/142 [==============================] - 0s 2ms/step - loss: 0.0116\n",
      "Epoch 45/100\n",
      "142/142 [==============================] - 0s 2ms/step - loss: 0.0115\n",
      "Epoch 46/100\n",
      "142/142 [==============================] - 0s 1ms/step - loss: 0.0114\n",
      "Epoch 47/100\n",
      "142/142 [==============================] - 0s 2ms/step - loss: 0.0113\n",
      "Epoch 48/100\n",
      "142/142 [==============================] - 0s 2ms/step - loss: 0.0112\n",
      "Epoch 49/100\n",
      "142/142 [==============================] - 0s 2ms/step - loss: 0.0111\n",
      "Epoch 50/100\n",
      "142/142 [==============================] - 0s 2ms/step - loss: 0.0110\n",
      "Epoch 51/100\n",
      "142/142 [==============================] - 0s 2ms/step - loss: 0.0109\n",
      "Epoch 52/100\n",
      "142/142 [==============================] - 0s 1ms/step - loss: 0.0108\n",
      "Epoch 53/100\n",
      "142/142 [==============================] - 0s 2ms/step - loss: 0.0107\n",
      "Epoch 54/100\n",
      "142/142 [==============================] - 0s 2ms/step - loss: 0.0106\n",
      "Epoch 55/100\n",
      "142/142 [==============================] - 0s 2ms/step - loss: 0.0105\n",
      "Epoch 56/100\n",
      "142/142 [==============================] - 0s 1ms/step - loss: 0.0104\n",
      "Epoch 57/100\n",
      "142/142 [==============================] - 0s 2ms/step - loss: 0.0103\n",
      "Epoch 58/100\n",
      "142/142 [==============================] - 0s 2ms/step - loss: 0.0102\n",
      "Epoch 59/100\n",
      "142/142 [==============================] - 0s 2ms/step - loss: 0.0102\n",
      "Epoch 60/100\n",
      "142/142 [==============================] - 0s 2ms/step - loss: 0.0101\n",
      "Epoch 61/100\n",
      "142/142 [==============================] - 0s 2ms/step - loss: 0.0100\n",
      "Epoch 62/100\n",
      "142/142 [==============================] - 0s 2ms/step - loss: 0.0099\n",
      "Epoch 63/100\n",
      "142/142 [==============================] - 0s 2ms/step - loss: 0.0098\n",
      "Epoch 64/100\n",
      "142/142 [==============================] - 0s 2ms/step - loss: 0.0098\n",
      "Epoch 65/100\n",
      "142/142 [==============================] - 0s 2ms/step - loss: 0.0097\n",
      "Epoch 66/100\n",
      "142/142 [==============================] - 0s 2ms/step - loss: 0.0096\n",
      "Epoch 67/100\n",
      "142/142 [==============================] - 0s 2ms/step - loss: 0.0095\n",
      "Epoch 68/100\n",
      "142/142 [==============================] - 0s 2ms/step - loss: 0.0094\n",
      "Epoch 69/100\n",
      "142/142 [==============================] - 0s 2ms/step - loss: 0.0094\n",
      "Epoch 70/100\n",
      "142/142 [==============================] - 0s 2ms/step - loss: 0.0093\n",
      "Epoch 71/100\n",
      "142/142 [==============================] - 0s 2ms/step - loss: 0.0092\n",
      "Epoch 72/100\n",
      "142/142 [==============================] - 0s 2ms/step - loss: 0.0092\n",
      "Epoch 73/100\n",
      "142/142 [==============================] - 0s 2ms/step - loss: 0.0091\n",
      "Epoch 74/100\n",
      "142/142 [==============================] - 0s 2ms/step - loss: 0.0090\n",
      "Epoch 75/100\n",
      "142/142 [==============================] - 0s 2ms/step - loss: 0.0089\n",
      "Epoch 76/100\n",
      "142/142 [==============================] - 0s 2ms/step - loss: 0.0089\n",
      "Epoch 77/100\n",
      "142/142 [==============================] - 0s 2ms/step - loss: 0.0088\n",
      "Epoch 78/100\n",
      "142/142 [==============================] - 0s 2ms/step - loss: 0.0087\n",
      "Epoch 79/100\n",
      "142/142 [==============================] - 0s 2ms/step - loss: 0.0087\n",
      "Epoch 80/100\n",
      "142/142 [==============================] - 0s 2ms/step - loss: 0.0086\n",
      "Epoch 81/100\n",
      "142/142 [==============================] - 0s 2ms/step - loss: 0.0085\n",
      "Epoch 82/100\n",
      "142/142 [==============================] - 0s 2ms/step - loss: 0.0085\n",
      "Epoch 83/100\n",
      "142/142 [==============================] - 0s 2ms/step - loss: 0.0084\n",
      "Epoch 84/100\n",
      "142/142 [==============================] - 0s 2ms/step - loss: 0.0083\n",
      "Epoch 85/100\n",
      "142/142 [==============================] - 0s 2ms/step - loss: 0.0083\n",
      "Epoch 86/100\n",
      "142/142 [==============================] - 0s 2ms/step - loss: 0.0082\n",
      "Epoch 87/100\n",
      "142/142 [==============================] - 0s 2ms/step - loss: 0.0081\n",
      "Epoch 88/100\n",
      "142/142 [==============================] - 0s 2ms/step - loss: 0.0081\n",
      "Epoch 89/100\n",
      "142/142 [==============================] - 0s 2ms/step - loss: 0.0080\n",
      "Epoch 90/100\n",
      "142/142 [==============================] - 0s 2ms/step - loss: 0.0079\n",
      "Epoch 91/100\n",
      "142/142 [==============================] - 0s 2ms/step - loss: 0.0079\n",
      "Epoch 92/100\n",
      "142/142 [==============================] - 0s 3ms/step - loss: 0.0078\n",
      "Epoch 93/100\n",
      "142/142 [==============================] - 0s 2ms/step - loss: 0.0077\n",
      "Epoch 94/100\n",
      "142/142 [==============================] - 0s 2ms/step - loss: 0.0077\n",
      "Epoch 95/100\n",
      "142/142 [==============================] - 0s 2ms/step - loss: 0.0076\n",
      "Epoch 96/100\n",
      "142/142 [==============================] - 0s 2ms/step - loss: 0.0075\n",
      "Epoch 97/100\n",
      "142/142 [==============================] - 0s 2ms/step - loss: 0.0075\n",
      "Epoch 98/100\n",
      "142/142 [==============================] - 0s 2ms/step - loss: 0.0074\n",
      "Epoch 99/100\n",
      "142/142 [==============================] - 0s 2ms/step - loss: 0.0074\n",
      "Epoch 100/100\n",
      "142/142 [==============================] - 0s 2ms/step - loss: 0.0073\n",
      "1/1 [==============================] - 0s 407ms/step\n",
      "Epoch 1/100\n",
      "143/143 [==============================] - 2s 2ms/step - loss: 0.0658\n",
      "Epoch 2/100\n",
      "143/143 [==============================] - 0s 2ms/step - loss: 0.0553\n",
      "Epoch 3/100\n",
      "143/143 [==============================] - 0s 2ms/step - loss: 0.0481\n",
      "Epoch 4/100\n",
      "143/143 [==============================] - 0s 2ms/step - loss: 0.0423\n",
      "Epoch 5/100\n",
      "143/143 [==============================] - 0s 1ms/step - loss: 0.0379\n",
      "Epoch 6/100\n",
      "143/143 [==============================] - 0s 2ms/step - loss: 0.0343\n",
      "Epoch 7/100\n",
      "143/143 [==============================] - 0s 2ms/step - loss: 0.0315\n",
      "Epoch 8/100\n",
      "143/143 [==============================] - 0s 2ms/step - loss: 0.0291\n",
      "Epoch 9/100\n",
      "143/143 [==============================] - 0s 2ms/step - loss: 0.0271\n",
      "Epoch 10/100\n",
      "143/143 [==============================] - 0s 2ms/step - loss: 0.0254\n",
      "Epoch 11/100\n",
      "143/143 [==============================] - 0s 3ms/step - loss: 0.0240\n",
      "Epoch 12/100\n",
      "143/143 [==============================] - 0s 2ms/step - loss: 0.0227\n",
      "Epoch 13/100\n",
      "143/143 [==============================] - 0s 2ms/step - loss: 0.0217\n",
      "Epoch 14/100\n",
      "143/143 [==============================] - 0s 2ms/step - loss: 0.0208\n",
      "Epoch 15/100\n",
      "143/143 [==============================] - 0s 2ms/step - loss: 0.0200\n",
      "Epoch 16/100\n",
      "143/143 [==============================] - 0s 2ms/step - loss: 0.0194\n",
      "Epoch 17/100\n",
      "143/143 [==============================] - 0s 2ms/step - loss: 0.0188\n",
      "Epoch 18/100\n",
      "143/143 [==============================] - 0s 2ms/step - loss: 0.0183\n",
      "Epoch 19/100\n",
      "143/143 [==============================] - 0s 2ms/step - loss: 0.0179\n",
      "Epoch 20/100\n",
      "143/143 [==============================] - 0s 2ms/step - loss: 0.0175\n",
      "Epoch 21/100\n",
      "143/143 [==============================] - 0s 2ms/step - loss: 0.0172\n",
      "Epoch 22/100\n",
      "143/143 [==============================] - 0s 2ms/step - loss: 0.0169\n",
      "Epoch 23/100\n",
      "143/143 [==============================] - 0s 2ms/step - loss: 0.0166\n",
      "Epoch 24/100\n",
      "143/143 [==============================] - 0s 2ms/step - loss: 0.0163\n",
      "Epoch 25/100\n",
      "143/143 [==============================] - 0s 2ms/step - loss: 0.0160\n",
      "Epoch 26/100\n",
      "143/143 [==============================] - 0s 2ms/step - loss: 0.0158\n",
      "Epoch 27/100\n",
      "143/143 [==============================] - 0s 2ms/step - loss: 0.0156\n",
      "Epoch 28/100\n",
      "143/143 [==============================] - 0s 2ms/step - loss: 0.0153\n",
      "Epoch 29/100\n",
      "143/143 [==============================] - 0s 2ms/step - loss: 0.0151\n",
      "Epoch 30/100\n",
      "143/143 [==============================] - 0s 2ms/step - loss: 0.0149\n",
      "Epoch 31/100\n",
      "143/143 [==============================] - 0s 2ms/step - loss: 0.0147\n",
      "Epoch 32/100\n",
      "143/143 [==============================] - 0s 2ms/step - loss: 0.0145\n",
      "Epoch 33/100\n",
      "143/143 [==============================] - 0s 2ms/step - loss: 0.0144\n",
      "Epoch 34/100\n",
      "143/143 [==============================] - 0s 2ms/step - loss: 0.0142\n",
      "Epoch 35/100\n",
      "143/143 [==============================] - 0s 2ms/step - loss: 0.0140\n",
      "Epoch 36/100\n",
      "143/143 [==============================] - 0s 2ms/step - loss: 0.0138\n",
      "Epoch 37/100\n",
      "143/143 [==============================] - 0s 2ms/step - loss: 0.0137\n",
      "Epoch 38/100\n",
      "143/143 [==============================] - 0s 2ms/step - loss: 0.0135\n",
      "Epoch 39/100\n",
      "143/143 [==============================] - 0s 2ms/step - loss: 0.0133\n",
      "Epoch 40/100\n",
      "143/143 [==============================] - 0s 2ms/step - loss: 0.0132\n",
      "Epoch 41/100\n",
      "143/143 [==============================] - 0s 1ms/step - loss: 0.0130\n",
      "Epoch 42/100\n",
      "143/143 [==============================] - 0s 2ms/step - loss: 0.0129\n",
      "Epoch 43/100\n",
      "143/143 [==============================] - 0s 2ms/step - loss: 0.0127\n",
      "Epoch 44/100\n",
      "143/143 [==============================] - 0s 2ms/step - loss: 0.0126\n",
      "Epoch 45/100\n",
      "143/143 [==============================] - 0s 2ms/step - loss: 0.0125\n",
      "Epoch 46/100\n",
      "143/143 [==============================] - 0s 2ms/step - loss: 0.0123\n",
      "Epoch 47/100\n",
      "143/143 [==============================] - 0s 2ms/step - loss: 0.0122\n",
      "Epoch 48/100\n",
      "143/143 [==============================] - 0s 2ms/step - loss: 0.0120\n",
      "Epoch 49/100\n",
      "143/143 [==============================] - 0s 2ms/step - loss: 0.0119\n",
      "Epoch 50/100\n",
      "143/143 [==============================] - 0s 2ms/step - loss: 0.0118\n",
      "Epoch 51/100\n",
      "143/143 [==============================] - 0s 2ms/step - loss: 0.0117\n",
      "Epoch 52/100\n",
      "143/143 [==============================] - 0s 2ms/step - loss: 0.0115\n",
      "Epoch 53/100\n",
      "143/143 [==============================] - 0s 2ms/step - loss: 0.0114\n",
      "Epoch 54/100\n",
      "143/143 [==============================] - 0s 2ms/step - loss: 0.0113\n",
      "Epoch 55/100\n",
      "143/143 [==============================] - 0s 2ms/step - loss: 0.0112\n",
      "Epoch 56/100\n",
      "143/143 [==============================] - 0s 2ms/step - loss: 0.0111\n",
      "Epoch 57/100\n",
      "143/143 [==============================] - 0s 2ms/step - loss: 0.0110\n",
      "Epoch 58/100\n",
      "143/143 [==============================] - 0s 2ms/step - loss: 0.0109\n",
      "Epoch 59/100\n",
      "143/143 [==============================] - 0s 2ms/step - loss: 0.0108\n",
      "Epoch 60/100\n",
      "143/143 [==============================] - 0s 2ms/step - loss: 0.0107\n",
      "Epoch 61/100\n",
      "143/143 [==============================] - 0s 2ms/step - loss: 0.0106\n",
      "Epoch 62/100\n",
      "143/143 [==============================] - 0s 2ms/step - loss: 0.0105\n",
      "Epoch 63/100\n",
      "143/143 [==============================] - 0s 1ms/step - loss: 0.0104\n",
      "Epoch 64/100\n",
      "143/143 [==============================] - 0s 2ms/step - loss: 0.0103\n",
      "Epoch 65/100\n",
      "143/143 [==============================] - 0s 2ms/step - loss: 0.0102\n",
      "Epoch 66/100\n",
      "143/143 [==============================] - 0s 2ms/step - loss: 0.0101\n",
      "Epoch 67/100\n",
      "143/143 [==============================] - 0s 2ms/step - loss: 0.0100\n",
      "Epoch 68/100\n",
      "143/143 [==============================] - 0s 2ms/step - loss: 0.0099\n",
      "Epoch 69/100\n",
      "143/143 [==============================] - 0s 2ms/step - loss: 0.0098\n",
      "Epoch 70/100\n",
      "143/143 [==============================] - 0s 1ms/step - loss: 0.0097\n",
      "Epoch 71/100\n",
      "143/143 [==============================] - 0s 2ms/step - loss: 0.0096\n",
      "Epoch 72/100\n",
      "143/143 [==============================] - 0s 2ms/step - loss: 0.0095\n",
      "Epoch 73/100\n",
      "143/143 [==============================] - 0s 2ms/step - loss: 0.0095\n",
      "Epoch 74/100\n",
      "143/143 [==============================] - 0s 2ms/step - loss: 0.0094\n",
      "Epoch 75/100\n",
      "143/143 [==============================] - 0s 2ms/step - loss: 0.0093\n",
      "Epoch 76/100\n",
      "143/143 [==============================] - 0s 2ms/step - loss: 0.0092\n",
      "Epoch 77/100\n",
      "143/143 [==============================] - 0s 2ms/step - loss: 0.0091\n",
      "Epoch 78/100\n",
      "143/143 [==============================] - 0s 2ms/step - loss: 0.0091\n",
      "Epoch 79/100\n",
      "143/143 [==============================] - 0s 2ms/step - loss: 0.0090\n",
      "Epoch 80/100\n",
      "143/143 [==============================] - 0s 1ms/step - loss: 0.0089\n",
      "Epoch 81/100\n",
      "143/143 [==============================] - 0s 2ms/step - loss: 0.0088\n",
      "Epoch 82/100\n",
      "143/143 [==============================] - 0s 2ms/step - loss: 0.0088\n",
      "Epoch 83/100\n",
      "143/143 [==============================] - 0s 2ms/step - loss: 0.0087\n",
      "Epoch 84/100\n",
      "143/143 [==============================] - 0s 2ms/step - loss: 0.0086\n",
      "Epoch 85/100\n",
      "143/143 [==============================] - 0s 2ms/step - loss: 0.0086\n",
      "Epoch 86/100\n",
      "143/143 [==============================] - 0s 2ms/step - loss: 0.0085\n",
      "Epoch 87/100\n",
      "143/143 [==============================] - 0s 2ms/step - loss: 0.0084\n",
      "Epoch 88/100\n",
      "143/143 [==============================] - 0s 2ms/step - loss: 0.0084\n",
      "Epoch 89/100\n",
      "143/143 [==============================] - 0s 2ms/step - loss: 0.0083\n",
      "Epoch 90/100\n",
      "143/143 [==============================] - 0s 2ms/step - loss: 0.0082\n",
      "Epoch 91/100\n",
      "143/143 [==============================] - 0s 2ms/step - loss: 0.0082\n",
      "Epoch 92/100\n",
      "143/143 [==============================] - 0s 2ms/step - loss: 0.0081\n",
      "Epoch 93/100\n",
      "143/143 [==============================] - 0s 2ms/step - loss: 0.0081\n",
      "Epoch 94/100\n",
      "143/143 [==============================] - 0s 2ms/step - loss: 0.0080\n",
      "Epoch 95/100\n",
      "143/143 [==============================] - 0s 2ms/step - loss: 0.0080\n",
      "Epoch 96/100\n",
      "143/143 [==============================] - 0s 2ms/step - loss: 0.0079\n",
      "Epoch 97/100\n",
      "143/143 [==============================] - 0s 2ms/step - loss: 0.0078\n",
      "Epoch 98/100\n",
      "143/143 [==============================] - 0s 2ms/step - loss: 0.0078\n",
      "Epoch 99/100\n",
      "143/143 [==============================] - 0s 2ms/step - loss: 0.0077\n",
      "Epoch 100/100\n",
      "143/143 [==============================] - 0s 2ms/step - loss: 0.0077\n",
      "1/1 [==============================] - 0s 414ms/step\n",
      "Epoch 1/100\n",
      "144/144 [==============================] - 2s 1ms/step - loss: 0.0677\n",
      "Epoch 2/100\n",
      "144/144 [==============================] - 0s 1ms/step - loss: 0.0591\n",
      "Epoch 3/100\n",
      "144/144 [==============================] - 0s 2ms/step - loss: 0.0520\n",
      "Epoch 4/100\n",
      "144/144 [==============================] - 0s 2ms/step - loss: 0.0453\n",
      "Epoch 5/100\n",
      "144/144 [==============================] - 0s 2ms/step - loss: 0.0393\n",
      "Epoch 6/100\n",
      "144/144 [==============================] - 0s 2ms/step - loss: 0.0344\n",
      "Epoch 7/100\n",
      "144/144 [==============================] - 0s 2ms/step - loss: 0.0305\n",
      "Epoch 8/100\n",
      "144/144 [==============================] - 0s 2ms/step - loss: 0.0275\n",
      "Epoch 9/100\n",
      "144/144 [==============================] - 0s 2ms/step - loss: 0.0251\n",
      "Epoch 10/100\n",
      "144/144 [==============================] - 0s 1ms/step - loss: 0.0232\n",
      "Epoch 11/100\n",
      "144/144 [==============================] - 0s 2ms/step - loss: 0.0217\n",
      "Epoch 12/100\n",
      "144/144 [==============================] - 0s 2ms/step - loss: 0.0204\n",
      "Epoch 13/100\n",
      "144/144 [==============================] - 0s 2ms/step - loss: 0.0194\n",
      "Epoch 14/100\n",
      "144/144 [==============================] - 0s 2ms/step - loss: 0.0185\n",
      "Epoch 15/100\n",
      "144/144 [==============================] - 0s 2ms/step - loss: 0.0178\n",
      "Epoch 16/100\n",
      "144/144 [==============================] - 0s 2ms/step - loss: 0.0173\n",
      "Epoch 17/100\n",
      "144/144 [==============================] - 0s 2ms/step - loss: 0.0168\n",
      "Epoch 18/100\n",
      "144/144 [==============================] - 0s 2ms/step - loss: 0.0164\n",
      "Epoch 19/100\n",
      "144/144 [==============================] - 0s 2ms/step - loss: 0.0160\n",
      "Epoch 20/100\n",
      "144/144 [==============================] - 0s 2ms/step - loss: 0.0157\n",
      "Epoch 21/100\n",
      "144/144 [==============================] - 0s 2ms/step - loss: 0.0154\n",
      "Epoch 22/100\n",
      "144/144 [==============================] - 0s 2ms/step - loss: 0.0152\n",
      "Epoch 23/100\n",
      "144/144 [==============================] - 0s 2ms/step - loss: 0.0149\n",
      "Epoch 24/100\n",
      "144/144 [==============================] - 0s 2ms/step - loss: 0.0147\n",
      "Epoch 25/100\n",
      "144/144 [==============================] - 0s 2ms/step - loss: 0.0145\n",
      "Epoch 26/100\n",
      "144/144 [==============================] - 0s 2ms/step - loss: 0.0142\n",
      "Epoch 27/100\n",
      "144/144 [==============================] - 0s 2ms/step - loss: 0.0140\n",
      "Epoch 28/100\n",
      "144/144 [==============================] - 0s 2ms/step - loss: 0.0139\n",
      "Epoch 29/100\n",
      "144/144 [==============================] - 0s 2ms/step - loss: 0.0137\n",
      "Epoch 30/100\n",
      "144/144 [==============================] - 0s 2ms/step - loss: 0.0135\n",
      "Epoch 31/100\n",
      "144/144 [==============================] - 0s 2ms/step - loss: 0.0133\n",
      "Epoch 32/100\n",
      "144/144 [==============================] - 0s 2ms/step - loss: 0.0131\n",
      "Epoch 33/100\n",
      "144/144 [==============================] - 0s 2ms/step - loss: 0.0130\n",
      "Epoch 34/100\n",
      "144/144 [==============================] - 0s 2ms/step - loss: 0.0128\n",
      "Epoch 35/100\n",
      "144/144 [==============================] - 0s 2ms/step - loss: 0.0127\n",
      "Epoch 36/100\n",
      "144/144 [==============================] - 0s 2ms/step - loss: 0.0125\n",
      "Epoch 37/100\n",
      "144/144 [==============================] - 0s 2ms/step - loss: 0.0124\n",
      "Epoch 38/100\n",
      "144/144 [==============================] - 0s 2ms/step - loss: 0.0122\n",
      "Epoch 39/100\n",
      "144/144 [==============================] - 0s 1ms/step - loss: 0.0121\n",
      "Epoch 40/100\n",
      "144/144 [==============================] - 0s 2ms/step - loss: 0.0119\n",
      "Epoch 41/100\n",
      "144/144 [==============================] - 0s 2ms/step - loss: 0.0118\n",
      "Epoch 42/100\n",
      "144/144 [==============================] - 0s 1ms/step - loss: 0.0117\n",
      "Epoch 43/100\n",
      "144/144 [==============================] - 0s 2ms/step - loss: 0.0115\n",
      "Epoch 44/100\n",
      "144/144 [==============================] - 0s 2ms/step - loss: 0.0114\n",
      "Epoch 45/100\n",
      "144/144 [==============================] - 0s 2ms/step - loss: 0.0113\n",
      "Epoch 46/100\n",
      "144/144 [==============================] - 0s 2ms/step - loss: 0.0111\n",
      "Epoch 47/100\n",
      "144/144 [==============================] - 0s 2ms/step - loss: 0.0110\n",
      "Epoch 48/100\n",
      "144/144 [==============================] - 0s 2ms/step - loss: 0.0109\n",
      "Epoch 49/100\n",
      "144/144 [==============================] - 0s 2ms/step - loss: 0.0108\n",
      "Epoch 50/100\n",
      "144/144 [==============================] - 0s 2ms/step - loss: 0.0107\n",
      "Epoch 51/100\n",
      "144/144 [==============================] - 0s 2ms/step - loss: 0.0106\n",
      "Epoch 52/100\n",
      "144/144 [==============================] - 0s 2ms/step - loss: 0.0105\n",
      "Epoch 53/100\n",
      "144/144 [==============================] - 0s 2ms/step - loss: 0.0104\n",
      "Epoch 54/100\n",
      "144/144 [==============================] - 0s 2ms/step - loss: 0.0103\n",
      "Epoch 55/100\n",
      "144/144 [==============================] - 0s 2ms/step - loss: 0.0102\n",
      "Epoch 56/100\n",
      "144/144 [==============================] - 0s 2ms/step - loss: 0.0101\n",
      "Epoch 57/100\n",
      "144/144 [==============================] - 0s 2ms/step - loss: 0.0100\n",
      "Epoch 58/100\n",
      "144/144 [==============================] - 0s 1ms/step - loss: 0.0099\n",
      "Epoch 59/100\n",
      "144/144 [==============================] - 0s 2ms/step - loss: 0.0098\n",
      "Epoch 60/100\n",
      "144/144 [==============================] - 0s 1ms/step - loss: 0.0097\n",
      "Epoch 61/100\n",
      "144/144 [==============================] - 0s 1ms/step - loss: 0.0096\n",
      "Epoch 62/100\n",
      "144/144 [==============================] - 0s 2ms/step - loss: 0.0095\n",
      "Epoch 63/100\n",
      "144/144 [==============================] - 0s 2ms/step - loss: 0.0094\n",
      "Epoch 64/100\n",
      "144/144 [==============================] - 0s 1ms/step - loss: 0.0093\n",
      "Epoch 65/100\n",
      "144/144 [==============================] - 0s 1ms/step - loss: 0.0093\n",
      "Epoch 66/100\n",
      "144/144 [==============================] - 0s 1ms/step - loss: 0.0092\n",
      "Epoch 67/100\n",
      "144/144 [==============================] - 0s 1ms/step - loss: 0.0091\n",
      "Epoch 68/100\n",
      "144/144 [==============================] - 0s 1ms/step - loss: 0.0090\n",
      "Epoch 69/100\n",
      "144/144 [==============================] - 0s 2ms/step - loss: 0.0090\n",
      "Epoch 70/100\n",
      "144/144 [==============================] - 0s 2ms/step - loss: 0.0089\n",
      "Epoch 71/100\n",
      "144/144 [==============================] - 0s 2ms/step - loss: 0.0088\n",
      "Epoch 72/100\n",
      "144/144 [==============================] - 0s 2ms/step - loss: 0.0087\n",
      "Epoch 73/100\n",
      "144/144 [==============================] - 0s 2ms/step - loss: 0.0087\n",
      "Epoch 74/100\n",
      "144/144 [==============================] - 0s 2ms/step - loss: 0.0086\n",
      "Epoch 75/100\n",
      "144/144 [==============================] - 0s 2ms/step - loss: 0.0085\n",
      "Epoch 76/100\n",
      "144/144 [==============================] - 0s 2ms/step - loss: 0.0085\n",
      "Epoch 77/100\n",
      "144/144 [==============================] - 0s 2ms/step - loss: 0.0084\n",
      "Epoch 78/100\n",
      "144/144 [==============================] - 0s 2ms/step - loss: 0.0083\n",
      "Epoch 79/100\n",
      "144/144 [==============================] - 0s 2ms/step - loss: 0.0082\n",
      "Epoch 80/100\n",
      "144/144 [==============================] - 0s 2ms/step - loss: 0.0082\n",
      "Epoch 81/100\n",
      "144/144 [==============================] - 0s 2ms/step - loss: 0.0081\n",
      "Epoch 82/100\n",
      "144/144 [==============================] - 0s 2ms/step - loss: 0.0080\n",
      "Epoch 83/100\n",
      "144/144 [==============================] - 0s 2ms/step - loss: 0.0080\n",
      "Epoch 84/100\n",
      "144/144 [==============================] - 0s 2ms/step - loss: 0.0079\n",
      "Epoch 85/100\n",
      "144/144 [==============================] - 0s 2ms/step - loss: 0.0079\n",
      "Epoch 86/100\n",
      "144/144 [==============================] - 0s 2ms/step - loss: 0.0078\n",
      "Epoch 87/100\n",
      "144/144 [==============================] - 0s 2ms/step - loss: 0.0077\n",
      "Epoch 88/100\n",
      "144/144 [==============================] - 0s 2ms/step - loss: 0.0077\n",
      "Epoch 89/100\n",
      "144/144 [==============================] - 0s 2ms/step - loss: 0.0076\n",
      "Epoch 90/100\n",
      "144/144 [==============================] - 0s 2ms/step - loss: 0.0075\n",
      "Epoch 91/100\n",
      "144/144 [==============================] - 0s 2ms/step - loss: 0.0075\n",
      "Epoch 92/100\n",
      "144/144 [==============================] - 0s 2ms/step - loss: 0.0074\n",
      "Epoch 93/100\n",
      "144/144 [==============================] - 0s 2ms/step - loss: 0.0073\n",
      "Epoch 94/100\n",
      "144/144 [==============================] - 0s 2ms/step - loss: 0.0073\n",
      "Epoch 95/100\n",
      "144/144 [==============================] - 0s 2ms/step - loss: 0.0072\n",
      "Epoch 96/100\n",
      "144/144 [==============================] - 0s 2ms/step - loss: 0.0072\n",
      "Epoch 97/100\n",
      "144/144 [==============================] - 0s 2ms/step - loss: 0.0071\n",
      "Epoch 98/100\n",
      "144/144 [==============================] - 0s 2ms/step - loss: 0.0071\n",
      "Epoch 99/100\n",
      "144/144 [==============================] - 0s 2ms/step - loss: 0.0070\n",
      "Epoch 100/100\n",
      "144/144 [==============================] - 0s 1ms/step - loss: 0.0069\n",
      "1/1 [==============================] - 0s 452ms/step\n",
      "Epoch 1/100\n",
      "145/145 [==============================] - 2s 2ms/step - loss: 0.0830\n",
      "Epoch 2/100\n",
      "145/145 [==============================] - 0s 2ms/step - loss: 0.0713\n",
      "Epoch 3/100\n",
      "145/145 [==============================] - 0s 2ms/step - loss: 0.0644\n",
      "Epoch 4/100\n",
      "145/145 [==============================] - 0s 1ms/step - loss: 0.0581\n",
      "Epoch 5/100\n",
      "145/145 [==============================] - 0s 2ms/step - loss: 0.0520\n",
      "Epoch 6/100\n",
      "145/145 [==============================] - 0s 2ms/step - loss: 0.0463\n",
      "Epoch 7/100\n",
      "145/145 [==============================] - 0s 2ms/step - loss: 0.0412\n",
      "Epoch 8/100\n",
      "145/145 [==============================] - 0s 1ms/step - loss: 0.0368\n",
      "Epoch 9/100\n",
      "145/145 [==============================] - 0s 2ms/step - loss: 0.0332\n",
      "Epoch 10/100\n",
      "145/145 [==============================] - 0s 2ms/step - loss: 0.0303\n",
      "Epoch 11/100\n",
      "145/145 [==============================] - 0s 2ms/step - loss: 0.0279\n",
      "Epoch 12/100\n",
      "145/145 [==============================] - 0s 2ms/step - loss: 0.0260\n",
      "Epoch 13/100\n",
      "145/145 [==============================] - 0s 2ms/step - loss: 0.0244\n",
      "Epoch 14/100\n",
      "145/145 [==============================] - 0s 2ms/step - loss: 0.0230\n",
      "Epoch 15/100\n",
      "145/145 [==============================] - 0s 1ms/step - loss: 0.0219\n",
      "Epoch 16/100\n",
      "145/145 [==============================] - 0s 2ms/step - loss: 0.0210\n",
      "Epoch 17/100\n",
      "145/145 [==============================] - 0s 2ms/step - loss: 0.0202\n",
      "Epoch 18/100\n",
      "145/145 [==============================] - 0s 2ms/step - loss: 0.0196\n",
      "Epoch 19/100\n",
      "145/145 [==============================] - 0s 2ms/step - loss: 0.0191\n",
      "Epoch 20/100\n",
      "145/145 [==============================] - 0s 2ms/step - loss: 0.0186\n",
      "Epoch 21/100\n",
      "145/145 [==============================] - 0s 2ms/step - loss: 0.0183\n",
      "Epoch 22/100\n",
      "145/145 [==============================] - 0s 2ms/step - loss: 0.0179\n",
      "Epoch 23/100\n",
      "145/145 [==============================] - 0s 2ms/step - loss: 0.0176\n",
      "Epoch 24/100\n",
      "145/145 [==============================] - 0s 2ms/step - loss: 0.0174\n",
      "Epoch 25/100\n",
      "145/145 [==============================] - 0s 2ms/step - loss: 0.0171\n",
      "Epoch 26/100\n",
      "145/145 [==============================] - 0s 2ms/step - loss: 0.0169\n",
      "Epoch 27/100\n",
      "145/145 [==============================] - 0s 2ms/step - loss: 0.0167\n",
      "Epoch 28/100\n",
      "145/145 [==============================] - 0s 2ms/step - loss: 0.0165\n",
      "Epoch 29/100\n",
      "145/145 [==============================] - 0s 2ms/step - loss: 0.0163\n",
      "Epoch 30/100\n",
      "145/145 [==============================] - 0s 2ms/step - loss: 0.0161\n",
      "Epoch 31/100\n",
      "145/145 [==============================] - 0s 2ms/step - loss: 0.0159\n",
      "Epoch 32/100\n",
      "145/145 [==============================] - 0s 2ms/step - loss: 0.0157\n",
      "Epoch 33/100\n",
      "145/145 [==============================] - 0s 2ms/step - loss: 0.0155\n",
      "Epoch 34/100\n",
      "145/145 [==============================] - 0s 2ms/step - loss: 0.0153\n",
      "Epoch 35/100\n",
      "145/145 [==============================] - 0s 2ms/step - loss: 0.0152\n",
      "Epoch 36/100\n",
      "145/145 [==============================] - 0s 2ms/step - loss: 0.0150\n",
      "Epoch 37/100\n",
      "145/145 [==============================] - 0s 2ms/step - loss: 0.0148\n",
      "Epoch 38/100\n",
      "145/145 [==============================] - 0s 2ms/step - loss: 0.0147\n",
      "Epoch 39/100\n",
      "145/145 [==============================] - 0s 2ms/step - loss: 0.0145\n",
      "Epoch 40/100\n",
      "145/145 [==============================] - 0s 2ms/step - loss: 0.0144\n",
      "Epoch 41/100\n",
      "145/145 [==============================] - 0s 2ms/step - loss: 0.0142\n",
      "Epoch 42/100\n",
      "145/145 [==============================] - 0s 2ms/step - loss: 0.0141\n",
      "Epoch 43/100\n",
      "145/145 [==============================] - 0s 2ms/step - loss: 0.0139\n",
      "Epoch 44/100\n",
      "145/145 [==============================] - 0s 2ms/step - loss: 0.0138\n",
      "Epoch 45/100\n",
      "145/145 [==============================] - 0s 2ms/step - loss: 0.0136\n",
      "Epoch 46/100\n",
      "145/145 [==============================] - 0s 2ms/step - loss: 0.0135\n",
      "Epoch 47/100\n",
      "145/145 [==============================] - 0s 2ms/step - loss: 0.0134\n",
      "Epoch 48/100\n",
      "145/145 [==============================] - 0s 2ms/step - loss: 0.0132\n",
      "Epoch 49/100\n",
      "145/145 [==============================] - 0s 2ms/step - loss: 0.0131\n",
      "Epoch 50/100\n",
      "145/145 [==============================] - 0s 2ms/step - loss: 0.0130\n",
      "Epoch 51/100\n",
      "145/145 [==============================] - 0s 2ms/step - loss: 0.0129\n",
      "Epoch 52/100\n",
      "145/145 [==============================] - 0s 2ms/step - loss: 0.0127\n",
      "Epoch 53/100\n",
      "145/145 [==============================] - 0s 2ms/step - loss: 0.0126\n",
      "Epoch 54/100\n",
      "145/145 [==============================] - 0s 2ms/step - loss: 0.0125\n",
      "Epoch 55/100\n",
      "145/145 [==============================] - 0s 1ms/step - loss: 0.0124\n",
      "Epoch 56/100\n",
      "145/145 [==============================] - 0s 2ms/step - loss: 0.0122\n",
      "Epoch 57/100\n",
      "145/145 [==============================] - 0s 2ms/step - loss: 0.0121\n",
      "Epoch 58/100\n",
      "145/145 [==============================] - 0s 2ms/step - loss: 0.0120\n",
      "Epoch 59/100\n",
      "145/145 [==============================] - 0s 2ms/step - loss: 0.0119\n",
      "Epoch 60/100\n",
      "145/145 [==============================] - 0s 2ms/step - loss: 0.0118\n",
      "Epoch 61/100\n",
      "145/145 [==============================] - 0s 1ms/step - loss: 0.0117\n",
      "Epoch 62/100\n",
      "145/145 [==============================] - 0s 2ms/step - loss: 0.0116\n",
      "Epoch 63/100\n",
      "145/145 [==============================] - 0s 1ms/step - loss: 0.0115\n",
      "Epoch 64/100\n",
      "145/145 [==============================] - 0s 1ms/step - loss: 0.0114\n",
      "Epoch 65/100\n",
      "145/145 [==============================] - 0s 2ms/step - loss: 0.0113\n",
      "Epoch 66/100\n",
      "145/145 [==============================] - 0s 2ms/step - loss: 0.0112\n",
      "Epoch 67/100\n",
      "145/145 [==============================] - 0s 2ms/step - loss: 0.0111\n",
      "Epoch 68/100\n",
      "145/145 [==============================] - 0s 2ms/step - loss: 0.0110\n",
      "Epoch 69/100\n",
      "145/145 [==============================] - 0s 2ms/step - loss: 0.0109\n",
      "Epoch 70/100\n",
      "145/145 [==============================] - 0s 2ms/step - loss: 0.0108\n",
      "Epoch 71/100\n",
      "145/145 [==============================] - 0s 2ms/step - loss: 0.0107\n",
      "Epoch 72/100\n",
      "145/145 [==============================] - 0s 2ms/step - loss: 0.0106\n",
      "Epoch 73/100\n",
      "145/145 [==============================] - 0s 1ms/step - loss: 0.0105\n",
      "Epoch 74/100\n",
      "145/145 [==============================] - 0s 2ms/step - loss: 0.0104\n",
      "Epoch 75/100\n",
      "145/145 [==============================] - 0s 2ms/step - loss: 0.0103\n",
      "Epoch 76/100\n",
      "145/145 [==============================] - 0s 2ms/step - loss: 0.0102\n",
      "Epoch 77/100\n",
      "145/145 [==============================] - 0s 2ms/step - loss: 0.0101\n",
      "Epoch 78/100\n",
      "145/145 [==============================] - 0s 2ms/step - loss: 0.0100\n",
      "Epoch 79/100\n",
      "145/145 [==============================] - 0s 2ms/step - loss: 0.0100\n",
      "Epoch 80/100\n",
      "145/145 [==============================] - 0s 2ms/step - loss: 0.0099\n",
      "Epoch 81/100\n",
      "145/145 [==============================] - 0s 1ms/step - loss: 0.0098\n",
      "Epoch 82/100\n",
      "145/145 [==============================] - 0s 2ms/step - loss: 0.0097\n",
      "Epoch 83/100\n",
      "145/145 [==============================] - 0s 2ms/step - loss: 0.0096\n",
      "Epoch 84/100\n",
      "145/145 [==============================] - 0s 2ms/step - loss: 0.0095\n",
      "Epoch 85/100\n",
      "145/145 [==============================] - 0s 2ms/step - loss: 0.0095\n",
      "Epoch 86/100\n",
      "145/145 [==============================] - 0s 2ms/step - loss: 0.0094\n",
      "Epoch 87/100\n",
      "145/145 [==============================] - 0s 2ms/step - loss: 0.0093\n",
      "Epoch 88/100\n",
      "145/145 [==============================] - 0s 2ms/step - loss: 0.0092\n",
      "Epoch 89/100\n",
      "145/145 [==============================] - 0s 2ms/step - loss: 0.0091\n",
      "Epoch 90/100\n",
      "145/145 [==============================] - 0s 2ms/step - loss: 0.0091\n",
      "Epoch 91/100\n",
      "145/145 [==============================] - 0s 2ms/step - loss: 0.0090\n",
      "Epoch 92/100\n",
      "145/145 [==============================] - 0s 1ms/step - loss: 0.0089\n",
      "Epoch 93/100\n",
      "145/145 [==============================] - 0s 2ms/step - loss: 0.0088\n",
      "Epoch 94/100\n",
      "145/145 [==============================] - 0s 2ms/step - loss: 0.0087\n",
      "Epoch 95/100\n",
      "145/145 [==============================] - 0s 2ms/step - loss: 0.0087\n",
      "Epoch 96/100\n",
      "145/145 [==============================] - 0s 2ms/step - loss: 0.0086\n",
      "Epoch 97/100\n",
      "145/145 [==============================] - 0s 2ms/step - loss: 0.0085\n",
      "Epoch 98/100\n",
      "145/145 [==============================] - 0s 1ms/step - loss: 0.0084\n",
      "Epoch 99/100\n",
      "145/145 [==============================] - 0s 2ms/step - loss: 0.0084\n",
      "Epoch 100/100\n",
      "145/145 [==============================] - 0s 2ms/step - loss: 0.0083\n",
      "1/1 [==============================] - 0s 384ms/step\n",
      "Epoch 1/100\n",
      "146/146 [==============================] - 2s 2ms/step - loss: 0.0686\n",
      "Epoch 2/100\n",
      "146/146 [==============================] - 0s 2ms/step - loss: 0.0619\n",
      "Epoch 3/100\n",
      "146/146 [==============================] - 0s 2ms/step - loss: 0.0571\n",
      "Epoch 4/100\n",
      "146/146 [==============================] - 0s 2ms/step - loss: 0.0516\n",
      "Epoch 5/100\n",
      "146/146 [==============================] - 0s 2ms/step - loss: 0.0455\n",
      "Epoch 6/100\n",
      "146/146 [==============================] - 0s 2ms/step - loss: 0.0393\n",
      "Epoch 7/100\n",
      "146/146 [==============================] - 0s 2ms/step - loss: 0.0338\n",
      "Epoch 8/100\n",
      "146/146 [==============================] - 0s 2ms/step - loss: 0.0292\n",
      "Epoch 9/100\n",
      "146/146 [==============================] - 0s 1ms/step - loss: 0.0257\n",
      "Epoch 10/100\n",
      "146/146 [==============================] - 0s 2ms/step - loss: 0.0231\n",
      "Epoch 11/100\n",
      "146/146 [==============================] - 0s 2ms/step - loss: 0.0211\n",
      "Epoch 12/100\n",
      "146/146 [==============================] - 0s 2ms/step - loss: 0.0197\n",
      "Epoch 13/100\n",
      "146/146 [==============================] - 0s 2ms/step - loss: 0.0186\n",
      "Epoch 14/100\n",
      "146/146 [==============================] - 0s 2ms/step - loss: 0.0177\n",
      "Epoch 15/100\n",
      "146/146 [==============================] - 0s 2ms/step - loss: 0.0171\n",
      "Epoch 16/100\n",
      "146/146 [==============================] - 0s 2ms/step - loss: 0.0165\n",
      "Epoch 17/100\n",
      "146/146 [==============================] - 0s 2ms/step - loss: 0.0161\n",
      "Epoch 18/100\n",
      "146/146 [==============================] - 0s 2ms/step - loss: 0.0158\n",
      "Epoch 19/100\n",
      "146/146 [==============================] - 0s 2ms/step - loss: 0.0155\n",
      "Epoch 20/100\n",
      "146/146 [==============================] - 0s 2ms/step - loss: 0.0153\n",
      "Epoch 21/100\n",
      "146/146 [==============================] - 0s 2ms/step - loss: 0.0150\n",
      "Epoch 22/100\n",
      "146/146 [==============================] - 0s 2ms/step - loss: 0.0148\n",
      "Epoch 23/100\n",
      "146/146 [==============================] - 0s 2ms/step - loss: 0.0147\n",
      "Epoch 24/100\n",
      "146/146 [==============================] - 0s 2ms/step - loss: 0.0145\n",
      "Epoch 25/100\n",
      "146/146 [==============================] - 0s 2ms/step - loss: 0.0143\n",
      "Epoch 26/100\n",
      "146/146 [==============================] - 0s 2ms/step - loss: 0.0141\n",
      "Epoch 27/100\n",
      "146/146 [==============================] - 0s 2ms/step - loss: 0.0140\n",
      "Epoch 28/100\n",
      "146/146 [==============================] - 0s 2ms/step - loss: 0.0138\n",
      "Epoch 29/100\n",
      "146/146 [==============================] - 0s 2ms/step - loss: 0.0137\n",
      "Epoch 30/100\n",
      "146/146 [==============================] - 0s 2ms/step - loss: 0.0135\n",
      "Epoch 31/100\n",
      "146/146 [==============================] - 0s 2ms/step - loss: 0.0134\n",
      "Epoch 32/100\n",
      "146/146 [==============================] - 0s 2ms/step - loss: 0.0133\n",
      "Epoch 33/100\n",
      "146/146 [==============================] - 0s 2ms/step - loss: 0.0131\n",
      "Epoch 34/100\n",
      "146/146 [==============================] - 0s 2ms/step - loss: 0.0130\n",
      "Epoch 35/100\n",
      "146/146 [==============================] - 0s 2ms/step - loss: 0.0129\n",
      "Epoch 36/100\n",
      "146/146 [==============================] - 0s 2ms/step - loss: 0.0127\n",
      "Epoch 37/100\n",
      "146/146 [==============================] - 0s 2ms/step - loss: 0.0126\n",
      "Epoch 38/100\n",
      "146/146 [==============================] - 0s 2ms/step - loss: 0.0125\n",
      "Epoch 39/100\n",
      "146/146 [==============================] - 0s 2ms/step - loss: 0.0124\n",
      "Epoch 40/100\n",
      "146/146 [==============================] - 0s 2ms/step - loss: 0.0123\n",
      "Epoch 41/100\n",
      "146/146 [==============================] - 0s 2ms/step - loss: 0.0121\n",
      "Epoch 42/100\n",
      "146/146 [==============================] - 0s 2ms/step - loss: 0.0120\n",
      "Epoch 43/100\n",
      "146/146 [==============================] - 0s 2ms/step - loss: 0.0119\n",
      "Epoch 44/100\n",
      "146/146 [==============================] - 0s 2ms/step - loss: 0.0118\n",
      "Epoch 45/100\n",
      "146/146 [==============================] - 0s 2ms/step - loss: 0.0117\n",
      "Epoch 46/100\n",
      "146/146 [==============================] - 0s 2ms/step - loss: 0.0116\n",
      "Epoch 47/100\n",
      "146/146 [==============================] - 0s 2ms/step - loss: 0.0115\n",
      "Epoch 48/100\n",
      "146/146 [==============================] - 0s 2ms/step - loss: 0.0114\n",
      "Epoch 49/100\n",
      "146/146 [==============================] - 0s 2ms/step - loss: 0.0113\n",
      "Epoch 50/100\n",
      "146/146 [==============================] - 0s 2ms/step - loss: 0.0112\n",
      "Epoch 51/100\n",
      "146/146 [==============================] - 0s 2ms/step - loss: 0.0111\n",
      "Epoch 52/100\n",
      "146/146 [==============================] - 0s 2ms/step - loss: 0.0110\n",
      "Epoch 53/100\n",
      "146/146 [==============================] - 0s 2ms/step - loss: 0.0109\n",
      "Epoch 54/100\n",
      "146/146 [==============================] - 0s 2ms/step - loss: 0.0108\n",
      "Epoch 55/100\n",
      "146/146 [==============================] - 0s 2ms/step - loss: 0.0107\n",
      "Epoch 56/100\n",
      "146/146 [==============================] - 0s 2ms/step - loss: 0.0106\n",
      "Epoch 57/100\n",
      "146/146 [==============================] - 0s 2ms/step - loss: 0.0105\n",
      "Epoch 58/100\n",
      "146/146 [==============================] - 0s 2ms/step - loss: 0.0104\n",
      "Epoch 59/100\n",
      "146/146 [==============================] - 0s 2ms/step - loss: 0.0104\n",
      "Epoch 60/100\n",
      "146/146 [==============================] - 0s 2ms/step - loss: 0.0103\n",
      "Epoch 61/100\n",
      "146/146 [==============================] - 0s 2ms/step - loss: 0.0102\n",
      "Epoch 62/100\n",
      "146/146 [==============================] - 0s 2ms/step - loss: 0.0101\n",
      "Epoch 63/100\n",
      "146/146 [==============================] - 0s 2ms/step - loss: 0.0100\n",
      "Epoch 64/100\n",
      "146/146 [==============================] - 0s 2ms/step - loss: 0.0099\n",
      "Epoch 65/100\n",
      "146/146 [==============================] - 0s 2ms/step - loss: 0.0099\n",
      "Epoch 66/100\n",
      "146/146 [==============================] - 0s 2ms/step - loss: 0.0098\n",
      "Epoch 67/100\n",
      "146/146 [==============================] - 0s 2ms/step - loss: 0.0097\n",
      "Epoch 68/100\n",
      "146/146 [==============================] - 0s 2ms/step - loss: 0.0096\n",
      "Epoch 69/100\n",
      "146/146 [==============================] - 0s 2ms/step - loss: 0.0095\n",
      "Epoch 70/100\n",
      "146/146 [==============================] - 0s 2ms/step - loss: 0.0095\n",
      "Epoch 71/100\n",
      "146/146 [==============================] - 0s 2ms/step - loss: 0.0094\n",
      "Epoch 72/100\n",
      "146/146 [==============================] - 0s 2ms/step - loss: 0.0093\n",
      "Epoch 73/100\n",
      "146/146 [==============================] - 0s 2ms/step - loss: 0.0092\n",
      "Epoch 74/100\n",
      "146/146 [==============================] - 0s 3ms/step - loss: 0.0092\n",
      "Epoch 75/100\n",
      "146/146 [==============================] - 0s 2ms/step - loss: 0.0091\n",
      "Epoch 76/100\n",
      "146/146 [==============================] - 0s 2ms/step - loss: 0.0090\n",
      "Epoch 77/100\n",
      "146/146 [==============================] - 0s 3ms/step - loss: 0.0089\n",
      "Epoch 78/100\n",
      "146/146 [==============================] - 0s 2ms/step - loss: 0.0089\n",
      "Epoch 79/100\n",
      "146/146 [==============================] - 0s 2ms/step - loss: 0.0088\n",
      "Epoch 80/100\n",
      "146/146 [==============================] - 0s 2ms/step - loss: 0.0087\n",
      "Epoch 81/100\n",
      "146/146 [==============================] - 0s 2ms/step - loss: 0.0086\n",
      "Epoch 82/100\n",
      "146/146 [==============================] - 0s 2ms/step - loss: 0.0086\n",
      "Epoch 83/100\n",
      "146/146 [==============================] - 0s 2ms/step - loss: 0.0085\n",
      "Epoch 84/100\n",
      "146/146 [==============================] - 0s 2ms/step - loss: 0.0084\n",
      "Epoch 85/100\n",
      "146/146 [==============================] - 0s 2ms/step - loss: 0.0084\n",
      "Epoch 86/100\n",
      "146/146 [==============================] - 0s 2ms/step - loss: 0.0083\n",
      "Epoch 87/100\n",
      "146/146 [==============================] - 0s 2ms/step - loss: 0.0082\n",
      "Epoch 88/100\n",
      "146/146 [==============================] - 0s 2ms/step - loss: 0.0082\n",
      "Epoch 89/100\n",
      "146/146 [==============================] - 0s 2ms/step - loss: 0.0081\n",
      "Epoch 90/100\n",
      "146/146 [==============================] - 0s 2ms/step - loss: 0.0080\n",
      "Epoch 91/100\n",
      "146/146 [==============================] - 0s 2ms/step - loss: 0.0080\n",
      "Epoch 92/100\n",
      "146/146 [==============================] - 0s 2ms/step - loss: 0.0079\n",
      "Epoch 93/100\n",
      "146/146 [==============================] - 0s 2ms/step - loss: 0.0079\n",
      "Epoch 94/100\n",
      "146/146 [==============================] - 0s 2ms/step - loss: 0.0078\n",
      "Epoch 95/100\n",
      "146/146 [==============================] - 0s 2ms/step - loss: 0.0077\n",
      "Epoch 96/100\n",
      "146/146 [==============================] - 0s 2ms/step - loss: 0.0077\n",
      "Epoch 97/100\n",
      "146/146 [==============================] - 0s 2ms/step - loss: 0.0076\n",
      "Epoch 98/100\n",
      "146/146 [==============================] - 0s 2ms/step - loss: 0.0076\n",
      "Epoch 99/100\n",
      "146/146 [==============================] - 0s 2ms/step - loss: 0.0075\n",
      "Epoch 100/100\n",
      "146/146 [==============================] - 0s 2ms/step - loss: 0.0074\n",
      "1/1 [==============================] - 0s 440ms/step\n",
      "Epoch 1/100\n",
      "147/147 [==============================] - 2s 2ms/step - loss: 0.0716\n",
      "Epoch 2/100\n",
      "147/147 [==============================] - 0s 2ms/step - loss: 0.0633\n",
      "Epoch 3/100\n",
      "147/147 [==============================] - 0s 2ms/step - loss: 0.0574\n",
      "Epoch 4/100\n",
      "147/147 [==============================] - 0s 3ms/step - loss: 0.0513\n",
      "Epoch 5/100\n",
      "147/147 [==============================] - 0s 2ms/step - loss: 0.0454\n",
      "Epoch 6/100\n",
      "147/147 [==============================] - 0s 2ms/step - loss: 0.0399\n",
      "Epoch 7/100\n",
      "147/147 [==============================] - 0s 2ms/step - loss: 0.0353\n",
      "Epoch 8/100\n",
      "147/147 [==============================] - 0s 2ms/step - loss: 0.0315\n",
      "Epoch 9/100\n",
      "147/147 [==============================] - 0s 2ms/step - loss: 0.0285\n",
      "Epoch 10/100\n",
      "147/147 [==============================] - 0s 2ms/step - loss: 0.0259\n",
      "Epoch 11/100\n",
      "147/147 [==============================] - 0s 2ms/step - loss: 0.0238\n",
      "Epoch 12/100\n",
      "147/147 [==============================] - 0s 2ms/step - loss: 0.0220\n",
      "Epoch 13/100\n",
      "147/147 [==============================] - 0s 2ms/step - loss: 0.0205\n",
      "Epoch 14/100\n",
      "147/147 [==============================] - 0s 2ms/step - loss: 0.0193\n",
      "Epoch 15/100\n",
      "147/147 [==============================] - 0s 2ms/step - loss: 0.0183\n",
      "Epoch 16/100\n",
      "147/147 [==============================] - 0s 2ms/step - loss: 0.0175\n",
      "Epoch 17/100\n",
      "147/147 [==============================] - 0s 2ms/step - loss: 0.0169\n",
      "Epoch 18/100\n",
      "147/147 [==============================] - 0s 2ms/step - loss: 0.0164\n",
      "Epoch 19/100\n",
      "147/147 [==============================] - 0s 2ms/step - loss: 0.0160\n",
      "Epoch 20/100\n",
      "147/147 [==============================] - 0s 2ms/step - loss: 0.0156\n",
      "Epoch 21/100\n",
      "147/147 [==============================] - 0s 2ms/step - loss: 0.0153\n",
      "Epoch 22/100\n",
      "147/147 [==============================] - 0s 2ms/step - loss: 0.0150\n",
      "Epoch 23/100\n",
      "147/147 [==============================] - 0s 2ms/step - loss: 0.0148\n",
      "Epoch 24/100\n",
      "147/147 [==============================] - 0s 2ms/step - loss: 0.0145\n",
      "Epoch 25/100\n",
      "147/147 [==============================] - 0s 2ms/step - loss: 0.0143\n",
      "Epoch 26/100\n",
      "147/147 [==============================] - 0s 2ms/step - loss: 0.0141\n",
      "Epoch 27/100\n",
      "147/147 [==============================] - 0s 2ms/step - loss: 0.0139\n",
      "Epoch 28/100\n",
      "147/147 [==============================] - 0s 2ms/step - loss: 0.0137\n",
      "Epoch 29/100\n",
      "147/147 [==============================] - 0s 2ms/step - loss: 0.0136\n",
      "Epoch 30/100\n",
      "147/147 [==============================] - 0s 2ms/step - loss: 0.0134\n",
      "Epoch 31/100\n",
      "147/147 [==============================] - 0s 2ms/step - loss: 0.0132\n",
      "Epoch 32/100\n",
      "147/147 [==============================] - 0s 2ms/step - loss: 0.0130\n",
      "Epoch 33/100\n",
      "147/147 [==============================] - 0s 2ms/step - loss: 0.0129\n",
      "Epoch 34/100\n",
      "147/147 [==============================] - 0s 2ms/step - loss: 0.0127\n",
      "Epoch 35/100\n",
      "147/147 [==============================] - 0s 2ms/step - loss: 0.0126\n",
      "Epoch 36/100\n",
      "147/147 [==============================] - 0s 1ms/step - loss: 0.0124\n",
      "Epoch 37/100\n",
      "147/147 [==============================] - 0s 2ms/step - loss: 0.0123\n",
      "Epoch 38/100\n",
      "147/147 [==============================] - 0s 2ms/step - loss: 0.0121\n",
      "Epoch 39/100\n",
      "147/147 [==============================] - 0s 2ms/step - loss: 0.0120\n",
      "Epoch 40/100\n",
      "147/147 [==============================] - 0s 2ms/step - loss: 0.0119\n",
      "Epoch 41/100\n",
      "147/147 [==============================] - 0s 2ms/step - loss: 0.0117\n",
      "Epoch 42/100\n",
      "147/147 [==============================] - 0s 2ms/step - loss: 0.0116\n",
      "Epoch 43/100\n",
      "147/147 [==============================] - 0s 2ms/step - loss: 0.0115\n",
      "Epoch 44/100\n",
      "147/147 [==============================] - 0s 2ms/step - loss: 0.0113\n",
      "Epoch 45/100\n",
      "147/147 [==============================] - 0s 2ms/step - loss: 0.0112\n",
      "Epoch 46/100\n",
      "147/147 [==============================] - 0s 2ms/step - loss: 0.0111\n",
      "Epoch 47/100\n",
      "147/147 [==============================] - 0s 2ms/step - loss: 0.0110\n",
      "Epoch 48/100\n",
      "147/147 [==============================] - 0s 2ms/step - loss: 0.0109\n",
      "Epoch 49/100\n",
      "147/147 [==============================] - 0s 2ms/step - loss: 0.0108\n",
      "Epoch 50/100\n",
      "147/147 [==============================] - 0s 2ms/step - loss: 0.0107\n",
      "Epoch 51/100\n",
      "147/147 [==============================] - 0s 2ms/step - loss: 0.0105\n",
      "Epoch 52/100\n",
      "147/147 [==============================] - 0s 2ms/step - loss: 0.0104\n",
      "Epoch 53/100\n",
      "147/147 [==============================] - 0s 2ms/step - loss: 0.0103\n",
      "Epoch 54/100\n",
      "147/147 [==============================] - 0s 2ms/step - loss: 0.0102\n",
      "Epoch 55/100\n",
      "147/147 [==============================] - 0s 2ms/step - loss: 0.0102\n",
      "Epoch 56/100\n",
      "147/147 [==============================] - 0s 2ms/step - loss: 0.0101\n",
      "Epoch 57/100\n",
      "147/147 [==============================] - 0s 2ms/step - loss: 0.0100\n",
      "Epoch 58/100\n",
      "147/147 [==============================] - 0s 2ms/step - loss: 0.0099\n",
      "Epoch 59/100\n",
      "147/147 [==============================] - 0s 1ms/step - loss: 0.0098\n",
      "Epoch 60/100\n",
      "147/147 [==============================] - 0s 2ms/step - loss: 0.0097\n",
      "Epoch 61/100\n",
      "147/147 [==============================] - 0s 2ms/step - loss: 0.0096\n",
      "Epoch 62/100\n",
      "147/147 [==============================] - 0s 1ms/step - loss: 0.0096\n",
      "Epoch 63/100\n",
      "147/147 [==============================] - 0s 1ms/step - loss: 0.0095\n",
      "Epoch 64/100\n",
      "147/147 [==============================] - 0s 2ms/step - loss: 0.0094\n",
      "Epoch 65/100\n",
      "147/147 [==============================] - 0s 2ms/step - loss: 0.0093\n",
      "Epoch 66/100\n",
      "147/147 [==============================] - 0s 2ms/step - loss: 0.0093\n",
      "Epoch 67/100\n",
      "147/147 [==============================] - 0s 2ms/step - loss: 0.0092\n",
      "Epoch 68/100\n",
      "147/147 [==============================] - 0s 2ms/step - loss: 0.0091\n",
      "Epoch 69/100\n",
      "147/147 [==============================] - 0s 3ms/step - loss: 0.0091\n",
      "Epoch 70/100\n",
      "147/147 [==============================] - 0s 2ms/step - loss: 0.0090\n",
      "Epoch 71/100\n",
      "147/147 [==============================] - 0s 2ms/step - loss: 0.0089\n",
      "Epoch 72/100\n",
      "147/147 [==============================] - 0s 2ms/step - loss: 0.0089\n",
      "Epoch 73/100\n",
      "147/147 [==============================] - 0s 2ms/step - loss: 0.0088\n",
      "Epoch 74/100\n",
      "147/147 [==============================] - 0s 1ms/step - loss: 0.0088\n",
      "Epoch 75/100\n",
      "147/147 [==============================] - 0s 3ms/step - loss: 0.0087\n",
      "Epoch 76/100\n",
      "147/147 [==============================] - 0s 2ms/step - loss: 0.0086\n",
      "Epoch 77/100\n",
      "147/147 [==============================] - 0s 2ms/step - loss: 0.0086\n",
      "Epoch 78/100\n",
      "147/147 [==============================] - 0s 2ms/step - loss: 0.0085\n",
      "Epoch 79/100\n",
      "147/147 [==============================] - 0s 2ms/step - loss: 0.0085\n",
      "Epoch 80/100\n",
      "147/147 [==============================] - 0s 2ms/step - loss: 0.0084\n",
      "Epoch 81/100\n",
      "147/147 [==============================] - 0s 2ms/step - loss: 0.0084\n",
      "Epoch 82/100\n",
      "147/147 [==============================] - 0s 2ms/step - loss: 0.0083\n",
      "Epoch 83/100\n",
      "147/147 [==============================] - 0s 2ms/step - loss: 0.0083\n",
      "Epoch 84/100\n",
      "147/147 [==============================] - 0s 2ms/step - loss: 0.0082\n",
      "Epoch 85/100\n",
      "147/147 [==============================] - 0s 2ms/step - loss: 0.0082\n",
      "Epoch 86/100\n",
      "147/147 [==============================] - 0s 2ms/step - loss: 0.0081\n",
      "Epoch 87/100\n",
      "147/147 [==============================] - 0s 2ms/step - loss: 0.0081\n",
      "Epoch 88/100\n",
      "147/147 [==============================] - 0s 2ms/step - loss: 0.0080\n",
      "Epoch 89/100\n",
      "147/147 [==============================] - 0s 2ms/step - loss: 0.0080\n",
      "Epoch 90/100\n",
      "147/147 [==============================] - 0s 2ms/step - loss: 0.0079\n",
      "Epoch 91/100\n",
      "147/147 [==============================] - 0s 2ms/step - loss: 0.0079\n",
      "Epoch 92/100\n",
      "147/147 [==============================] - 0s 2ms/step - loss: 0.0078\n",
      "Epoch 93/100\n",
      "147/147 [==============================] - 0s 2ms/step - loss: 0.0078\n",
      "Epoch 94/100\n",
      "147/147 [==============================] - 0s 2ms/step - loss: 0.0077\n",
      "Epoch 95/100\n",
      "147/147 [==============================] - 0s 2ms/step - loss: 0.0077\n",
      "Epoch 96/100\n",
      "147/147 [==============================] - 0s 2ms/step - loss: 0.0076\n",
      "Epoch 97/100\n",
      "147/147 [==============================] - 0s 2ms/step - loss: 0.0076\n",
      "Epoch 98/100\n",
      "147/147 [==============================] - 0s 2ms/step - loss: 0.0075\n",
      "Epoch 99/100\n",
      "147/147 [==============================] - 0s 2ms/step - loss: 0.0075\n",
      "Epoch 100/100\n",
      "147/147 [==============================] - 0s 2ms/step - loss: 0.0074\n",
      "1/1 [==============================] - 0s 496ms/step\n",
      "Epoch 1/100\n",
      "148/148 [==============================] - 2s 2ms/step - loss: 0.0626\n",
      "Epoch 2/100\n",
      "148/148 [==============================] - 0s 2ms/step - loss: 0.0522\n",
      "Epoch 3/100\n",
      "148/148 [==============================] - 0s 2ms/step - loss: 0.0466\n",
      "Epoch 4/100\n",
      "148/148 [==============================] - 0s 2ms/step - loss: 0.0414\n",
      "Epoch 5/100\n",
      "148/148 [==============================] - 0s 2ms/step - loss: 0.0368\n",
      "Epoch 6/100\n",
      "148/148 [==============================] - 0s 2ms/step - loss: 0.0329\n",
      "Epoch 7/100\n",
      "148/148 [==============================] - 0s 2ms/step - loss: 0.0298\n",
      "Epoch 8/100\n",
      "148/148 [==============================] - 0s 2ms/step - loss: 0.0272\n",
      "Epoch 9/100\n",
      "148/148 [==============================] - 0s 2ms/step - loss: 0.0251\n",
      "Epoch 10/100\n",
      "148/148 [==============================] - 0s 2ms/step - loss: 0.0233\n",
      "Epoch 11/100\n",
      "148/148 [==============================] - 0s 1ms/step - loss: 0.0217\n",
      "Epoch 12/100\n",
      "148/148 [==============================] - 0s 2ms/step - loss: 0.0204\n",
      "Epoch 13/100\n",
      "148/148 [==============================] - 0s 2ms/step - loss: 0.0194\n",
      "Epoch 14/100\n",
      "148/148 [==============================] - 0s 2ms/step - loss: 0.0185\n",
      "Epoch 15/100\n",
      "148/148 [==============================] - 0s 2ms/step - loss: 0.0178\n",
      "Epoch 16/100\n",
      "148/148 [==============================] - 0s 2ms/step - loss: 0.0172\n",
      "Epoch 17/100\n",
      "148/148 [==============================] - 0s 2ms/step - loss: 0.0167\n",
      "Epoch 18/100\n",
      "148/148 [==============================] - 0s 2ms/step - loss: 0.0163\n",
      "Epoch 19/100\n",
      "148/148 [==============================] - 0s 2ms/step - loss: 0.0160\n",
      "Epoch 20/100\n",
      "148/148 [==============================] - 0s 2ms/step - loss: 0.0157\n",
      "Epoch 21/100\n",
      "148/148 [==============================] - 0s 2ms/step - loss: 0.0154\n",
      "Epoch 22/100\n",
      "148/148 [==============================] - 0s 2ms/step - loss: 0.0151\n",
      "Epoch 23/100\n",
      "148/148 [==============================] - 0s 2ms/step - loss: 0.0149\n",
      "Epoch 24/100\n",
      "148/148 [==============================] - 0s 2ms/step - loss: 0.0147\n",
      "Epoch 25/100\n",
      "148/148 [==============================] - 0s 2ms/step - loss: 0.0145\n",
      "Epoch 26/100\n",
      "148/148 [==============================] - 0s 2ms/step - loss: 0.0143\n",
      "Epoch 27/100\n",
      "148/148 [==============================] - 0s 2ms/step - loss: 0.0141\n",
      "Epoch 28/100\n",
      "148/148 [==============================] - 0s 2ms/step - loss: 0.0139\n",
      "Epoch 29/100\n",
      "148/148 [==============================] - 0s 2ms/step - loss: 0.0137\n",
      "Epoch 30/100\n",
      "148/148 [==============================] - 0s 2ms/step - loss: 0.0135\n",
      "Epoch 31/100\n",
      "148/148 [==============================] - 0s 2ms/step - loss: 0.0134\n",
      "Epoch 32/100\n",
      "148/148 [==============================] - 0s 2ms/step - loss: 0.0132\n",
      "Epoch 33/100\n",
      "148/148 [==============================] - 0s 2ms/step - loss: 0.0131\n",
      "Epoch 34/100\n",
      "148/148 [==============================] - 0s 2ms/step - loss: 0.0129\n",
      "Epoch 35/100\n",
      "148/148 [==============================] - 0s 2ms/step - loss: 0.0128\n",
      "Epoch 36/100\n",
      "148/148 [==============================] - 0s 2ms/step - loss: 0.0126\n",
      "Epoch 37/100\n",
      "148/148 [==============================] - 0s 2ms/step - loss: 0.0125\n",
      "Epoch 38/100\n",
      "148/148 [==============================] - 0s 2ms/step - loss: 0.0123\n",
      "Epoch 39/100\n",
      "148/148 [==============================] - 0s 2ms/step - loss: 0.0122\n",
      "Epoch 40/100\n",
      "148/148 [==============================] - 0s 2ms/step - loss: 0.0121\n",
      "Epoch 41/100\n",
      "148/148 [==============================] - 0s 1ms/step - loss: 0.0119\n",
      "Epoch 42/100\n",
      "148/148 [==============================] - 0s 2ms/step - loss: 0.0118\n",
      "Epoch 43/100\n",
      "148/148 [==============================] - 0s 2ms/step - loss: 0.0117\n",
      "Epoch 44/100\n",
      "148/148 [==============================] - 0s 2ms/step - loss: 0.0116\n",
      "Epoch 45/100\n",
      "148/148 [==============================] - 0s 2ms/step - loss: 0.0115\n",
      "Epoch 46/100\n",
      "148/148 [==============================] - 0s 2ms/step - loss: 0.0114\n",
      "Epoch 47/100\n",
      "148/148 [==============================] - 0s 2ms/step - loss: 0.0113\n",
      "Epoch 48/100\n",
      "148/148 [==============================] - 0s 3ms/step - loss: 0.0112\n",
      "Epoch 49/100\n",
      "148/148 [==============================] - 0s 3ms/step - loss: 0.0111\n",
      "Epoch 50/100\n",
      "148/148 [==============================] - 0s 2ms/step - loss: 0.0110\n",
      "Epoch 51/100\n",
      "148/148 [==============================] - 0s 2ms/step - loss: 0.0110\n",
      "Epoch 52/100\n",
      "148/148 [==============================] - 0s 2ms/step - loss: 0.0109\n",
      "Epoch 53/100\n",
      "148/148 [==============================] - 0s 2ms/step - loss: 0.0108\n",
      "Epoch 54/100\n",
      "148/148 [==============================] - 0s 2ms/step - loss: 0.0107\n",
      "Epoch 55/100\n",
      "148/148 [==============================] - 0s 2ms/step - loss: 0.0107\n",
      "Epoch 56/100\n",
      "148/148 [==============================] - 0s 2ms/step - loss: 0.0106\n",
      "Epoch 57/100\n",
      "148/148 [==============================] - 0s 2ms/step - loss: 0.0105\n",
      "Epoch 58/100\n",
      "148/148 [==============================] - 0s 2ms/step - loss: 0.0105\n",
      "Epoch 59/100\n",
      "148/148 [==============================] - 0s 2ms/step - loss: 0.0104\n",
      "Epoch 60/100\n",
      "148/148 [==============================] - 0s 2ms/step - loss: 0.0103\n",
      "Epoch 61/100\n",
      "148/148 [==============================] - 0s 2ms/step - loss: 0.0103\n",
      "Epoch 62/100\n",
      "148/148 [==============================] - 0s 2ms/step - loss: 0.0102\n",
      "Epoch 63/100\n",
      "148/148 [==============================] - 0s 2ms/step - loss: 0.0102\n",
      "Epoch 64/100\n",
      "148/148 [==============================] - 0s 2ms/step - loss: 0.0101\n",
      "Epoch 65/100\n",
      "148/148 [==============================] - 0s 2ms/step - loss: 0.0101\n",
      "Epoch 66/100\n",
      "148/148 [==============================] - 0s 2ms/step - loss: 0.0100\n",
      "Epoch 67/100\n",
      "148/148 [==============================] - 0s 2ms/step - loss: 0.0100\n",
      "Epoch 68/100\n",
      "148/148 [==============================] - 0s 2ms/step - loss: 0.0100\n",
      "Epoch 69/100\n",
      "148/148 [==============================] - 0s 2ms/step - loss: 0.0099\n",
      "Epoch 70/100\n",
      "148/148 [==============================] - 0s 2ms/step - loss: 0.0099\n",
      "Epoch 71/100\n",
      "148/148 [==============================] - 0s 2ms/step - loss: 0.0098\n",
      "Epoch 72/100\n",
      "148/148 [==============================] - 0s 2ms/step - loss: 0.0098\n",
      "Epoch 73/100\n",
      "148/148 [==============================] - 0s 2ms/step - loss: 0.0098\n",
      "Epoch 74/100\n",
      "148/148 [==============================] - 0s 2ms/step - loss: 0.0097\n",
      "Epoch 75/100\n",
      "148/148 [==============================] - 0s 2ms/step - loss: 0.0097\n",
      "Epoch 76/100\n",
      "148/148 [==============================] - 0s 2ms/step - loss: 0.0097\n",
      "Epoch 77/100\n",
      "148/148 [==============================] - 0s 2ms/step - loss: 0.0096\n",
      "Epoch 78/100\n",
      "148/148 [==============================] - 0s 2ms/step - loss: 0.0096\n",
      "Epoch 79/100\n",
      "148/148 [==============================] - 0s 2ms/step - loss: 0.0096\n",
      "Epoch 80/100\n",
      "148/148 [==============================] - 0s 2ms/step - loss: 0.0095\n",
      "Epoch 81/100\n",
      "148/148 [==============================] - 0s 2ms/step - loss: 0.0095\n",
      "Epoch 82/100\n",
      "148/148 [==============================] - 0s 2ms/step - loss: 0.0095\n",
      "Epoch 83/100\n",
      "148/148 [==============================] - 0s 2ms/step - loss: 0.0095\n",
      "Epoch 84/100\n",
      "148/148 [==============================] - 0s 2ms/step - loss: 0.0094\n",
      "Epoch 85/100\n",
      "148/148 [==============================] - 0s 2ms/step - loss: 0.0094\n",
      "Epoch 86/100\n",
      "148/148 [==============================] - 0s 3ms/step - loss: 0.0094\n",
      "Epoch 87/100\n",
      "148/148 [==============================] - 0s 2ms/step - loss: 0.0094\n",
      "Epoch 88/100\n",
      "148/148 [==============================] - 0s 2ms/step - loss: 0.0093\n",
      "Epoch 89/100\n",
      "148/148 [==============================] - 0s 2ms/step - loss: 0.0093\n",
      "Epoch 90/100\n",
      "148/148 [==============================] - 0s 2ms/step - loss: 0.0093\n",
      "Epoch 91/100\n",
      "148/148 [==============================] - 0s 2ms/step - loss: 0.0093\n",
      "Epoch 92/100\n",
      "148/148 [==============================] - 0s 2ms/step - loss: 0.0092\n",
      "Epoch 93/100\n",
      "148/148 [==============================] - 0s 3ms/step - loss: 0.0092\n",
      "Epoch 94/100\n",
      "148/148 [==============================] - 0s 3ms/step - loss: 0.0092\n",
      "Epoch 95/100\n",
      "148/148 [==============================] - 0s 2ms/step - loss: 0.0092\n",
      "Epoch 96/100\n",
      "148/148 [==============================] - 0s 2ms/step - loss: 0.0091\n",
      "Epoch 97/100\n",
      "148/148 [==============================] - 0s 2ms/step - loss: 0.0091\n",
      "Epoch 98/100\n",
      "148/148 [==============================] - 0s 2ms/step - loss: 0.0091\n",
      "Epoch 99/100\n",
      "148/148 [==============================] - 0s 2ms/step - loss: 0.0091\n",
      "Epoch 100/100\n",
      "148/148 [==============================] - 0s 2ms/step - loss: 0.0091\n",
      "1/1 [==============================] - 1s 781ms/step\n"
     ]
    },
    {
     "data": {
      "application/vnd.plotly.v1+json": {
       "config": {
        "linkText": "Export to plot.ly",
        "plotlyServerURL": "https://plot.ly",
        "showLink": false
       },
       "data": [
        {
         "name": "actual",
         "type": "scatter",
         "x": [
          "2007-02",
          "2007-03",
          "2007-04",
          "2007-05",
          "2007-06",
          "2007-07",
          "2007-08",
          "2007-09",
          "2007-10",
          "2007-11",
          "2007-12",
          "2008-01",
          "2008-02",
          "2008-03",
          "2008-04",
          "2008-05",
          "2008-06",
          "2008-07",
          "2008-08",
          "2008-09",
          "2008-10",
          "2008-11",
          "2008-12",
          "2009-01",
          "2009-02",
          "2009-03",
          "2009-04",
          "2009-05",
          "2009-06",
          "2009-07",
          "2009-08",
          "2009-09",
          "2009-10",
          "2009-11",
          "2009-12",
          "2010-01",
          "2010-02",
          "2010-03",
          "2010-04",
          "2010-05",
          "2010-06",
          "2010-07",
          "2010-08",
          "2010-09",
          "2010-10",
          "2010-11",
          "2010-12",
          "2011-01",
          "2011-02",
          "2011-03",
          "2011-04",
          "2011-05",
          "2011-06",
          "2011-07",
          "2011-08",
          "2011-09",
          "2011-10",
          "2011-11",
          "2011-12",
          "2012-01",
          "2012-02",
          "2012-03",
          "2012-04",
          "2012-05",
          "2012-06",
          "2012-07",
          "2012-08",
          "2012-09",
          "2012-10",
          "2012-11",
          "2012-12",
          "2013-01",
          "2013-02",
          "2013-03",
          "2013-04",
          "2013-05",
          "2013-06",
          "2013-07",
          "2013-08",
          "2013-09",
          "2013-10",
          "2013-11",
          "2013-12",
          "2014-01",
          "2014-02",
          "2014-03",
          "2014-04",
          "2014-05",
          "2014-06",
          "2014-07",
          "2014-08",
          "2014-09",
          "2014-10",
          "2014-11",
          "2014-12",
          "2015-01",
          "2015-02",
          "2015-03",
          "2015-04",
          "2015-05",
          "2015-06",
          "2015-07",
          "2015-08",
          "2015-09",
          "2015-10",
          "2015-11",
          "2015-12",
          "2016-01",
          "2016-02",
          "2016-03",
          "2016-04",
          "2016-05",
          "2016-06",
          "2016-07",
          "2016-08",
          "2016-09",
          "2016-10",
          "2016-11",
          "2016-12",
          "2017-01",
          "2017-02",
          "2017-03",
          "2017-04",
          "2017-05",
          "2017-06",
          "2017-07",
          "2017-08",
          "2017-09",
          "2017-10",
          "2017-11",
          "2017-12",
          "2018-01",
          "2018-02",
          "2018-03",
          "2018-04",
          "2018-05",
          "2018-06",
          "2018-07",
          "2018-08",
          "2018-09",
          "2018-10",
          "2018-11",
          "2018-12",
          "2019-01",
          "2019-02",
          "2019-03",
          "2019-04",
          "2019-05",
          "2019-06",
          "2019-07"
         ],
         "y": [
          815000,
          1018000,
          2394000,
          679000,
          3122000,
          11249500,
          11629000,
          11137500,
          9972000,
          13141500,
          11631950,
          7062000,
          13277000,
          3381000,
          11752500,
          9925500,
          18329150,
          17198500,
          21576500,
          44213300,
          42298450,
          53360550,
          73172800,
          42919239,
          53735950,
          81004714,
          58750149,
          62115127,
          52695850,
          51086152,
          51944850,
          61450453,
          59673295,
          72735340,
          59316120,
          28443200,
          55686700,
          74746297,
          73321900,
          80907150,
          74488035,
          66770364,
          76988074,
          75247200,
          77574840,
          103197970,
          82751550,
          41667530,
          78783500,
          99336758,
          86102260,
          87227078,
          70946080,
          74059275,
          79068903,
          62499300,
          73633000,
          106236725,
          65885366,
          48191100,
          76239750,
          97617950,
          63375518,
          92430245,
          64443800,
          77090361,
          93170502,
          97245003,
          101375288,
          122019277,
          93348750,
          61109504,
          79580888,
          92523645,
          89879038,
          99020165,
          88280730,
          115918437,
          124937996,
          86249300,
          97182850,
          132813880,
          105192700,
          62824945,
          144920008,
          156887818,
          128843790,
          143712090,
          117165238,
          130224320,
          126425290,
          144548355,
          159482225,
          222049100,
          159684540,
          61811671,
          190762600,
          220001468,
          154861849,
          212078600,
          149866211,
          165763592,
          209630759,
          193386355,
          244486201,
          280869590,
          200498802,
          90435300,
          218755101,
          223427360,
          232354529,
          215560590,
          161420776,
          145221806,
          191865722,
          221807599,
          237293049,
          307853866,
          236308500,
          97384723,
          292742851,
          287655601,
          240088855,
          274023276,
          220981353,
          216227483,
          241080356,
          259471171,
          266606366,
          386887311,
          267860238,
          101609655,
          273362689,
          304944325,
          238084455,
          296069526,
          221937650,
          187166050,
          190794276,
          190349097,
          188198737,
          208732711,
          147735452,
          82625200,
          127458810,
          153793350,
          138929019,
          141128050,
          88612700,
          145798014
         ]
        },
        {
         "name": "predicted",
         "type": "scatter",
         "x": [
          "2007-02",
          "2007-03",
          "2007-04",
          "2007-05",
          "2007-06",
          "2007-07",
          "2007-08",
          "2007-09",
          "2007-10",
          "2007-11",
          "2007-12",
          "2008-01",
          "2008-02",
          "2008-03",
          "2008-04",
          "2008-05",
          "2008-06",
          "2008-07",
          "2008-08",
          "2008-09",
          "2008-10",
          "2008-11",
          "2008-12",
          "2009-01",
          "2009-02",
          "2009-03",
          "2009-04",
          "2009-05",
          "2009-06",
          "2009-07",
          "2009-08",
          "2009-09",
          "2009-10",
          "2009-11",
          "2009-12",
          "2010-01",
          "2010-02",
          "2010-03",
          "2010-04",
          "2010-05",
          "2010-06",
          "2010-07",
          "2010-08",
          "2010-09",
          "2010-10",
          "2010-11",
          "2010-12",
          "2011-01",
          "2011-02",
          "2011-03",
          "2011-04",
          "2011-05",
          "2011-06",
          "2011-07",
          "2011-08",
          "2011-09",
          "2011-10",
          "2011-11",
          "2011-12",
          "2012-01",
          "2012-02",
          "2012-03",
          "2012-04",
          "2012-05",
          "2012-06",
          "2012-07",
          "2012-08",
          "2012-09",
          "2012-10",
          "2012-11",
          "2012-12",
          "2013-01",
          "2013-02",
          "2013-03",
          "2013-04",
          "2013-05",
          "2013-06",
          "2013-07",
          "2013-08",
          "2013-09",
          "2013-10",
          "2013-11",
          "2013-12",
          "2014-01",
          "2014-02",
          "2014-03",
          "2014-04",
          "2014-05",
          "2014-06",
          "2014-07",
          "2014-08",
          "2014-09",
          "2014-10",
          "2014-11",
          "2014-12",
          "2015-01",
          "2015-02",
          "2015-03",
          "2015-04",
          "2015-05",
          "2015-06",
          "2015-07",
          "2015-08",
          "2015-09",
          "2015-10",
          "2015-11",
          "2015-12",
          "2016-01",
          "2016-02",
          "2016-03",
          "2016-04",
          "2016-05",
          "2016-06",
          "2016-07",
          "2016-08",
          "2016-09",
          "2016-10",
          "2016-11",
          "2016-12",
          "2017-01",
          "2017-02",
          "2017-03",
          "2017-04",
          "2017-05",
          "2017-06",
          "2017-07",
          "2017-08",
          "2017-09",
          "2017-10",
          "2017-11",
          "2017-12",
          "2018-01",
          "2018-02",
          "2018-03",
          "2018-04",
          "2018-05",
          "2018-06",
          "2018-07",
          "2018-08",
          "2018-09",
          "2018-10",
          "2018-11",
          "2018-12",
          "2019-01",
          "2019-02",
          "2019-03",
          "2019-04",
          "2019-05",
          "2019-06",
          "2019-07",
          "2019-08",
          "2019-09",
          "2019-10",
          "2019-11",
          "2019-12",
          "2020-01",
          "2020-02",
          "2020-03",
          "2020-04",
          "2020-05",
          "2020-06",
          "2020-07"
         ],
         "y": [
          null,
          null,
          null,
          null,
          null,
          null,
          null,
          null,
          null,
          null,
          null,
          null,
          null,
          null,
          null,
          null,
          null,
          null,
          null,
          null,
          null,
          null,
          null,
          null,
          null,
          null,
          null,
          null,
          null,
          null,
          null,
          null,
          null,
          null,
          null,
          null,
          null,
          null,
          null,
          null,
          null,
          null,
          null,
          null,
          null,
          null,
          null,
          null,
          null,
          null,
          null,
          null,
          null,
          null,
          null,
          null,
          null,
          null,
          null,
          null,
          null,
          null,
          null,
          null,
          null,
          null,
          null,
          null,
          null,
          null,
          null,
          null,
          null,
          null,
          null,
          null,
          null,
          null,
          null,
          null,
          null,
          null,
          null,
          null,
          null,
          null,
          null,
          null,
          null,
          null,
          null,
          null,
          null,
          null,
          null,
          null,
          null,
          null,
          null,
          null,
          null,
          null,
          null,
          null,
          null,
          null,
          null,
          null,
          null,
          null,
          null,
          null,
          null,
          null,
          null,
          null,
          null,
          null,
          null,
          null,
          null,
          null,
          null,
          null,
          null,
          null,
          null,
          null,
          null,
          null,
          null,
          null,
          null,
          null,
          null,
          null,
          null,
          null,
          null,
          null,
          null,
          null,
          null,
          null,
          null,
          null,
          null,
          null,
          null,
          145798014,
          137428698,
          124238891,
          136372662,
          187602449,
          159171972,
          99940563,
          176108146,
          183100737,
          176501092,
          175318060,
          134571069,
          177732430
         ]
        }
       ],
       "layout": {
        "template": {
         "data": {
          "bar": [
           {
            "error_x": {
             "color": "#2a3f5f"
            },
            "error_y": {
             "color": "#2a3f5f"
            },
            "marker": {
             "line": {
              "color": "#E5ECF6",
              "width": 0.5
             },
             "pattern": {
              "fillmode": "overlay",
              "size": 10,
              "solidity": 0.2
             }
            },
            "type": "bar"
           }
          ],
          "barpolar": [
           {
            "marker": {
             "line": {
              "color": "#E5ECF6",
              "width": 0.5
             },
             "pattern": {
              "fillmode": "overlay",
              "size": 10,
              "solidity": 0.2
             }
            },
            "type": "barpolar"
           }
          ],
          "carpet": [
           {
            "aaxis": {
             "endlinecolor": "#2a3f5f",
             "gridcolor": "white",
             "linecolor": "white",
             "minorgridcolor": "white",
             "startlinecolor": "#2a3f5f"
            },
            "baxis": {
             "endlinecolor": "#2a3f5f",
             "gridcolor": "white",
             "linecolor": "white",
             "minorgridcolor": "white",
             "startlinecolor": "#2a3f5f"
            },
            "type": "carpet"
           }
          ],
          "choropleth": [
           {
            "colorbar": {
             "outlinewidth": 0,
             "ticks": ""
            },
            "type": "choropleth"
           }
          ],
          "contour": [
           {
            "colorbar": {
             "outlinewidth": 0,
             "ticks": ""
            },
            "colorscale": [
             [
              0,
              "#0d0887"
             ],
             [
              0.1111111111111111,
              "#46039f"
             ],
             [
              0.2222222222222222,
              "#7201a8"
             ],
             [
              0.3333333333333333,
              "#9c179e"
             ],
             [
              0.4444444444444444,
              "#bd3786"
             ],
             [
              0.5555555555555556,
              "#d8576b"
             ],
             [
              0.6666666666666666,
              "#ed7953"
             ],
             [
              0.7777777777777778,
              "#fb9f3a"
             ],
             [
              0.8888888888888888,
              "#fdca26"
             ],
             [
              1,
              "#f0f921"
             ]
            ],
            "type": "contour"
           }
          ],
          "contourcarpet": [
           {
            "colorbar": {
             "outlinewidth": 0,
             "ticks": ""
            },
            "type": "contourcarpet"
           }
          ],
          "heatmap": [
           {
            "colorbar": {
             "outlinewidth": 0,
             "ticks": ""
            },
            "colorscale": [
             [
              0,
              "#0d0887"
             ],
             [
              0.1111111111111111,
              "#46039f"
             ],
             [
              0.2222222222222222,
              "#7201a8"
             ],
             [
              0.3333333333333333,
              "#9c179e"
             ],
             [
              0.4444444444444444,
              "#bd3786"
             ],
             [
              0.5555555555555556,
              "#d8576b"
             ],
             [
              0.6666666666666666,
              "#ed7953"
             ],
             [
              0.7777777777777778,
              "#fb9f3a"
             ],
             [
              0.8888888888888888,
              "#fdca26"
             ],
             [
              1,
              "#f0f921"
             ]
            ],
            "type": "heatmap"
           }
          ],
          "heatmapgl": [
           {
            "colorbar": {
             "outlinewidth": 0,
             "ticks": ""
            },
            "colorscale": [
             [
              0,
              "#0d0887"
             ],
             [
              0.1111111111111111,
              "#46039f"
             ],
             [
              0.2222222222222222,
              "#7201a8"
             ],
             [
              0.3333333333333333,
              "#9c179e"
             ],
             [
              0.4444444444444444,
              "#bd3786"
             ],
             [
              0.5555555555555556,
              "#d8576b"
             ],
             [
              0.6666666666666666,
              "#ed7953"
             ],
             [
              0.7777777777777778,
              "#fb9f3a"
             ],
             [
              0.8888888888888888,
              "#fdca26"
             ],
             [
              1,
              "#f0f921"
             ]
            ],
            "type": "heatmapgl"
           }
          ],
          "histogram": [
           {
            "marker": {
             "pattern": {
              "fillmode": "overlay",
              "size": 10,
              "solidity": 0.2
             }
            },
            "type": "histogram"
           }
          ],
          "histogram2d": [
           {
            "colorbar": {
             "outlinewidth": 0,
             "ticks": ""
            },
            "colorscale": [
             [
              0,
              "#0d0887"
             ],
             [
              0.1111111111111111,
              "#46039f"
             ],
             [
              0.2222222222222222,
              "#7201a8"
             ],
             [
              0.3333333333333333,
              "#9c179e"
             ],
             [
              0.4444444444444444,
              "#bd3786"
             ],
             [
              0.5555555555555556,
              "#d8576b"
             ],
             [
              0.6666666666666666,
              "#ed7953"
             ],
             [
              0.7777777777777778,
              "#fb9f3a"
             ],
             [
              0.8888888888888888,
              "#fdca26"
             ],
             [
              1,
              "#f0f921"
             ]
            ],
            "type": "histogram2d"
           }
          ],
          "histogram2dcontour": [
           {
            "colorbar": {
             "outlinewidth": 0,
             "ticks": ""
            },
            "colorscale": [
             [
              0,
              "#0d0887"
             ],
             [
              0.1111111111111111,
              "#46039f"
             ],
             [
              0.2222222222222222,
              "#7201a8"
             ],
             [
              0.3333333333333333,
              "#9c179e"
             ],
             [
              0.4444444444444444,
              "#bd3786"
             ],
             [
              0.5555555555555556,
              "#d8576b"
             ],
             [
              0.6666666666666666,
              "#ed7953"
             ],
             [
              0.7777777777777778,
              "#fb9f3a"
             ],
             [
              0.8888888888888888,
              "#fdca26"
             ],
             [
              1,
              "#f0f921"
             ]
            ],
            "type": "histogram2dcontour"
           }
          ],
          "mesh3d": [
           {
            "colorbar": {
             "outlinewidth": 0,
             "ticks": ""
            },
            "type": "mesh3d"
           }
          ],
          "parcoords": [
           {
            "line": {
             "colorbar": {
              "outlinewidth": 0,
              "ticks": ""
             }
            },
            "type": "parcoords"
           }
          ],
          "pie": [
           {
            "automargin": true,
            "type": "pie"
           }
          ],
          "scatter": [
           {
            "marker": {
             "colorbar": {
              "outlinewidth": 0,
              "ticks": ""
             }
            },
            "type": "scatter"
           }
          ],
          "scatter3d": [
           {
            "line": {
             "colorbar": {
              "outlinewidth": 0,
              "ticks": ""
             }
            },
            "marker": {
             "colorbar": {
              "outlinewidth": 0,
              "ticks": ""
             }
            },
            "type": "scatter3d"
           }
          ],
          "scattercarpet": [
           {
            "marker": {
             "colorbar": {
              "outlinewidth": 0,
              "ticks": ""
             }
            },
            "type": "scattercarpet"
           }
          ],
          "scattergeo": [
           {
            "marker": {
             "colorbar": {
              "outlinewidth": 0,
              "ticks": ""
             }
            },
            "type": "scattergeo"
           }
          ],
          "scattergl": [
           {
            "marker": {
             "colorbar": {
              "outlinewidth": 0,
              "ticks": ""
             }
            },
            "type": "scattergl"
           }
          ],
          "scattermapbox": [
           {
            "marker": {
             "colorbar": {
              "outlinewidth": 0,
              "ticks": ""
             }
            },
            "type": "scattermapbox"
           }
          ],
          "scatterpolar": [
           {
            "marker": {
             "colorbar": {
              "outlinewidth": 0,
              "ticks": ""
             }
            },
            "type": "scatterpolar"
           }
          ],
          "scatterpolargl": [
           {
            "marker": {
             "colorbar": {
              "outlinewidth": 0,
              "ticks": ""
             }
            },
            "type": "scatterpolargl"
           }
          ],
          "scatterternary": [
           {
            "marker": {
             "colorbar": {
              "outlinewidth": 0,
              "ticks": ""
             }
            },
            "type": "scatterternary"
           }
          ],
          "surface": [
           {
            "colorbar": {
             "outlinewidth": 0,
             "ticks": ""
            },
            "colorscale": [
             [
              0,
              "#0d0887"
             ],
             [
              0.1111111111111111,
              "#46039f"
             ],
             [
              0.2222222222222222,
              "#7201a8"
             ],
             [
              0.3333333333333333,
              "#9c179e"
             ],
             [
              0.4444444444444444,
              "#bd3786"
             ],
             [
              0.5555555555555556,
              "#d8576b"
             ],
             [
              0.6666666666666666,
              "#ed7953"
             ],
             [
              0.7777777777777778,
              "#fb9f3a"
             ],
             [
              0.8888888888888888,
              "#fdca26"
             ],
             [
              1,
              "#f0f921"
             ]
            ],
            "type": "surface"
           }
          ],
          "table": [
           {
            "cells": {
             "fill": {
              "color": "#EBF0F8"
             },
             "line": {
              "color": "white"
             }
            },
            "header": {
             "fill": {
              "color": "#C8D4E3"
             },
             "line": {
              "color": "white"
             }
            },
            "type": "table"
           }
          ]
         },
         "layout": {
          "annotationdefaults": {
           "arrowcolor": "#2a3f5f",
           "arrowhead": 0,
           "arrowwidth": 1
          },
          "autotypenumbers": "strict",
          "coloraxis": {
           "colorbar": {
            "outlinewidth": 0,
            "ticks": ""
           }
          },
          "colorscale": {
           "diverging": [
            [
             0,
             "#8e0152"
            ],
            [
             0.1,
             "#c51b7d"
            ],
            [
             0.2,
             "#de77ae"
            ],
            [
             0.3,
             "#f1b6da"
            ],
            [
             0.4,
             "#fde0ef"
            ],
            [
             0.5,
             "#f7f7f7"
            ],
            [
             0.6,
             "#e6f5d0"
            ],
            [
             0.7,
             "#b8e186"
            ],
            [
             0.8,
             "#7fbc41"
            ],
            [
             0.9,
             "#4d9221"
            ],
            [
             1,
             "#276419"
            ]
           ],
           "sequential": [
            [
             0,
             "#0d0887"
            ],
            [
             0.1111111111111111,
             "#46039f"
            ],
            [
             0.2222222222222222,
             "#7201a8"
            ],
            [
             0.3333333333333333,
             "#9c179e"
            ],
            [
             0.4444444444444444,
             "#bd3786"
            ],
            [
             0.5555555555555556,
             "#d8576b"
            ],
            [
             0.6666666666666666,
             "#ed7953"
            ],
            [
             0.7777777777777778,
             "#fb9f3a"
            ],
            [
             0.8888888888888888,
             "#fdca26"
            ],
            [
             1,
             "#f0f921"
            ]
           ],
           "sequentialminus": [
            [
             0,
             "#0d0887"
            ],
            [
             0.1111111111111111,
             "#46039f"
            ],
            [
             0.2222222222222222,
             "#7201a8"
            ],
            [
             0.3333333333333333,
             "#9c179e"
            ],
            [
             0.4444444444444444,
             "#bd3786"
            ],
            [
             0.5555555555555556,
             "#d8576b"
            ],
            [
             0.6666666666666666,
             "#ed7953"
            ],
            [
             0.7777777777777778,
             "#fb9f3a"
            ],
            [
             0.8888888888888888,
             "#fdca26"
            ],
            [
             1,
             "#f0f921"
            ]
           ]
          },
          "colorway": [
           "#636efa",
           "#EF553B",
           "#00cc96",
           "#ab63fa",
           "#FFA15A",
           "#19d3f3",
           "#FF6692",
           "#B6E880",
           "#FF97FF",
           "#FECB52"
          ],
          "font": {
           "color": "#2a3f5f"
          },
          "geo": {
           "bgcolor": "white",
           "lakecolor": "white",
           "landcolor": "#E5ECF6",
           "showlakes": true,
           "showland": true,
           "subunitcolor": "white"
          },
          "hoverlabel": {
           "align": "left"
          },
          "hovermode": "closest",
          "mapbox": {
           "style": "light"
          },
          "paper_bgcolor": "white",
          "plot_bgcolor": "#E5ECF6",
          "polar": {
           "angularaxis": {
            "gridcolor": "white",
            "linecolor": "white",
            "ticks": ""
           },
           "bgcolor": "#E5ECF6",
           "radialaxis": {
            "gridcolor": "white",
            "linecolor": "white",
            "ticks": ""
           }
          },
          "scene": {
           "xaxis": {
            "backgroundcolor": "#E5ECF6",
            "gridcolor": "white",
            "gridwidth": 2,
            "linecolor": "white",
            "showbackground": true,
            "ticks": "",
            "zerolinecolor": "white"
           },
           "yaxis": {
            "backgroundcolor": "#E5ECF6",
            "gridcolor": "white",
            "gridwidth": 2,
            "linecolor": "white",
            "showbackground": true,
            "ticks": "",
            "zerolinecolor": "white"
           },
           "zaxis": {
            "backgroundcolor": "#E5ECF6",
            "gridcolor": "white",
            "gridwidth": 2,
            "linecolor": "white",
            "showbackground": true,
            "ticks": "",
            "zerolinecolor": "white"
           }
          },
          "shapedefaults": {
           "line": {
            "color": "#2a3f5f"
           }
          },
          "ternary": {
           "aaxis": {
            "gridcolor": "white",
            "linecolor": "white",
            "ticks": ""
           },
           "baxis": {
            "gridcolor": "white",
            "linecolor": "white",
            "ticks": ""
           },
           "bgcolor": "#E5ECF6",
           "caxis": {
            "gridcolor": "white",
            "linecolor": "white",
            "ticks": ""
           }
          },
          "title": {
           "x": 0.05
          },
          "xaxis": {
           "automargin": true,
           "gridcolor": "white",
           "linecolor": "white",
           "ticks": "",
           "title": {
            "standoff": 15
           },
           "zerolinecolor": "white",
           "zerolinewidth": 2
          },
          "yaxis": {
           "automargin": true,
           "gridcolor": "white",
           "linecolor": "white",
           "ticks": "",
           "title": {
            "standoff": 15
           },
           "zerolinecolor": "white",
           "zerolinewidth": 2
          }
         }
        },
        "title": {
         "text": "Predicción de Ventas"
        }
       }
      }
     },
     "metadata": {},
     "output_type": "display_data"
    }
   ],
   "source": [
    "next_month_predict(df, cantidad_meses=12)"
   ]
  }
 ],
 "metadata": {
  "kernelspec": {
   "display_name": "Python 3.9.6 ('Programacion_Cientifica')",
   "language": "python",
   "name": "python3"
  },
  "language_info": {
   "codemirror_mode": {
    "name": "ipython",
    "version": 3
   },
   "file_extension": ".py",
   "mimetype": "text/x-python",
   "name": "python",
   "nbconvert_exporter": "python",
   "pygments_lexer": "ipython3",
   "version": "3.9.6"
  },
  "orig_nbformat": 4,
  "vscode": {
   "interpreter": {
    "hash": "65e97ffa20fbdd895c76c3a1d2c2ade704754874d6e45df701862667e65d73d7"
   }
  }
 },
 "nbformat": 4,
 "nbformat_minor": 2
}
